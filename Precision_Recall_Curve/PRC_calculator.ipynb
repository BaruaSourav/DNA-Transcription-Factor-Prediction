{
 "cells": [
  {
   "cell_type": "markdown",
   "metadata": {},
   "source": [
    "# Calculating Precision and Recall for given confidence value and classes"
   ]
  },
  {
   "cell_type": "code",
   "execution_count": 2,
   "metadata": {},
   "outputs": [
    {
     "data": {
      "text/html": "<div>\n<style scoped>\n    .dataframe tbody tr th:only-of-type {\n        vertical-align: middle;\n    }\n\n    .dataframe tbody tr th {\n        vertical-align: top;\n    }\n\n    .dataframe thead th {\n        text-align: right;\n    }\n</style>\n<table border=\"1\" class=\"dataframe\">\n  <thead>\n    <tr style=\"text-align: right;\">\n      <th></th>\n      <th>Confidence Values</th>\n      <th>Actual Class</th>\n    </tr>\n  </thead>\n  <tbody>\n    <tr>\n      <td>0</td>\n      <td>0.108519</td>\n      <td>0</td>\n    </tr>\n    <tr>\n      <td>1</td>\n      <td>0.092539</td>\n      <td>0</td>\n    </tr>\n    <tr>\n      <td>2</td>\n      <td>0.132864</td>\n      <td>0</td>\n    </tr>\n    <tr>\n      <td>3</td>\n      <td>0.114694</td>\n      <td>0</td>\n    </tr>\n    <tr>\n      <td>4</td>\n      <td>0.107080</td>\n      <td>0</td>\n    </tr>\n    <tr>\n      <td>...</td>\n      <td>...</td>\n      <td>...</td>\n    </tr>\n    <tr>\n      <td>3004</td>\n      <td>0.683282</td>\n      <td>1</td>\n    </tr>\n    <tr>\n      <td>3005</td>\n      <td>0.779220</td>\n      <td>1</td>\n    </tr>\n    <tr>\n      <td>3006</td>\n      <td>0.550706</td>\n      <td>1</td>\n    </tr>\n    <tr>\n      <td>3007</td>\n      <td>0.806470</td>\n      <td>1</td>\n    </tr>\n    <tr>\n      <td>3008</td>\n      <td>0.476823</td>\n      <td>1</td>\n    </tr>\n  </tbody>\n</table>\n<p>3009 rows × 2 columns</p>\n</div>",
      "text/plain": "      Confidence Values  Actual Class\n0              0.108519             0\n1              0.092539             0\n2              0.132864             0\n3              0.114694             0\n4              0.107080             0\n...                 ...           ...\n3004           0.683282             1\n3005           0.779220             1\n3006           0.550706             1\n3007           0.806470             1\n3008           0.476823             1\n\n[3009 rows x 2 columns]"
     },
     "execution_count": 2,
     "metadata": {},
     "output_type": "execute_result"
    }
   ],
   "source": [
    "import pandas as pd \n",
    "import csv\n",
    "import sys\n",
    "import numpy as np\n",
    "import decimal \n",
    "import scipy.stats as stats\n",
    "\n",
    "class_predictions = pd.read_csv('A2_T2_input.txt',sep='\\t',header=None)\n",
    "class_predictions.columns = ['Confidence Values','Actual Class']\n",
    "class_predictions \n"
   ]
  },
  {
   "cell_type": "code",
   "execution_count": 3,
   "metadata": {},
   "outputs": [
    {
     "name": "stdout",
     "output_type": "stream",
     "text": "[0.4   0.425 0.45  0.475 0.5   0.525 0.55  0.575 0.6   0.625 0.65  0.675\n 0.7   0.725 0.75  0.775 0.8   0.825 0.85  0.875]\n0.4\n      Confidence Values  Actual Class  Predicted Class\n0              0.108519             0                0\n1              0.092539             0                0\n2              0.132864             0                0\n3              0.114694             0                0\n4              0.107080             0                0\n...                 ...           ...              ...\n3004           0.683282             1                1\n3005           0.779220             1                1\n3006           0.550706             1                1\n3007           0.806470             1                1\n3008           0.476823             1                1\n\n[3009 rows x 3 columns]\nPrecision :  0.6584362139917695\nRecall :  0.8488063660477454\n0.42500000000000004\n      Confidence Values  Actual Class  Predicted Class\n0              0.108519             0                0\n1              0.092539             0                0\n2              0.132864             0                0\n3              0.114694             0                0\n4              0.107080             0                0\n...                 ...           ...              ...\n3004           0.683282             1                1\n3005           0.779220             1                1\n3006           0.550706             1                1\n3007           0.806470             1                1\n3008           0.476823             1                1\n\n[3009 rows x 3 columns]\nPrecision :  0.6796959826275787\nRecall :  0.830238726790451\n0.45000000000000007\n      Confidence Values  Actual Class  Predicted Class\n0              0.108519             0                0\n1              0.092539             0                0\n2              0.132864             0                0\n3              0.114694             0                0\n4              0.107080             0                0\n...                 ...           ...              ...\n3004           0.683282             1                1\n3005           0.779220             1                1\n3006           0.550706             1                1\n3007           0.806470             1                1\n3008           0.476823             1                1\n\n[3009 rows x 3 columns]\nPrecision : 0.7020785219399538\nRecall :  0.8063660477453581\n0.4750000000000001\n      Confidence Values  Actual Class  Predicted Class\n0              0.108519             0                0\n1              0.092539             0                0\n2              0.132864             0                0\n3              0.114694             0                0\n4              0.107080             0                0\n...                 ...           ...              ...\n3004           0.683282             1                1\n3005           0.779220             1                1\n3006           0.550706             1                1\n3007           0.806470             1                1\n3008           0.476823             1                1\n\n[3009 rows x 3 columns]\nPrecision :  0.7254658385093168\nRecall :  0.7745358090185677\n0.5000000000000001\n      Confidence Values  Actual Class  Predicted Class\n0              0.108519             0                0\n1              0.092539             0                0\n2              0.132864             0                0\n3              0.114694             0                0\n4              0.107080             0                0\n...                 ...           ...              ...\n3004           0.683282             1                1\n3005           0.779220             1                1\n3006           0.550706             1                1\n3007           0.806470             1                1\n3008           0.476823             1                0\n\n[3009 rows x 3 columns]\nPrecision :  0.7516688918558078\nRecall :  0.746684350132626\n0.5250000000000001\n      Confidence Values  Actual Class  Predicted Class\n0              0.108519             0                0\n1              0.092539             0                0\n2              0.132864             0                0\n3              0.114694             0                0\n4              0.107080             0                0\n...                 ...           ...              ...\n3004           0.683282             1                1\n3005           0.779220             1                1\n3006           0.550706             1                1\n3007           0.806470             1                1\n3008           0.476823             1                0\n\n[3009 rows x 3 columns]\nPrecision :  0.7708029197080292\nRecall :  0.7002652519893899\n0.5500000000000002\n      Confidence Values  Actual Class  Predicted Class\n0              0.108519             0                0\n1              0.092539             0                0\n2              0.132864             0                0\n3              0.114694             0                0\n4              0.107080             0                0\n...                 ...           ...              ...\n3004           0.683282             1                1\n3005           0.779220             1                1\n3006           0.550706             1                1\n3007           0.806470             1                1\n3008           0.476823             1                0\n\n[3009 rows x 3 columns]\nPrecision :  0.7861635220125787\nRecall :  0.6631299734748011\n0.5750000000000002\n      Confidence Values  Actual Class  Predicted Class\n0              0.108519             0                0\n1              0.092539             0                0\n2              0.132864             0                0\n3              0.114694             0                0\n4              0.107080             0                0\n...                 ...           ...              ...\n3004           0.683282             1                1\n3005           0.779220             1                1\n3006           0.550706             1                0\n3007           0.806470             1                1\n3008           0.476823             1                0\n\n[3009 rows x 3 columns]\nPrecision :  0.8154657293497364\nRecall :  0.6153846153846154\n0.6000000000000002\n      Confidence Values  Actual Class  Predicted Class\n0              0.108519             0                0\n1              0.092539             0                0\n2              0.132864             0                0\n3              0.114694             0                0\n4              0.107080             0                0\n...                 ...           ...              ...\n3004           0.683282             1                1\n3005           0.779220             1                1\n3006           0.550706             1                0\n3007           0.806470             1                1\n3008           0.476823             1                0\n\n[3009 rows x 3 columns]\nPrecision :  0.8490196078431372\nRecall :  0.5742705570291777\n0.6250000000000002\n      Confidence Values  Actual Class  Predicted Class\n0              0.108519             0                0\n1              0.092539             0                0\n2              0.132864             0                0\n3              0.114694             0                0\n4              0.107080             0                0\n...                 ...           ...              ...\n3004           0.683282             1                1\n3005           0.779220             1                1\n3006           0.550706             1                0\n3007           0.806470             1                1\n3008           0.476823             1                0\n\n[3009 rows x 3 columns]\nPrecision :  0.8755458515283843\nRecall :  0.5318302387267905\n0.6500000000000002\n      Confidence Values  Actual Class  Predicted Class\n0              0.108519             0                0\n1              0.092539             0                0\n2              0.132864             0                0\n3              0.114694             0                0\n4              0.107080             0                0\n...                 ...           ...              ...\n3004           0.683282             1                1\n3005           0.779220             1                1\n3006           0.550706             1                0\n3007           0.806470             1                1\n3008           0.476823             1                0\n\n[3009 rows x 3 columns]\nPrecision :  0.9012048192771084\nRecall :  0.4960212201591512\n0.6750000000000003\n      Confidence Values  Actual Class  Predicted Class\n0              0.108519             0                0\n1              0.092539             0                0\n2              0.132864             0                0\n3              0.114694             0                0\n4              0.107080             0                0\n...                 ...           ...              ...\n3004           0.683282             1                1\n3005           0.779220             1                1\n3006           0.550706             1                0\n3007           0.806470             1                1\n3008           0.476823             1                0\n\n[3009 rows x 3 columns]\nPrecision :  0.9182561307901907\nRecall :  0.4469496021220159\n0.7000000000000003\n      Confidence Values  Actual Class  Predicted Class\n0              0.108519             0                0\n1              0.092539             0                0\n2              0.132864             0                0\n3              0.114694             0                0\n4              0.107080             0                0\n...                 ...           ...              ...\n3004           0.683282             1                0\n3005           0.779220             1                1\n3006           0.550706             1                0\n3007           0.806470             1                1\n3008           0.476823             1                0\n\n[3009 rows x 3 columns]\nPrecision :  0.9349112426035503\nRecall :  0.41909814323607425\n0.7250000000000003\n      Confidence Values  Actual Class  Predicted Class\n0              0.108519             0                0\n1              0.092539             0                0\n2              0.132864             0                0\n3              0.114694             0                0\n4              0.107080             0                0\n...                 ...           ...              ...\n3004           0.683282             1                0\n3005           0.779220             1                1\n3006           0.550706             1                0\n3007           0.806470             1                1\n3008           0.476823             1                0\n\n[3009 rows x 3 columns]\nPrecision :  0.94\nRecall :  0.3740053050397878\n0.7500000000000003\n      Confidence Values  Actual Class  Predicted Class\n0              0.108519             0                0\n1              0.092539             0                0\n2              0.132864             0                0\n3              0.114694             0                0\n4              0.107080             0                0\n...                 ...           ...              ...\n3004           0.683282             1                0\n3005           0.779220             1                1\n3006           0.550706             1                0\n3007           0.806470             1                1\n3008           0.476823             1                0\n\n[3009 rows x 3 columns]\nPrecision :  0.9589552238805971\nRecall :  0.34084880636604775\n0.7750000000000004\n      Confidence Values  Actual Class  Predicted Class\n0              0.108519             0                0\n1              0.092539             0                0\n2              0.132864             0                0\n3              0.114694             0                0\n4              0.107080             0                0\n...                 ...           ...              ...\n3004           0.683282             1                0\n3005           0.779220             1                1\n3006           0.550706             1                0\n3007           0.806470             1                1\n3008           0.476823             1                0\n\n[3009 rows x 3 columns]\nPrecision :  0.9691629955947136\nRecall :  0.2917771883289125\n0.8000000000000004\n      Confidence Values  Actual Class  Predicted Class\n0              0.108519             0                0\n1              0.092539             0                0\n2              0.132864             0                0\n3              0.114694             0                0\n4              0.107080             0                0\n...                 ...           ...              ...\n3004           0.683282             1                0\n3005           0.779220             1                0\n3006           0.550706             1                0\n3007           0.806470             1                1\n3008           0.476823             1                0\n\n[3009 rows x 3 columns]\nPrecision :  0.9939759036144579\nRecall :  0.21883289124668434\n0.8250000000000004\n      Confidence Values  Actual Class  Predicted Class\n0              0.108519             0                0\n1              0.092539             0                0\n2              0.132864             0                0\n3              0.114694             0                0\n4              0.107080             0                0\n...                 ...           ...              ...\n3004           0.683282             1                0\n3005           0.779220             1                0\n3006           0.550706             1                0\n3007           0.806470             1                0\n3008           0.476823             1                0\n\n[3009 rows x 3 columns]\nPrecision :  1.0\nRecall :  0.16843501326259946\n0.8500000000000004\n      Confidence Values  Actual Class  Predicted Class\n0              0.108519             0                0\n1              0.092539             0                0\n2              0.132864             0                0\n3              0.114694             0                0\n4              0.107080             0                0\n...                 ...           ...              ...\n3004           0.683282             1                0\n3005           0.779220             1                0\n3006           0.550706             1                0\n3007           0.806470             1                0\n3008           0.476823             1                0\n\n[3009 rows x 3 columns]\nPrecision :  1.0\nRecall :  0.11140583554376658\n0.8750000000000004\n      Confidence Values  Actual Class  Predicted Class\n0              0.108519             0                0\n1              0.092539             0                0\n2              0.132864             0                0\n3              0.114694             0                0\n4              0.107080             0                0\n...                 ...           ...              ...\n3004           0.683282             1                0\n3005           0.779220             1                0\n3006           0.550706             1                0\n3007           0.806470             1                0\n3008           0.476823             1                0\n\n[3009 rows x 3 columns]\nPrecision :  1.0\nRecall :  0.05968169761273209\n"
    },
    {
     "data": {
      "text/html": "<div>\n<style scoped>\n    .dataframe tbody tr th:only-of-type {\n        vertical-align: middle;\n    }\n\n    .dataframe tbody tr th {\n        vertical-align: top;\n    }\n\n    .dataframe thead th {\n        text-align: right;\n    }\n</style>\n<table border=\"1\" class=\"dataframe\">\n  <thead>\n    <tr style=\"text-align: right;\">\n      <th></th>\n      <th>Threshold</th>\n      <th>Precision</th>\n      <th>Recall</th>\n    </tr>\n  </thead>\n  <tbody>\n    <tr>\n      <td>0</td>\n      <td>0.400</td>\n      <td>0.658436</td>\n      <td>0.848806</td>\n    </tr>\n    <tr>\n      <td>1</td>\n      <td>0.425</td>\n      <td>0.679696</td>\n      <td>0.830239</td>\n    </tr>\n    <tr>\n      <td>2</td>\n      <td>0.450</td>\n      <td>0.702079</td>\n      <td>0.806366</td>\n    </tr>\n    <tr>\n      <td>3</td>\n      <td>0.475</td>\n      <td>0.725466</td>\n      <td>0.774536</td>\n    </tr>\n    <tr>\n      <td>4</td>\n      <td>0.500</td>\n      <td>0.751669</td>\n      <td>0.746684</td>\n    </tr>\n    <tr>\n      <td>5</td>\n      <td>0.525</td>\n      <td>0.770803</td>\n      <td>0.700265</td>\n    </tr>\n    <tr>\n      <td>6</td>\n      <td>0.550</td>\n      <td>0.786164</td>\n      <td>0.663130</td>\n    </tr>\n    <tr>\n      <td>7</td>\n      <td>0.575</td>\n      <td>0.815466</td>\n      <td>0.615385</td>\n    </tr>\n    <tr>\n      <td>8</td>\n      <td>0.600</td>\n      <td>0.849020</td>\n      <td>0.574271</td>\n    </tr>\n    <tr>\n      <td>9</td>\n      <td>0.625</td>\n      <td>0.875546</td>\n      <td>0.531830</td>\n    </tr>\n    <tr>\n      <td>10</td>\n      <td>0.650</td>\n      <td>0.901205</td>\n      <td>0.496021</td>\n    </tr>\n    <tr>\n      <td>11</td>\n      <td>0.675</td>\n      <td>0.918256</td>\n      <td>0.446950</td>\n    </tr>\n    <tr>\n      <td>12</td>\n      <td>0.700</td>\n      <td>0.934911</td>\n      <td>0.419098</td>\n    </tr>\n    <tr>\n      <td>13</td>\n      <td>0.725</td>\n      <td>0.940000</td>\n      <td>0.374005</td>\n    </tr>\n    <tr>\n      <td>14</td>\n      <td>0.750</td>\n      <td>0.958955</td>\n      <td>0.340849</td>\n    </tr>\n    <tr>\n      <td>15</td>\n      <td>0.775</td>\n      <td>0.969163</td>\n      <td>0.291777</td>\n    </tr>\n    <tr>\n      <td>16</td>\n      <td>0.800</td>\n      <td>0.993976</td>\n      <td>0.218833</td>\n    </tr>\n    <tr>\n      <td>17</td>\n      <td>0.825</td>\n      <td>1.000000</td>\n      <td>0.168435</td>\n    </tr>\n    <tr>\n      <td>18</td>\n      <td>0.850</td>\n      <td>1.000000</td>\n      <td>0.111406</td>\n    </tr>\n    <tr>\n      <td>19</td>\n      <td>0.875</td>\n      <td>1.000000</td>\n      <td>0.059682</td>\n    </tr>\n  </tbody>\n</table>\n</div>",
      "text/plain": "    Threshold  Precision    Recall\n0       0.400   0.658436  0.848806\n1       0.425   0.679696  0.830239\n2       0.450   0.702079  0.806366\n3       0.475   0.725466  0.774536\n4       0.500   0.751669  0.746684\n5       0.525   0.770803  0.700265\n6       0.550   0.786164  0.663130\n7       0.575   0.815466  0.615385\n8       0.600   0.849020  0.574271\n9       0.625   0.875546  0.531830\n10      0.650   0.901205  0.496021\n11      0.675   0.918256  0.446950\n12      0.700   0.934911  0.419098\n13      0.725   0.940000  0.374005\n14      0.750   0.958955  0.340849\n15      0.775   0.969163  0.291777\n16      0.800   0.993976  0.218833\n17      0.825   1.000000  0.168435\n18      0.850   1.000000  0.111406\n19      0.875   1.000000  0.059682"
     },
     "execution_count": 3,
     "metadata": {},
     "output_type": "execute_result"
    }
   ],
   "source": [
    "pr_pairs = pd.DataFrame(columns=['Threshold','Precision','Recall'])\n",
    "threshold_values = np.arange(0.4,0.9,0.025)\n",
    "print(threshold_values)\n",
    "for threshold in threshold_values:\n",
    "    print(threshold)\n",
    "    if 'Predicted Class' in class_predictions.columns:\n",
    "        class_predictions.drop('Predicted Class',axis=1, inplace = True)\n",
    "    class_predictions['Predicted Class'] = class_predictions.apply(lambda row: 1 if row['Confidence Values'] >=threshold else 0,axis=1)\n",
    "    print(class_predictions)\n",
    "    TP = len(class_predictions[(class_predictions['Predicted Class'] == 1) & (class_predictions['Actual Class'] == 1)])\n",
    "    FP = len(class_predictions[(class_predictions['Predicted Class'] == 1) & (class_predictions['Actual Class'] == 0)])\n",
    "    FN = len(class_predictions[(class_predictions['Predicted Class'] == 0) & (class_predictions['Actual Class'] == 1)])\n",
    "    precision = TP/(TP+FP)\n",
    "    recall = TP/(TP+FN)\n",
    "    pr_pair_row = pd.DataFrame([[threshold,precision,recall]], columns=['Threshold','Precision','Recall'])\n",
    "    pr_pairs = pr_pairs.append(pr_pair_row,ignore_index= True)\n",
    "    print('Precision : ',precision)\n",
    "    print('Recall : ', recall)\n",
    "pr_pairs"
   ]
  },
  {
   "cell_type": "code",
   "execution_count": 4,
   "metadata": {},
   "outputs": [
    {
     "data": {
      "text/html": "<div>\n<style scoped>\n    .dataframe tbody tr th:only-of-type {\n        vertical-align: middle;\n    }\n\n    .dataframe tbody tr th {\n        vertical-align: top;\n    }\n\n    .dataframe thead th {\n        text-align: right;\n    }\n</style>\n<table border=\"1\" class=\"dataframe\">\n  <thead>\n    <tr style=\"text-align: right;\">\n      <th></th>\n      <th>Threshold</th>\n      <th>Precision</th>\n      <th>Recall</th>\n    </tr>\n  </thead>\n  <tbody>\n    <tr>\n      <td>0</td>\n      <td>0.400</td>\n      <td>0.658436</td>\n      <td>0.848806</td>\n    </tr>\n    <tr>\n      <td>1</td>\n      <td>0.425</td>\n      <td>0.679696</td>\n      <td>0.830239</td>\n    </tr>\n    <tr>\n      <td>2</td>\n      <td>0.450</td>\n      <td>0.702079</td>\n      <td>0.806366</td>\n    </tr>\n    <tr>\n      <td>3</td>\n      <td>0.475</td>\n      <td>0.725466</td>\n      <td>0.774536</td>\n    </tr>\n    <tr>\n      <td>4</td>\n      <td>0.500</td>\n      <td>0.751669</td>\n      <td>0.746684</td>\n    </tr>\n    <tr>\n      <td>5</td>\n      <td>0.525</td>\n      <td>0.770803</td>\n      <td>0.700265</td>\n    </tr>\n    <tr>\n      <td>6</td>\n      <td>0.550</td>\n      <td>0.786164</td>\n      <td>0.663130</td>\n    </tr>\n    <tr>\n      <td>7</td>\n      <td>0.575</td>\n      <td>0.815466</td>\n      <td>0.615385</td>\n    </tr>\n    <tr>\n      <td>8</td>\n      <td>0.600</td>\n      <td>0.849020</td>\n      <td>0.574271</td>\n    </tr>\n    <tr>\n      <td>9</td>\n      <td>0.625</td>\n      <td>0.875546</td>\n      <td>0.531830</td>\n    </tr>\n    <tr>\n      <td>10</td>\n      <td>0.650</td>\n      <td>0.901205</td>\n      <td>0.496021</td>\n    </tr>\n    <tr>\n      <td>11</td>\n      <td>0.675</td>\n      <td>0.918256</td>\n      <td>0.446950</td>\n    </tr>\n    <tr>\n      <td>12</td>\n      <td>0.700</td>\n      <td>0.934911</td>\n      <td>0.419098</td>\n    </tr>\n    <tr>\n      <td>13</td>\n      <td>0.725</td>\n      <td>0.940000</td>\n      <td>0.374005</td>\n    </tr>\n    <tr>\n      <td>14</td>\n      <td>0.750</td>\n      <td>0.958955</td>\n      <td>0.340849</td>\n    </tr>\n    <tr>\n      <td>15</td>\n      <td>0.775</td>\n      <td>0.969163</td>\n      <td>0.291777</td>\n    </tr>\n    <tr>\n      <td>16</td>\n      <td>0.800</td>\n      <td>0.993976</td>\n      <td>0.218833</td>\n    </tr>\n    <tr>\n      <td>17</td>\n      <td>0.825</td>\n      <td>1.000000</td>\n      <td>0.168435</td>\n    </tr>\n    <tr>\n      <td>18</td>\n      <td>0.850</td>\n      <td>1.000000</td>\n      <td>0.111406</td>\n    </tr>\n    <tr>\n      <td>19</td>\n      <td>0.875</td>\n      <td>1.000000</td>\n      <td>0.059682</td>\n    </tr>\n  </tbody>\n</table>\n</div>",
      "text/plain": "    Threshold  Precision    Recall\n0       0.400   0.658436  0.848806\n1       0.425   0.679696  0.830239\n2       0.450   0.702079  0.806366\n3       0.475   0.725466  0.774536\n4       0.500   0.751669  0.746684\n5       0.525   0.770803  0.700265\n6       0.550   0.786164  0.663130\n7       0.575   0.815466  0.615385\n8       0.600   0.849020  0.574271\n9       0.625   0.875546  0.531830\n10      0.650   0.901205  0.496021\n11      0.675   0.918256  0.446950\n12      0.700   0.934911  0.419098\n13      0.725   0.940000  0.374005\n14      0.750   0.958955  0.340849\n15      0.775   0.969163  0.291777\n16      0.800   0.993976  0.218833\n17      0.825   1.000000  0.168435\n18      0.850   1.000000  0.111406\n19      0.875   1.000000  0.059682"
     },
     "execution_count": 4,
     "metadata": {},
     "output_type": "execute_result"
    }
   ],
   "source": [
    "pr_pairs"
   ]
  },
  {
   "cell_type": "code",
   "execution_count": 32,
   "metadata": {},
   "outputs": [
    {
     "data": {
      "application/vnd.plotly.v1+json": {
       "config": {
        "plotlyServerURL": "https://plot.ly"
       },
       "data": [
        {
         "line": {
          "shape": "vh"
         },
         "mode": "lines+markers",
         "text": "asdasd",
         "textposition": "top center",
         "type": "scatter",
         "x": [
          0.8488063660477454,
          0.830238726790451,
          0.8063660477453581,
          0.7745358090185677,
          0.746684350132626,
          0.7002652519893899,
          0.6631299734748011,
          0.6153846153846154,
          0.5742705570291777,
          0.5318302387267905,
          0.4960212201591512,
          0.4469496021220159,
          0.41909814323607425,
          0.3740053050397878,
          0.34084880636604775,
          0.2917771883289125,
          0.21883289124668434,
          0.16843501326259946,
          0.11140583554376658,
          0.05968169761273209
         ],
         "y": [
          0.6584362139917695,
          0.6796959826275787,
          0.7020785219399538,
          0.7254658385093168,
          0.7516688918558078,
          0.7708029197080292,
          0.7861635220125787,
          0.8154657293497364,
          0.8490196078431372,
          0.8755458515283843,
          0.9012048192771084,
          0.9182561307901907,
          0.9349112426035503,
          0.94,
          0.9589552238805971,
          0.9691629955947136,
          0.9939759036144579,
          1,
          1,
          1
         ]
        }
       ],
       "layout": {
        "font": {
         "color": "#7f7f7f",
         "size": 18
        },
        "height": 700,
        "margin": {
         "b": 20,
         "l": 20,
         "r": 150,
         "t": 150
        },
        "template": {
         "data": {
          "bar": [
           {
            "error_x": {
             "color": "#2a3f5f"
            },
            "error_y": {
             "color": "#2a3f5f"
            },
            "marker": {
             "line": {
              "color": "#E5ECF6",
              "width": 0.5
             }
            },
            "type": "bar"
           }
          ],
          "barpolar": [
           {
            "marker": {
             "line": {
              "color": "#E5ECF6",
              "width": 0.5
             }
            },
            "type": "barpolar"
           }
          ],
          "carpet": [
           {
            "aaxis": {
             "endlinecolor": "#2a3f5f",
             "gridcolor": "white",
             "linecolor": "white",
             "minorgridcolor": "white",
             "startlinecolor": "#2a3f5f"
            },
            "baxis": {
             "endlinecolor": "#2a3f5f",
             "gridcolor": "white",
             "linecolor": "white",
             "minorgridcolor": "white",
             "startlinecolor": "#2a3f5f"
            },
            "type": "carpet"
           }
          ],
          "choropleth": [
           {
            "colorbar": {
             "outlinewidth": 0,
             "ticks": ""
            },
            "type": "choropleth"
           }
          ],
          "contour": [
           {
            "colorbar": {
             "outlinewidth": 0,
             "ticks": ""
            },
            "colorscale": [
             [
              0,
              "#0d0887"
             ],
             [
              0.1111111111111111,
              "#46039f"
             ],
             [
              0.2222222222222222,
              "#7201a8"
             ],
             [
              0.3333333333333333,
              "#9c179e"
             ],
             [
              0.4444444444444444,
              "#bd3786"
             ],
             [
              0.5555555555555556,
              "#d8576b"
             ],
             [
              0.6666666666666666,
              "#ed7953"
             ],
             [
              0.7777777777777778,
              "#fb9f3a"
             ],
             [
              0.8888888888888888,
              "#fdca26"
             ],
             [
              1,
              "#f0f921"
             ]
            ],
            "type": "contour"
           }
          ],
          "contourcarpet": [
           {
            "colorbar": {
             "outlinewidth": 0,
             "ticks": ""
            },
            "type": "contourcarpet"
           }
          ],
          "heatmap": [
           {
            "colorbar": {
             "outlinewidth": 0,
             "ticks": ""
            },
            "colorscale": [
             [
              0,
              "#0d0887"
             ],
             [
              0.1111111111111111,
              "#46039f"
             ],
             [
              0.2222222222222222,
              "#7201a8"
             ],
             [
              0.3333333333333333,
              "#9c179e"
             ],
             [
              0.4444444444444444,
              "#bd3786"
             ],
             [
              0.5555555555555556,
              "#d8576b"
             ],
             [
              0.6666666666666666,
              "#ed7953"
             ],
             [
              0.7777777777777778,
              "#fb9f3a"
             ],
             [
              0.8888888888888888,
              "#fdca26"
             ],
             [
              1,
              "#f0f921"
             ]
            ],
            "type": "heatmap"
           }
          ],
          "heatmapgl": [
           {
            "colorbar": {
             "outlinewidth": 0,
             "ticks": ""
            },
            "colorscale": [
             [
              0,
              "#0d0887"
             ],
             [
              0.1111111111111111,
              "#46039f"
             ],
             [
              0.2222222222222222,
              "#7201a8"
             ],
             [
              0.3333333333333333,
              "#9c179e"
             ],
             [
              0.4444444444444444,
              "#bd3786"
             ],
             [
              0.5555555555555556,
              "#d8576b"
             ],
             [
              0.6666666666666666,
              "#ed7953"
             ],
             [
              0.7777777777777778,
              "#fb9f3a"
             ],
             [
              0.8888888888888888,
              "#fdca26"
             ],
             [
              1,
              "#f0f921"
             ]
            ],
            "type": "heatmapgl"
           }
          ],
          "histogram": [
           {
            "marker": {
             "colorbar": {
              "outlinewidth": 0,
              "ticks": ""
             }
            },
            "type": "histogram"
           }
          ],
          "histogram2d": [
           {
            "colorbar": {
             "outlinewidth": 0,
             "ticks": ""
            },
            "colorscale": [
             [
              0,
              "#0d0887"
             ],
             [
              0.1111111111111111,
              "#46039f"
             ],
             [
              0.2222222222222222,
              "#7201a8"
             ],
             [
              0.3333333333333333,
              "#9c179e"
             ],
             [
              0.4444444444444444,
              "#bd3786"
             ],
             [
              0.5555555555555556,
              "#d8576b"
             ],
             [
              0.6666666666666666,
              "#ed7953"
             ],
             [
              0.7777777777777778,
              "#fb9f3a"
             ],
             [
              0.8888888888888888,
              "#fdca26"
             ],
             [
              1,
              "#f0f921"
             ]
            ],
            "type": "histogram2d"
           }
          ],
          "histogram2dcontour": [
           {
            "colorbar": {
             "outlinewidth": 0,
             "ticks": ""
            },
            "colorscale": [
             [
              0,
              "#0d0887"
             ],
             [
              0.1111111111111111,
              "#46039f"
             ],
             [
              0.2222222222222222,
              "#7201a8"
             ],
             [
              0.3333333333333333,
              "#9c179e"
             ],
             [
              0.4444444444444444,
              "#bd3786"
             ],
             [
              0.5555555555555556,
              "#d8576b"
             ],
             [
              0.6666666666666666,
              "#ed7953"
             ],
             [
              0.7777777777777778,
              "#fb9f3a"
             ],
             [
              0.8888888888888888,
              "#fdca26"
             ],
             [
              1,
              "#f0f921"
             ]
            ],
            "type": "histogram2dcontour"
           }
          ],
          "mesh3d": [
           {
            "colorbar": {
             "outlinewidth": 0,
             "ticks": ""
            },
            "type": "mesh3d"
           }
          ],
          "parcoords": [
           {
            "line": {
             "colorbar": {
              "outlinewidth": 0,
              "ticks": ""
             }
            },
            "type": "parcoords"
           }
          ],
          "scatter": [
           {
            "marker": {
             "colorbar": {
              "outlinewidth": 0,
              "ticks": ""
             }
            },
            "type": "scatter"
           }
          ],
          "scatter3d": [
           {
            "line": {
             "colorbar": {
              "outlinewidth": 0,
              "ticks": ""
             }
            },
            "marker": {
             "colorbar": {
              "outlinewidth": 0,
              "ticks": ""
             }
            },
            "type": "scatter3d"
           }
          ],
          "scattercarpet": [
           {
            "marker": {
             "colorbar": {
              "outlinewidth": 0,
              "ticks": ""
             }
            },
            "type": "scattercarpet"
           }
          ],
          "scattergeo": [
           {
            "marker": {
             "colorbar": {
              "outlinewidth": 0,
              "ticks": ""
             }
            },
            "type": "scattergeo"
           }
          ],
          "scattergl": [
           {
            "marker": {
             "colorbar": {
              "outlinewidth": 0,
              "ticks": ""
             }
            },
            "type": "scattergl"
           }
          ],
          "scattermapbox": [
           {
            "marker": {
             "colorbar": {
              "outlinewidth": 0,
              "ticks": ""
             }
            },
            "type": "scattermapbox"
           }
          ],
          "scatterpolar": [
           {
            "marker": {
             "colorbar": {
              "outlinewidth": 0,
              "ticks": ""
             }
            },
            "type": "scatterpolar"
           }
          ],
          "scatterpolargl": [
           {
            "marker": {
             "colorbar": {
              "outlinewidth": 0,
              "ticks": ""
             }
            },
            "type": "scatterpolargl"
           }
          ],
          "scatterternary": [
           {
            "marker": {
             "colorbar": {
              "outlinewidth": 0,
              "ticks": ""
             }
            },
            "type": "scatterternary"
           }
          ],
          "surface": [
           {
            "colorbar": {
             "outlinewidth": 0,
             "ticks": ""
            },
            "colorscale": [
             [
              0,
              "#0d0887"
             ],
             [
              0.1111111111111111,
              "#46039f"
             ],
             [
              0.2222222222222222,
              "#7201a8"
             ],
             [
              0.3333333333333333,
              "#9c179e"
             ],
             [
              0.4444444444444444,
              "#bd3786"
             ],
             [
              0.5555555555555556,
              "#d8576b"
             ],
             [
              0.6666666666666666,
              "#ed7953"
             ],
             [
              0.7777777777777778,
              "#fb9f3a"
             ],
             [
              0.8888888888888888,
              "#fdca26"
             ],
             [
              1,
              "#f0f921"
             ]
            ],
            "type": "surface"
           }
          ],
          "table": [
           {
            "cells": {
             "fill": {
              "color": "#EBF0F8"
             },
             "line": {
              "color": "white"
             }
            },
            "header": {
             "fill": {
              "color": "#C8D4E3"
             },
             "line": {
              "color": "white"
             }
            },
            "type": "table"
           }
          ]
         },
         "layout": {
          "annotationdefaults": {
           "arrowcolor": "#2a3f5f",
           "arrowhead": 0,
           "arrowwidth": 1
          },
          "colorscale": {
           "diverging": [
            [
             0,
             "#8e0152"
            ],
            [
             0.1,
             "#c51b7d"
            ],
            [
             0.2,
             "#de77ae"
            ],
            [
             0.3,
             "#f1b6da"
            ],
            [
             0.4,
             "#fde0ef"
            ],
            [
             0.5,
             "#f7f7f7"
            ],
            [
             0.6,
             "#e6f5d0"
            ],
            [
             0.7,
             "#b8e186"
            ],
            [
             0.8,
             "#7fbc41"
            ],
            [
             0.9,
             "#4d9221"
            ],
            [
             1,
             "#276419"
            ]
           ],
           "sequential": [
            [
             0,
             "#0d0887"
            ],
            [
             0.1111111111111111,
             "#46039f"
            ],
            [
             0.2222222222222222,
             "#7201a8"
            ],
            [
             0.3333333333333333,
             "#9c179e"
            ],
            [
             0.4444444444444444,
             "#bd3786"
            ],
            [
             0.5555555555555556,
             "#d8576b"
            ],
            [
             0.6666666666666666,
             "#ed7953"
            ],
            [
             0.7777777777777778,
             "#fb9f3a"
            ],
            [
             0.8888888888888888,
             "#fdca26"
            ],
            [
             1,
             "#f0f921"
            ]
           ],
           "sequentialminus": [
            [
             0,
             "#0d0887"
            ],
            [
             0.1111111111111111,
             "#46039f"
            ],
            [
             0.2222222222222222,
             "#7201a8"
            ],
            [
             0.3333333333333333,
             "#9c179e"
            ],
            [
             0.4444444444444444,
             "#bd3786"
            ],
            [
             0.5555555555555556,
             "#d8576b"
            ],
            [
             0.6666666666666666,
             "#ed7953"
            ],
            [
             0.7777777777777778,
             "#fb9f3a"
            ],
            [
             0.8888888888888888,
             "#fdca26"
            ],
            [
             1,
             "#f0f921"
            ]
           ]
          },
          "colorway": [
           "#636efa",
           "#EF553B",
           "#00cc96",
           "#ab63fa",
           "#FFA15A",
           "#19d3f3",
           "#FF6692",
           "#B6E880",
           "#FF97FF",
           "#FECB52"
          ],
          "font": {
           "color": "#2a3f5f"
          },
          "geo": {
           "bgcolor": "white",
           "lakecolor": "white",
           "landcolor": "#E5ECF6",
           "showlakes": true,
           "showland": true,
           "subunitcolor": "white"
          },
          "hoverlabel": {
           "align": "left"
          },
          "hovermode": "closest",
          "mapbox": {
           "style": "light"
          },
          "paper_bgcolor": "white",
          "plot_bgcolor": "#E5ECF6",
          "polar": {
           "angularaxis": {
            "gridcolor": "white",
            "linecolor": "white",
            "ticks": ""
           },
           "bgcolor": "#E5ECF6",
           "radialaxis": {
            "gridcolor": "white",
            "linecolor": "white",
            "ticks": ""
           }
          },
          "scene": {
           "xaxis": {
            "backgroundcolor": "#E5ECF6",
            "gridcolor": "white",
            "gridwidth": 2,
            "linecolor": "white",
            "showbackground": true,
            "ticks": "",
            "zerolinecolor": "white"
           },
           "yaxis": {
            "backgroundcolor": "#E5ECF6",
            "gridcolor": "white",
            "gridwidth": 2,
            "linecolor": "white",
            "showbackground": true,
            "ticks": "",
            "zerolinecolor": "white"
           },
           "zaxis": {
            "backgroundcolor": "#E5ECF6",
            "gridcolor": "white",
            "gridwidth": 2,
            "linecolor": "white",
            "showbackground": true,
            "ticks": "",
            "zerolinecolor": "white"
           }
          },
          "shapedefaults": {
           "line": {
            "color": "#2a3f5f"
           }
          },
          "ternary": {
           "aaxis": {
            "gridcolor": "white",
            "linecolor": "white",
            "ticks": ""
           },
           "baxis": {
            "gridcolor": "white",
            "linecolor": "white",
            "ticks": ""
           },
           "bgcolor": "#E5ECF6",
           "caxis": {
            "gridcolor": "white",
            "linecolor": "white",
            "ticks": ""
           }
          },
          "title": {
           "x": 0.05
          },
          "xaxis": {
           "automargin": true,
           "gridcolor": "white",
           "linecolor": "white",
           "ticks": "",
           "zerolinecolor": "white",
           "zerolinewidth": 2
          },
          "yaxis": {
           "automargin": true,
           "gridcolor": "white",
           "linecolor": "white",
           "ticks": "",
           "zerolinecolor": "white",
           "zerolinewidth": 2
          }
         }
        },
        "title": {
         "text": "Precision - Recall Curve"
        },
        "width": 800,
        "xaxis": {
         "title": {
          "text": "Recall"
         }
        },
        "yaxis": {
         "title": {
          "text": "Precision"
         }
        }
       }
      }
     },
     "metadata": {},
     "output_type": "display_data"
    }
   ],
   "source": [
    "import plotly.express as px\n",
    "import plotly.graph_objects as go\n",
    "\n",
    "fig = go.Figure()\n",
    "\n",
    "fig.add_trace(\n",
    "    go.Scatter(\n",
    "        x = pr_pairs['Recall'],\n",
    "        y = pr_pairs['Precision'],\n",
    "        mode =\"lines+markers\",\n",
    "        line_shape='vh',\n",
    "        text='asdasd'\n",
    "    )\n",
    ")\n",
    "fig.update_traces(textposition='top center')\n",
    "fig.update_layout(\n",
    "    title=\"Precision - Recall Curve\",\n",
    "    margin=dict(l=20, r=150, t=150, b=20),\n",
    "    xaxis_title=\"Recall\",\n",
    "    yaxis_title=\"Precision\",\n",
    "    font=dict(\n",
    "        size=18,\n",
    "        color=\"#7f7f7f\"\n",
    "    ),\n",
    "    width=800,\n",
    "    height=700,\n",
    "    \n",
    ")\n",
    "\n",
    "fig.show()"
   ]
  },
  {
   "cell_type": "code",
   "execution_count": null,
   "metadata": {},
   "outputs": [],
   "source": []
  },
  {
   "cell_type": "code",
   "execution_count": null,
   "metadata": {},
   "outputs": [],
   "source": []
  }
 ],
 "metadata": {
  "kernelspec": {
   "display_name": "Python 3.7.1 64-bit ('User': virtualenv)",
   "language": "python",
   "name": "python37164bituservirtualenv9af67b555bc14d24bf748f7ef091ca48"
  },
  "language_info": {
   "codemirror_mode": {
    "name": "ipython",
    "version": 3
   },
   "file_extension": ".py",
   "mimetype": "text/x-python",
   "name": "python",
   "nbconvert_exporter": "python",
   "pygments_lexer": "ipython3",
   "version": "3.7.1-final"
  }
 },
 "nbformat": 4,
 "nbformat_minor": 2
}