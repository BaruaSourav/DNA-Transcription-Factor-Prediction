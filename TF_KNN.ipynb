{
 "cells": [
  {
   "cell_type": "code",
   "execution_count": 78,
   "metadata": {
    "scrolled": true
   },
   "outputs": [
    {
     "name": "stdout",
     "output_type": "stream",
     "text": [
      "C:\\Users\\User\\Anaconda3\\lib\\site-packages\\ipykernel_launcher.py\n",
      "-f\n",
      "C:\\Users\\User\\AppData\\Roaming\\jupyter\\runtime\\kernel-e20dcfea-4c45-47f1-82a4-eaf31aa32f6d.json\n"
     ]
    },
    {
     "name": "stderr",
     "output_type": "stream",
     "text": [
      "C:\\Users\\User\\Anaconda3\\lib\\site-packages\\ipykernel_launcher.py:87: SettingWithCopyWarning:\n",
      "\n",
      "\n",
      "A value is trying to be set on a copy of a slice from a DataFrame.\n",
      "Try using .loc[row_indexer,col_indexer] = value instead\n",
      "\n",
      "See the caveats in the documentation: http://pandas.pydata.org/pandas-docs/stable/user_guide/indexing.html#returning-a-view-versus-a-copy\n",
      "\n"
     ]
    }
   ],
   "source": [
    "import pandas as pd \n",
    "import csv\n",
    "import sys\n",
    "import plotly.express as px\n",
    "import scipy.stats as stats\n",
    "\n",
    "###########################\n",
    "## Preparing the primary data set\n",
    "###########################\n",
    "# df = pd.read_csv(\"TF_sequences.txt\",sep='\\t', lineterminator='\\n',header=None)\n",
    "# ## Preparing the X_unseen.txt and X_train.txt data\n",
    "# X_unseen = df.iloc[-30:] #splitting last 30 rows for the X_unseen.txt data \n",
    "# X_unseen.to_csv(\"X_unseen.txt\", sep=\"\\t\", header=False,index=False)\n",
    "# X_train = df.iloc[:-30] #splitting first 120 rows from the sequences\n",
    "# X_train.to_csv(\"X_train.txt\", sep=\"\\t\", header=False,index=False)\n",
    "\n",
    "# ## Preparing the Y_train.txt and Y_validation data\n",
    "# df = pd.read_csv(\"TF_output.txt\",sep='\\t', lineterminator='\\n')\n",
    "# df.rename(columns={\"Vsx1\\r\": \"Vsx1\"},inplace=True) #ughhh faulty column name\n",
    "# Y_validation = df.iloc[:, -30:] \n",
    "# Y_train = df.iloc[:,:-30]\n",
    "# print(Y_train.head(17))\n",
    "# Y_train.to_csv(\"Y_train.txt\", sep=\"\\t\", index=False,float_format='%.4f')\n",
    "# Y_validation.to_csv(\"Y_validation.txt\", sep=\"\\t\", index=False, float_format='%.4f')\n",
    "#####################################################################################\n",
    "\n",
    "\n",
    "# Calculate distance of two given amino acid sequences\n",
    "def CalculateDistance(aminoAcidSeq1, aminoAcidSeq2):\n",
    "    distance = 0\n",
    "    if aminoAcidSeq1[2] != aminoAcidSeq2[2]:\n",
    "        distance+=1\n",
    "    if aminoAcidSeq1[4] != aminoAcidSeq2[4]:\n",
    "        distance+=1\n",
    "    if aminoAcidSeq1[5] != aminoAcidSeq2[5]:\n",
    "        distance+=1\n",
    "    if aminoAcidSeq1[24] != aminoAcidSeq2[24]:\n",
    "        distance+=1\n",
    "    if aminoAcidSeq1[30] != aminoAcidSeq2[30]:\n",
    "        distance+=1\n",
    "    if aminoAcidSeq1[43] != aminoAcidSeq2[43]:\n",
    "        distance+=1\n",
    "    if aminoAcidSeq1[45] != aminoAcidSeq2[45]:\n",
    "        distance+=1\n",
    "    if aminoAcidSeq1[46] != aminoAcidSeq2[46]:\n",
    "        distance+=1\n",
    "    if aminoAcidSeq1[47] != aminoAcidSeq2[47]:\n",
    "        distance+=1\n",
    "    if aminoAcidSeq1[49] != aminoAcidSeq2[49]:\n",
    "        distance+=1\n",
    "    if aminoAcidSeq1[50] != aminoAcidSeq2[50]:\n",
    "        distance+=1\n",
    "    if aminoAcidSeq1[52] != aminoAcidSeq2[52]:\n",
    "        distance+=1\n",
    "    if aminoAcidSeq1[53] != aminoAcidSeq2[53]:\n",
    "        distance+=1\n",
    "    if aminoAcidSeq1[54] != aminoAcidSeq2[54]:\n",
    "        distance+=1\n",
    "    if aminoAcidSeq1[56] != aminoAcidSeq2[56]:\n",
    "        distance+=1\n",
    "    return distance\n",
    "# print(CalculateDistance(\"MLRRAVFSDVQRKALEKTFQKQKYISKPDRKKLASKLGLKDSQVKIWFQNRRMKWRN\",\"RKPRTIYSSYQLAALQRRFQKAQYLALPERAELAAQLGLTQTQVKIWFQNRRSKFKK\"))\n",
    "# print(\"Reading arguments\")\n",
    "for args in sys.argv:\n",
    "    #print(\"test\")\n",
    "    print(str(args))\n",
    "X_train = pd.read_csv(\"X_train.txt\",sep='\\t', lineterminator='\\n',header=None)\n",
    "Y_train = pd.read_csv(\"Y_train.txt\",sep='\\t', lineterminator='\\n')\n",
    "X_unseen = pd.read_csv(\"X_unseen.txt\",sep='\\t',lineterminator='\\n',header=None)\n",
    "Y_validation = pd.read_csv('Y_validation.txt',sep='\\t', lineterminator='\\n')\n",
    "\n",
    "\n",
    "#print(X_unseen.iloc[0,1])\n",
    "#print(X_train[1])\n",
    "for index,unseen_instance in X_unseen.iterrows():\n",
    "    #print(unseen_instance[0], unseen_instance[1])\n",
    "    if 'Distance' in X_train.columns:\n",
    "        X_train.drop(['Distance'],axis=1)\n",
    "    X_train['Distance'] = X_train.apply (lambda row: CalculateDistance(row[1],unseen_instance[1]), axis=1 )\n",
    "#CalculateDistance(X_train[1],X_unseen.iloc[0,1])\n",
    "    X_train = X_train.sort_values(by='Distance')\n",
    "    neighbours = X_train.head(5)[0]\n",
    "    #print(neighbours.tolist())\n",
    "    Y_train.rename(columns={\"Pou1f1\\r\": \"Pou1f1\"},inplace=True)\n",
    "    Y_train[neighbours.tolist()]\n",
    "    neighbour_vectors = Y_train[neighbours.tolist()]\n",
    "    neighbour_vectors['Mean']= neighbour_vectors.mean(axis=1)\n",
    "    neighbour_vectors['Mean']\n",
    "#print(Y_train[neighbours.tolist()])\n",
    "\n"
   ]
  },
  {
   "cell_type": "code",
   "execution_count": 79,
   "metadata": {},
   "outputs": [
    {
     "name": "stderr",
     "output_type": "stream",
     "text": [
      "C:\\Users\\User\\Anaconda3\\lib\\site-packages\\ipykernel_launcher.py:11: SettingWithCopyWarning:\n",
      "\n",
      "\n",
      "A value is trying to be set on a copy of a slice from a DataFrame.\n",
      "Try using .loc[row_indexer,col_indexer] = value instead\n",
      "\n",
      "See the caveats in the documentation: http://pandas.pydata.org/pandas-docs/stable/user_guide/indexing.html#returning-a-view-versus-a-copy\n",
      "\n"
     ]
    },
    {
     "name": "stdout",
     "output_type": "stream",
     "text": [
      "         Pou2f1    Pou2f2    Pou2f3    Pou3f1    Pou3f3    Pou3f4    Pou4f3  \\\n",
      "0      1.587307  1.646460  1.645253  1.688787  1.610753  1.723973  1.842973   \n",
      "1      0.899327  0.897420  0.786420  0.928073  0.815553  0.986333  0.960707   \n",
      "2      0.594753  0.673527  0.732307  0.780367  0.672040  0.688933  0.771100   \n",
      "3      1.858653  1.840133  2.026547  1.821713  1.958020  1.911247  2.017753   \n",
      "4      0.941280  1.015980  1.187100  0.858900  1.109100  1.038033  1.135793   \n",
      "...         ...       ...       ...       ...       ...       ...       ...   \n",
      "32891  0.505680  0.542293  0.515007  0.596073  0.525007  0.583800  0.583253   \n",
      "32892  0.446947  0.485567  0.395533  0.577100  0.355433  0.559100  0.412353   \n",
      "32893  1.633627  1.677120  1.658633  1.578280  1.559887  1.618020  1.705393   \n",
      "32894  0.964973  1.003707  1.072827  0.921980  0.997047  1.019873  0.753733   \n",
      "32895  2.490013  2.282100  2.067880  2.286473  2.083660  2.344953  2.024493   \n",
      "\n",
      "         Pou6f1     Prop1     Prrx1  ...      Tcf1      Tcf2     Tgif1  \\\n",
      "0      1.679173  1.490493  1.699407  ...  1.405647  1.151547  1.207060   \n",
      "1      1.002247  0.747147  0.987653  ...  0.863087  0.746053  0.429507   \n",
      "2      0.969433  0.943353  1.090253  ...  0.794047  0.685573  0.424480   \n",
      "3      1.964780  1.839800  2.023613  ...  1.664607  1.419880  1.336387   \n",
      "4      0.868287  1.000860  1.079413  ...  1.448207  1.446140  1.026180   \n",
      "...         ...       ...       ...  ...       ...       ...       ...   \n",
      "32891  0.541187  0.414627  0.553473  ...  0.692613  0.552380  0.595920   \n",
      "32892  0.355460  0.251207  0.452567  ...  0.415560  0.477867  1.450540   \n",
      "32893  1.354640  1.481553  1.688400  ...  1.534293  1.534053  1.490900   \n",
      "32894  0.775467  0.619000  0.702300  ...  0.547067  0.608807  0.506253   \n",
      "32895  1.805947  1.733153  1.973820  ...  1.936147  2.103220  1.640233   \n",
      "\n",
      "          Tgif2     Titf1      Tlx2   Uncx4.1      Vax1      Vax2      Vsx1  \n",
      "0      1.187140  1.653367  1.701633  1.599107  1.644247  1.644247  1.427753  \n",
      "1      0.416040  0.642053  0.677940  0.939273  0.889207  0.889207  0.676627  \n",
      "2      0.424433  0.473767  0.391160  1.088013  1.101467  1.101467  0.925487  \n",
      "3      1.339320  1.621260  1.667387  1.951460  1.871447  1.871447  1.712680  \n",
      "4      1.071827  1.094467  1.033873  1.001887  1.025907  1.025907  0.873507  \n",
      "...         ...       ...       ...       ...       ...       ...       ...  \n",
      "32891  0.579653  0.403447  0.517927  0.504960  0.497993  0.497993  0.359220  \n",
      "32892  1.422253  0.405480  0.284227  0.361047  0.083100  0.083100  0.322900  \n",
      "32893  1.490353  1.525840  1.680187  1.372933  1.353567  1.353567  1.288220  \n",
      "32894  0.479260  0.656687  1.128333  0.520140  0.588373  0.588373  0.492853  \n",
      "32895  1.618600  2.303907  2.614420  1.673840  1.526827  1.526827  1.641240  \n",
      "\n",
      "[32896 rows x 30 columns]\n"
     ]
    }
   ],
   "source": [
    "Y_predicted = pd.DataFrame()\n",
    "Y_train.rename(columns={\"Pou1f1\\r\": \"Pou1f1\"},inplace=True)\n",
    "Y_validation.rename(columns={\"Vsx1\\r\": \"Vsx1\"},inplace=True)\n",
    "for index,unseen_instance in X_unseen.iterrows():\n",
    "    X_train['Distance'] = X_train.apply (lambda row: CalculateDistance(row[1],unseen_instance[1]), axis=1 )\n",
    "    #CalculateDistance(X_train[1],X_unseen.iloc[0,1])\n",
    "    X_train = X_train.sort_values(by='Distance')\n",
    "    neighbours = X_train.head(15)[0]\n",
    "    # print(neighbours.tolist())\n",
    "    neighbour_vectors = Y_train[neighbours.tolist()]\n",
    "    neighbour_vectors['Mean']= neighbour_vectors.mean(axis=1)\n",
    "    #Y_predicted.index = neighbour_vectors.index\n",
    "    #Y_predicted[row[0]] = neighbour_vectors['Mean']\n",
    "    Y_predicted[unseen_instance[0]] = neighbour_vectors['Mean']\n",
    "    #print(neighbour_vectors)\n",
    "print(Y_predicted)\n",
    "#Y_predicted.to_csv(\"Y_predicted.txt\", sep=\"\\t\", index=False,float_format='%.4f')"
   ]
  },
  {
   "cell_type": "code",
   "execution_count": 101,
   "metadata": {},
   "outputs": [
    {
     "name": "stderr",
     "output_type": "stream",
     "text": [
      "C:\\Users\\User\\Anaconda3\\lib\\site-packages\\ipykernel_launcher.py:13: SettingWithCopyWarning:\n",
      "\n",
      "\n",
      "A value is trying to be set on a copy of a slice from a DataFrame.\n",
      "Try using .loc[row_indexer,col_indexer] = value instead\n",
      "\n",
      "See the caveats in the documentation: http://pandas.pydata.org/pandas-docs/stable/user_guide/indexing.html#returning-a-view-versus-a-copy\n",
      "\n"
     ]
    },
    {
     "name": "stdout",
     "output_type": "stream",
     "text": [
      "Pou2f1-0.8063985281146344\n",
      "Pou2f2-0.7667291089688952\n",
      "Pou2f3-0.6464181076797023\n",
      "Pou3f1-0.6387259282896324\n",
      "Pou3f3-0.6076863268631062\n",
      "Pou3f4-0.6956622523307814\n",
      "Pou4f3-0.6508777971101788\n",
      "Pou6f1-0.683405254529885\n",
      "Prop1-0.7509288769995534\n",
      "Prrx1-0.5989707934553247\n",
      "Prrx2-0.6499755682062844\n",
      "Rax-0.5496111892293392\n",
      "Rhox11-0.6351846656240695\n",
      "Rhox6-0.7988872650375053\n",
      "Shox2-0.6513489171670499\n",
      "Six1-0.5710709754842559\n",
      "Six2-0.5693214746880253\n",
      "Six3-0.43852040932936065\n",
      "Six4-0.5083316628102372\n",
      "Six6-0.4822691933063695\n",
      "Tcf1-0.535487363659478\n",
      "Tcf2-0.5975561567582319\n",
      "Tgif1-0.4006526716353005\n",
      "Tgif2-0.33475571339931576\n",
      "Titf1-0.4326449927952806\n",
      "Tlx2-0.7202554440086957\n",
      "Uncx4.1-0.8728138155627354\n",
      "Vax1-0.7645737061095694\n",
      "Vax2-0.7563290214169694\n",
      "Vsx1-0.6643123937358133\n",
      "   k  spearmans_coeff\n",
      "0  1          0.62599\n",
      "Mean Spearman's correlation coeff (rho) for k = 1 is 0.6259901858101861\n",
      "Pou2f1-0.7918492790714746\n",
      "Pou2f2-0.7530994749603971\n",
      "Pou2f3-0.7984054552421547\n",
      "Pou3f1-0.7952082173403497\n",
      "Pou3f3-0.7499288534835137\n",
      "Pou3f4-0.7320028713444168\n",
      "Pou4f3-0.8085644446516983\n",
      "Pou6f1-0.7295081681643321\n",
      "Prop1-0.7819846829266611\n",
      "Prrx1-0.7876746717334624\n",
      "Prrx2-0.8550422970894236\n",
      "Rax-0.6125240575046417\n",
      "Rhox11-0.644072954303282\n",
      "Rhox6-0.7805886816565653\n",
      "Shox2-0.7805655813842233\n",
      "Six1-0.57114809196014\n",
      "Six2-0.5960665571005663\n",
      "Six3-0.44782528205893424\n",
      "Six4-0.5625795907452535\n",
      "Six6-0.5999964818174273\n",
      "Tcf1-0.6369820759960684\n",
      "Tcf2-0.6600467941956374\n",
      "Tgif1-0.41038919674052793\n",
      "Tgif2-0.3480430647548781\n",
      "Titf1-0.6925024579299681\n",
      "Tlx2-0.7459732112883484\n",
      "Uncx4.1-0.8203730299143068\n",
      "Vax1-0.8375924057065739\n",
      "Vax2-0.7226604146630425\n",
      "Vsx1-0.7153481747542918\n",
      "   k  spearmans_coeff\n",
      "0  2         0.692285\n",
      "Mean Spearman's correlation coeff (rho) for k = 2 is 0.6922848840160855\n",
      "Pou2f1-0.8221737349567982\n",
      "Pou2f2-0.7810859769248415\n",
      "Pou2f3-0.824916403408704\n",
      "Pou3f1-0.8188853008897693\n",
      "Pou3f3-0.770229856703896\n",
      "Pou3f4-0.734415121791171\n",
      "Pou4f3-0.8332904494475366\n",
      "Pou6f1-0.8179352345996447\n",
      "Prop1-0.8073005038970203\n",
      "Prrx1-0.7832964056479143\n",
      "Prrx2-0.828141141612314\n",
      "Rax-0.6339561490386648\n",
      "Rhox11-0.6324493537872242\n",
      "Rhox6-0.7801078922402189\n",
      "Shox2-0.8231610018976643\n",
      "Six1-0.5727487400022875\n",
      "Six2-0.5946556669291805\n",
      "Six3-0.5168983582295964\n",
      "Six4-0.6122882913009702\n",
      "Six6-0.6516803310176424\n",
      "Tcf1-0.619222279561929\n",
      "Tcf2-0.6557722913930053\n",
      "Tgif1-0.6426585095727241\n",
      "Tgif2-0.41798233443038374\n",
      "Titf1-0.625112852755656\n",
      "Tlx2-0.7521518390312553\n",
      "Uncx4.1-0.7801858171682732\n",
      "Vax1-0.8128651375136076\n",
      "Vax2-0.7740668249464328\n",
      "Vsx1-0.7109496175074306\n",
      "   k  spearmans_coeff\n",
      "0  3         0.714353\n",
      "Mean Spearman's correlation coeff (rho) for k = 3 is 0.7143527806067921\n",
      "Pou2f1-0.8358531413115795\n",
      "Pou2f2-0.8097737037757867\n",
      "Pou2f3-0.8528227528228634\n",
      "Pou3f1-0.8500489384666274\n",
      "Pou3f3-0.8081874481074076\n",
      "Pou3f4-0.7302809224542902\n",
      "Pou4f3-0.846573667377913\n",
      "Pou6f1-0.8444262820610373\n",
      "Prop1-0.8063009159989177\n",
      "Prrx1-0.7959289390516124\n",
      "Prrx2-0.8618892138320796\n",
      "Rax-0.6435604528036191\n",
      "Rhox11-0.6410947198027491\n",
      "Rhox6-0.8328696762099003\n",
      "Shox2-0.7767950565201817\n",
      "Six1-0.579043327991899\n",
      "Six2-0.5952714740823069\n",
      "Six3-0.5771454933809167\n",
      "Six4-0.6159667972006866\n",
      "Six6-0.6861471213807242\n",
      "Tcf1-0.6397956844230552\n",
      "Tcf2-0.7449745847157078\n",
      "Tgif1-0.6335814177357921\n",
      "Tgif2-0.5261126050579934\n",
      "Titf1-0.5965407311270358\n",
      "Tlx2-0.796386503880898\n",
      "Uncx4.1-0.833733252168215\n",
      "Vax1-0.8617665472456948\n",
      "Vax2-0.7921246271965715\n",
      "Vsx1-0.7102679255037739\n",
      "   k  spearmans_coeff\n",
      "0  4         0.737509\n",
      "Mean Spearman's correlation coeff (rho) for k = 4 is 0.7375087974562612\n",
      "Pou2f1-0.8290398055777367\n",
      "Pou2f2-0.7874010386595617\n",
      "Pou2f3-0.8622712154303027\n",
      "Pou3f1-0.8613941051817259\n",
      "Pou3f3-0.8207030492394926\n",
      "Pou3f4-0.72658292570851\n",
      "Pou4f3-0.8615609785595203\n",
      "Pou6f1-0.833640195248584\n",
      "Prop1-0.8171510070324507\n",
      "Prrx1-0.8178882665516846\n",
      "Prrx2-0.8762520415233522\n",
      "Rax-0.6513875800997838\n",
      "Rhox11-0.6593594002966353\n",
      "Rhox6-0.8285898318846867\n",
      "Shox2-0.7242504339645097\n",
      "Six1-0.5815903537889878\n",
      "Six2-0.5549703049495345\n",
      "Six3-0.5474560477322769\n",
      "Six4-0.671541357075724\n",
      "Six6-0.6907427225411943\n",
      "Tcf1-0.7260404091353365\n",
      "Tcf2-0.7408271250922328\n",
      "Tgif1-0.748209671130127\n",
      "Tgif2-0.5909691276313224\n",
      "Titf1-0.5734490969084881\n",
      "Tlx2-0.8263931079419415\n",
      "Uncx4.1-0.886575882893158\n",
      "Vax1-0.8590229836249186\n",
      "Vax2-0.7613748508607069\n",
      "Vsx1-0.7344079960896099\n",
      "   k  spearmans_coeff\n",
      "0  5         0.748368\n",
      "Mean Spearman's correlation coeff (rho) for k = 5 is 0.74836809707847\n",
      "Pou2f1-0.841247622556774\n",
      "Pou2f2-0.8093035780956518\n",
      "Pou2f3-0.8596039819121108\n",
      "Pou3f1-0.8553631621230471\n",
      "Pou3f3-0.8161378775008852\n",
      "Pou3f4-0.736516082273937\n",
      "Pou4f3-0.8715719160459786\n",
      "Pou6f1-0.8096608564933703\n",
      "Prop1-0.825817085184048\n",
      "Prrx1-0.822845239140172\n",
      "Prrx2-0.8774692813421163\n",
      "Rax-0.6618476657272729\n",
      "Rhox11-0.6722658194151694\n",
      "Rhox6-0.82073148147639\n",
      "Shox2-0.8019418303467082\n",
      "Six1-0.5929243794586475\n",
      "Six2-0.5795753321288583\n",
      "Six3-0.6150032796948518\n",
      "Six4-0.5707506928720983\n",
      "Six6-0.7196942457501107\n",
      "Tcf1-0.6467979868373346\n",
      "Tcf2-0.7489386045651557\n",
      "Tgif1-0.7456148346166988\n",
      "Tgif2-0.6092242592348505\n",
      "Titf1-0.5510670940790111\n",
      "Tlx2-0.833795379162278\n",
      "Uncx4.1-0.8529178516680016\n",
      "Vax1-0.8480497210321843\n",
      "Vax2-0.7733193800899187\n",
      "Vsx1-0.7192060132026431\n",
      "   k  spearmans_coeff\n",
      "0  6          0.74964\n",
      "Mean Spearman's correlation coeff (rho) for k = 6 is 0.7496400844675424\n",
      "Pou2f1-0.843825805186077\n",
      "Pou2f2-0.8139694236479743\n",
      "Pou2f3-0.8709580523500705\n",
      "Pou3f1-0.8696905016301274\n",
      "Pou3f3-0.8291610283699297\n",
      "Pou3f4-0.7287496812910594\n",
      "Pou4f3-0.8673591393837787\n",
      "Pou6f1-0.8462445042189759\n",
      "Prop1-0.8230728753395697\n",
      "Prrx1-0.8214823349623362\n",
      "Prrx2-0.871861945663091\n",
      "Rax-0.658582215816787\n",
      "Rhox11-0.6613125465813042\n",
      "Rhox6-0.8385719178610441\n",
      "Shox2-0.8143064989591101\n",
      "Six1-0.588487796454114\n",
      "Six2-0.6109561726475158\n",
      "Six3-0.6062907091446308\n",
      "Six4-0.5673334242328999\n",
      "Six6-0.6932163437296059\n",
      "Tcf1-0.707749280150773\n",
      "Tcf2-0.7361305604528353\n",
      "Tgif1-0.759177046145227\n",
      "Tgif2-0.6233900008026435\n",
      "Titf1-0.5420155633957241\n",
      "Tlx2-0.830022735431029\n",
      "Uncx4.1-0.8471106775335836\n",
      "Vax1-0.85390579208232\n",
      "Vax2-0.7578349223762743\n",
      "Vsx1-0.7101970288379453\n",
      "   k  spearmans_coeff\n",
      "0  7         0.753099\n",
      "Mean Spearman's correlation coeff (rho) for k = 7 is 0.7530988841559452\n",
      "Pou2f1-0.8522551552618117\n",
      "Pou2f2-0.8157631789536901\n",
      "Pou2f3-0.8737602970068036\n",
      "Pou3f1-0.8724696843498603\n",
      "Pou3f3-0.8357828099200977\n",
      "Pou3f4-0.7303630533925582\n",
      "Pou4f3-0.8689033880253322\n",
      "Pou6f1-0.8245545308094495\n",
      "Prop1-0.8259893938959945\n",
      "Prrx1-0.8222850138388779\n",
      "Prrx2-0.869584948907226\n",
      "Rax-0.6608083734197417\n",
      "Rhox11-0.6691399765260327\n",
      "Rhox6-0.8556575019554858\n",
      "Shox2-0.824122519118605\n",
      "Six1-0.5838923740048494\n",
      "Six2-0.610135998615347\n",
      "Six3-0.6074079533975066\n",
      "Six4-0.5572698417980867\n",
      "Six6-0.710365251182376\n",
      "Tcf1-0.6540915159336451\n",
      "Tcf2-0.733326325655477\n",
      "Tgif1-0.7809430058464847\n",
      "Tgif2-0.6331951952409355\n",
      "Titf1-0.535281539972577\n",
      "Tlx2-0.835486789753343\n",
      "Uncx4.1-0.8608143684854843\n",
      "Vax1-0.8483701487296722\n",
      "Vax2-0.8020483818257184\n",
      "Vsx1-0.7221712478409167\n",
      "   k  spearmans_coeff\n",
      "0  8         0.755875\n",
      "Mean Spearman's correlation coeff (rho) for k = 8 is 0.7558746587887996\n",
      "Pou2f1-0.8531338007209734\n",
      "Pou2f2-0.8179719662393161\n",
      "Pou2f3-0.8682294707968897\n",
      "Pou3f1-0.8763736448325983\n",
      "Pou3f3-0.828008643284468\n",
      "Pou3f4-0.7295463580884078\n",
      "Pou4f3-0.8718190641335041\n",
      "Pou6f1-0.8167272885460292\n",
      "Prop1-0.8266546094629257\n",
      "Prrx1-0.8152745392955093\n",
      "Prrx2-0.8687796582378985\n",
      "Rax-0.6635164661532875\n",
      "Rhox11-0.6730093030572689\n",
      "Rhox6-0.8377713857676914\n",
      "Shox2-0.7885560734719012\n",
      "Six1-0.5352408722255312\n",
      "Six2-0.5779989818405528\n",
      "Six3-0.6120965402075602\n",
      "Six4-0.5487674582927664\n",
      "Six6-0.7048062413272372\n",
      "Tcf1-0.7010618217108071\n",
      "Tcf2-0.7371116237263674\n",
      "Tgif1-0.7682992628532475\n",
      "Tgif2-0.6279300184451673\n",
      "Titf1-0.5277418583045665\n",
      "Tlx2-0.8317615964353191\n",
      "Uncx4.1-0.8605895000351642\n",
      "Vax1-0.8509787981683692\n",
      "Vax2-0.7847764269136235\n",
      "Vsx1-0.6905839696606302\n",
      "   k  spearmans_coeff\n",
      "0  9         0.749837\n",
      "Mean Spearman's correlation coeff (rho) for k = 9 is 0.7498372414078526\n",
      "Pou2f1-0.8542397706988165\n",
      "Pou2f2-0.8186345020228363\n",
      "Pou2f3-0.8647275035307836\n",
      "Pou3f1-0.8702009330767495\n",
      "Pou3f3-0.8266238076745148\n",
      "Pou3f4-0.724225304675563\n",
      "Pou4f3-0.875231175312419\n",
      "Pou6f1-0.822141031244692\n",
      "Prop1-0.8131965848028379\n",
      "Prrx1-0.8034064419715459\n",
      "Prrx2-0.8755323756439575\n",
      "Rax-0.667619872371353\n",
      "Rhox11-0.6753954144355924\n",
      "Rhox6-0.8469196097823009\n",
      "Shox2-0.7993774223222715\n",
      "Six1-0.5494119380720225\n",
      "Six2-0.6109283291287941\n",
      "Six3-0.6145940465404933\n",
      "Six4-0.6059048878789763\n",
      "Six6-0.7140932978841266\n",
      "Tcf1-0.6939068269409446\n",
      "Tcf2-0.7334700336178355\n",
      "Tgif1-0.7501300676136732\n",
      "Tgif2-0.615858879572701\n",
      "Titf1-0.5272932143595803\n"
     ]
    },
    {
     "name": "stdout",
     "output_type": "stream",
     "text": [
      "Tlx2-0.8300047496034517\n",
      "Uncx4.1-0.8696472907678159\n",
      "Vax1-0.8597613979387495\n",
      "Vax2-0.771979419912097\n",
      "Vsx1-0.7298251590225515\n",
      "    k  spearmans_coeff\n",
      "0  10         0.753809\n",
      "Mean Spearman's correlation coeff (rho) for k = 10 is 0.7538093762806681\n",
      "Pou2f1-0.856548120112458\n",
      "Pou2f2-0.8187820210092797\n",
      "Pou2f3-0.877576077438101\n",
      "Pou3f1-0.8704041736180949\n",
      "Pou3f3-0.8444556021963753\n",
      "Pou3f4-0.7078170335275974\n",
      "Pou4f3-0.8713971999894383\n",
      "Pou6f1-0.8384216137942192\n",
      "Prop1-0.8142960797583725\n",
      "Prrx1-0.8279112789425267\n",
      "Prrx2-0.862050913054481\n",
      "Rax-0.6455192439437845\n",
      "Rhox11-0.667956398672868\n",
      "Rhox6-0.8435892378939769\n",
      "Shox2-0.8180001627873612\n",
      "Six1-0.5201895659789996\n",
      "Six2-0.6051571972903218\n",
      "Six3-0.6094006594160785\n",
      "Six4-0.6172036425519004\n",
      "Six6-0.711892132770771\n",
      "Tcf1-0.6949571700578169\n",
      "Tcf2-0.7356801479446623\n",
      "Tgif1-0.7290808173263905\n",
      "Tgif2-0.6008286809422381\n",
      "Titf1-0.5159970630523276\n",
      "Tlx2-0.8332094408460748\n",
      "Uncx4.1-0.8830940247562034\n",
      "Vax1-0.8340820563352088\n",
      "Vax2-0.7998678874577327\n",
      "Vsx1-0.7154873010661174\n",
      "    k  spearmans_coeff\n",
      "0  11         0.752362\n",
      "Mean Spearman's correlation coeff (rho) for k = 11 is 0.752361764817726\n",
      "Pou2f1-0.8595259895833761\n",
      "Pou2f2-0.8177416305067594\n",
      "Pou2f3-0.8687867562572327\n",
      "Pou3f1-0.8543399692192409\n",
      "Pou3f3-0.8319066239406575\n",
      "Pou3f4-0.7203679586667133\n",
      "Pou4f3-0.8782861643800135\n",
      "Pou6f1-0.7998520316119053\n",
      "Prop1-0.8214394915683086\n",
      "Prrx1-0.803866279309432\n",
      "Prrx2-0.8714754818514204\n",
      "Rax-0.647571250314388\n",
      "Rhox11-0.6678556293740479\n",
      "Rhox6-0.8478003678545315\n",
      "Shox2-0.8039039501165139\n",
      "Six1-0.5637869863095057\n",
      "Six2-0.6051112160674483\n",
      "Six3-0.5961053376785581\n",
      "Six4-0.568368879576941\n",
      "Six6-0.7118682866070599\n",
      "Tcf1-0.7043125225761822\n",
      "Tcf2-0.7170777776994963\n",
      "Tgif1-0.705868304524905\n",
      "Tgif2-0.5882431962763022\n",
      "Titf1-0.5186660024536686\n",
      "Tlx2-0.8328490384864969\n",
      "Uncx4.1-0.8917858338595874\n",
      "Vax1-0.852745415750271\n",
      "Vax2-0.7876498845577913\n",
      "Vsx1-0.7104783524561431\n",
      "    k  spearmans_coeff\n",
      "0  12         0.748321\n",
      "Mean Spearman's correlation coeff (rho) for k = 12 is 0.7483212203144965\n",
      "Pou2f1-0.8603516785442473\n",
      "Pou2f2-0.817918170645819\n",
      "Pou2f3-0.8838525966777886\n",
      "Pou3f1-0.8619423739426412\n",
      "Pou3f3-0.8142214242759683\n",
      "Pou3f4-0.7234698757097117\n",
      "Pou4f3-0.8766499211659702\n",
      "Pou6f1-0.8195532006773929\n",
      "Prop1-0.8148031397720776\n",
      "Prrx1-0.8081734048475644\n",
      "Prrx2-0.8749517175853779\n",
      "Rax-0.6432631944307026\n",
      "Rhox11-0.6751770152951277\n",
      "Rhox6-0.8460339373110548\n",
      "Shox2-0.8110466104300044\n",
      "Six1-0.559153813445734\n",
      "Six2-0.6074981128097314\n",
      "Six3-0.6137999280512441\n",
      "Six4-0.5354373327213819\n",
      "Six6-0.7098263439610458\n",
      "Tcf1-0.7022545633143119\n",
      "Tcf2-0.7346206768956951\n",
      "Tgif1-0.6877631814146592\n",
      "Tgif2-0.5746013765753573\n",
      "Titf1-0.5146605367627297\n",
      "Tlx2-0.8328224153561009\n",
      "Uncx4.1-0.8843466287538673\n",
      "Vax1-0.8540754342912303\n",
      "Vax2-0.7938358094936879\n",
      "Vsx1-0.7168580649399551\n",
      "    k  spearmans_coeff\n",
      "0  13         0.748432\n",
      "Mean Spearman's correlation coeff (rho) for k = 13 is 0.7484320826699395\n",
      "Pou2f1-0.8559853332710834\n",
      "Pou2f2-0.8172370381582638\n",
      "Pou2f3-0.8672630583062295\n",
      "Pou3f1-0.8753444222517726\n",
      "Pou3f3-0.8207008459855754\n",
      "Pou3f4-0.7223884016919632\n",
      "Pou4f3-0.8756677407716474\n",
      "Pou6f1-0.8118999005623905\n",
      "Prop1-0.8160335516054845\n",
      "Prrx1-0.8055217895722203\n",
      "Prrx2-0.8682328880312756\n",
      "Rax-0.6566842891246766\n",
      "Rhox11-0.6570162813802192\n",
      "Rhox6-0.8435512356019499\n",
      "Shox2-0.8218979675028937\n",
      "Six1-0.5517284416568742\n",
      "Six2-0.6051436481365067\n",
      "Six3-0.6088580724898011\n",
      "Six4-0.5589771022593868\n",
      "Six6-0.7138083201419191\n",
      "Tcf1-0.7101060934631724\n",
      "Tcf2-0.7324316660109669\n",
      "Tgif1-0.6735841231820112\n",
      "Tgif2-0.5591655486779502\n",
      "Titf1-0.5158621789329091\n",
      "Tlx2-0.8329909733408933\n",
      "Uncx4.1-0.8932188431541009\n",
      "Vax1-0.8561143976277612\n",
      "Vax2-0.8007360587747325\n",
      "Vsx1-0.7183957476573276\n",
      "    k  spearmans_coeff\n",
      "0  14         0.748218\n",
      "Mean Spearman's correlation coeff (rho) for k = 14 is 0.748218198644132\n",
      "Pou2f1-0.8560093719144795\n",
      "Pou2f2-0.8193953454077089\n",
      "Pou2f3-0.8658533729581326\n",
      "Pou3f1-0.8632808667064324\n",
      "Pou3f3-0.8253615699512576\n",
      "Pou3f4-0.7143621703604334\n",
      "Pou4f3-0.8704898315407871\n",
      "Pou6f1-0.8183770676770054\n",
      "Prop1-0.8128652748640695\n",
      "Prrx1-0.7969062472413635\n",
      "Prrx2-0.8744687265386594\n",
      "Rax-0.6497483049437055\n",
      "Rhox11-0.6512590265715514\n",
      "Rhox6-0.8397520111965874\n",
      "Shox2-0.8316720638455932\n",
      "Six1-0.5481942785781582\n",
      "Six2-0.6109995533506039\n",
      "Six3-0.6050507175437119\n",
      "Six4-0.5776314963960802\n",
      "Six6-0.7088539455126235\n",
      "Tcf1-0.7103317537392039\n",
      "Tcf2-0.7340573927024922\n",
      "Tgif1-0.6551793577475795\n",
      "Tgif2-0.541453269058797\n",
      "Titf1-0.5214464882533478\n",
      "Tlx2-0.8350677949021595\n",
      "Uncx4.1-0.8999850240824813\n",
      "Vax1-0.8482053487658224\n",
      "Vax2-0.8026433349777269\n",
      "Vsx1-0.7228102160119702\n",
      "    k  spearmans_coeff\n",
      "0  15         0.747057\n",
      "Mean Spearman's correlation coeff (rho) for k = 15 is 0.7470570407780175\n",
      "Pou2f1-0.8559858947504987\n",
      "Pou2f2-0.8070658340956166\n",
      "Pou2f3-0.8680094687365244\n",
      "Pou3f1-0.8525011695611021\n",
      "Pou3f3-0.8201083687657293\n",
      "Pou3f4-0.7031063931507107\n",
      "Pou4f3-0.868643167647527\n",
      "Pou6f1-0.823518010675121\n",
      "Prop1-0.8103068634859429\n",
      "Prrx1-0.7999930046518197\n",
      "Prrx2-0.877504676935702\n",
      "Rax-0.650835534696716\n",
      "Rhox11-0.6717592162500873\n",
      "Rhox6-0.8372769653093511\n",
      "Shox2-0.8287584083112354\n",
      "Six1-0.5508434083924538\n",
      "Six2-0.6085541349874393\n",
      "Six3-0.609444496580517\n",
      "Six4-0.5558408544309361\n",
      "Six6-0.7026334485661317\n",
      "Tcf1-0.6930336612787473\n",
      "Tcf2-0.7317673705877414\n",
      "Tgif1-0.6384448423890853\n",
      "Tgif2-0.5317506891303433\n",
      "Titf1-0.5119855539197278\n",
      "Tlx2-0.8288085139798173\n",
      "Uncx4.1-0.9012990021256646\n",
      "Vax1-0.8513983710119398\n",
      "Vax2-0.8058385012578435\n",
      "Vsx1-0.7230898427011024\n",
      "    k  spearmans_coeff\n",
      "0  16         0.744004\n",
      "Mean Spearman's correlation coeff (rho) for k = 16 is 0.7440035222787725\n",
      "Pou2f1-0.8563612854360263\n",
      "Pou2f2-0.8157912107290035\n",
      "Pou2f3-0.8814546610702719\n",
      "Pou3f1-0.8389374379892374\n",
      "Pou3f3-0.8320754300044279\n",
      "Pou3f4-0.6995012213947179\n",
      "Pou4f3-0.8622415630672123\n",
      "Pou6f1-0.8360278954108737\n",
      "Prop1-0.8094896331428201\n",
      "Prrx1-0.81211449645619\n",
      "Prrx2-0.8574885219694893\n",
      "Rax-0.6416360414899126\n",
      "Rhox11-0.6543120229262733\n",
      "Rhox6-0.8418503695431158\n",
      "Shox2-0.832074426909323\n",
      "Six1-0.5434489898224267\n",
      "Six2-0.6144189794396488\n",
      "Six3-0.6083935803454721\n",
      "Six4-0.5561355052710503\n",
      "Six6-0.7115092913695777\n",
      "Tcf1-0.7038140772365329\n",
      "Tcf2-0.7349889912899601\n",
      "Tgif1-0.6267368548036557\n",
      "Tgif2-0.5278048152057887\n",
      "Titf1-0.5145658244105188\n",
      "Tlx2-0.8309259269618927\n",
      "Uncx4.1-0.8930148372868856\n",
      "Vax1-0.8566432590798059\n",
      "Vax2-0.7976029036703665\n",
      "Vsx1-0.7264933484788775\n",
      "    k  spearmans_coeff\n",
      "0  17         0.743928\n",
      "Mean Spearman's correlation coeff (rho) for k = 17 is 0.7439284467403785\n",
      "Pou2f1-0.8501747281667033\n",
      "Pou2f2-0.8034048614133261\n",
      "Pou2f3-0.8747224663258443\n",
      "Pou3f1-0.8534477701801386\n",
      "Pou3f3-0.8207648631194693\n",
      "Pou3f4-0.7008274859362777\n",
      "Pou4f3-0.8620810364319043\n",
      "Pou6f1-0.8357263467852881\n",
      "Prop1-0.7978985448849999\n",
      "Prrx1-0.7950532960747514\n",
      "Prrx2-0.8637260180547549\n",
      "Rax-0.6374514084999231\n",
      "Rhox11-0.6583959714149464\n",
      "Rhox6-0.829646470215441\n",
      "Shox2-0.8468536878023997\n",
      "Six1-0.549593892874315\n",
      "Six2-0.6023389133286864\n",
      "Six3-0.6186996658114605\n",
      "Six4-0.5203546533890707\n",
      "Six6-0.7020807233420845\n",
      "Tcf1-0.69389709158729\n",
      "Tcf2-0.7365203731088606\n",
      "Tgif1-0.6214892200275811\n",
      "Tgif2-0.5108125262973258\n",
      "Titf1-0.5082821433721519\n",
      "Tlx2-0.8307019570157208\n",
      "Uncx4.1-0.9106396221461549\n",
      "Vax1-0.8621953910549871\n",
      "Vax2-0.802922985752347\n",
      "Vsx1-0.7266753697683707\n",
      "    k  spearmans_coeff\n",
      "0  18         0.740913\n",
      "Mean Spearman's correlation coeff (rho) for k = 18 is 0.7409126494727524\n",
      "Pou2f1-0.8503325774431431\n",
      "Pou2f2-0.8096613681713494\n",
      "Pou2f3-0.8798789738644875\n",
      "Pou3f1-0.8572214856442903\n",
      "Pou3f3-0.8265873241751818\n",
      "Pou3f4-0.7068611432974803\n",
      "Pou4f3-0.8620990190483859\n",
      "Pou6f1-0.84179799547205\n",
      "Prop1-0.8062518599445613\n",
      "Prrx1-0.7979856824159434\n",
      "Prrx2-0.8667355965974133\n",
      "Rax-0.6387461390613683\n",
      "Rhox11-0.6771145520491747\n",
      "Rhox6-0.8427860602278981\n",
      "Shox2-0.8441090427017254\n",
      "Six1-0.5447141423027797\n",
      "Six2-0.607353704987586\n",
      "Six3-0.6067731133356893\n",
      "Six4-0.5599959191104796\n",
      "Six6-0.7144665343405123\n",
      "Tcf1-0.7087594972369308\n",
      "Tcf2-0.7041292451814184\n",
      "Tgif1-0.6030310872485984\n",
      "Tgif2-0.4956501360348307\n",
      "Titf1-0.5038709406631932\n",
      "Tlx2-0.8309199708868318\n",
      "Uncx4.1-0.9058243545505232\n",
      "Vax1-0.8636781394328003\n",
      "Vax2-0.8051375218654592\n",
      "Vsx1-0.7232496934744481\n",
      "    k  spearmans_coeff\n",
      "0  19         0.742857\n",
      "Mean Spearman's correlation coeff (rho) for k = 19 is 0.7428574273588845\n",
      "Pou2f1-0.8514314397864067\n",
      "Pou2f2-0.8103851050850849\n",
      "Pou2f3-0.8776820328712878\n",
      "Pou3f1-0.8567683753713037\n",
      "Pou3f3-0.8181114575446196\n",
      "Pou3f4-0.7056627308961824\n",
      "Pou4f3-0.8685896448152111\n",
      "Pou6f1-0.8350668682520603\n",
      "Prop1-0.7966634420495236\n"
     ]
    },
    {
     "name": "stdout",
     "output_type": "stream",
     "text": [
      "Prrx1-0.7905191121802141\n",
      "Prrx2-0.8713611907114635\n",
      "Rax-0.6420075489055976\n",
      "Rhox11-0.6589378072367671\n",
      "Rhox6-0.844180272813905\n",
      "Shox2-0.845367142908831\n",
      "Six1-0.5437853966886586\n",
      "Six2-0.6038244594310841\n",
      "Six3-0.6238915137933204\n",
      "Six4-0.5447019333392776\n",
      "Six6-0.7140154445042227\n",
      "Tcf1-0.6879144299844171\n",
      "Tcf2-0.7189016626520578\n",
      "Tgif1-0.5822181546358491\n",
      "Tgif2-0.49255829882128677\n",
      "Titf1-0.4995028531695737\n",
      "Tlx2-0.8266697530989838\n",
      "Uncx4.1-0.9053666873117396\n",
      "Vax1-0.8675501209932222\n",
      "Vax2-0.8044875024374962\n",
      "Vsx1-0.7247147286704987\n",
      "    k  spearmans_coeff\n",
      "0  20         0.740428\n",
      "Mean Spearman's correlation coeff (rho) for k = 20 is 0.7404279036986716\n",
      "    k  spearmans_coeff\n",
      "0   1         0.625990\n",
      "0   2         0.692285\n",
      "0   3         0.714353\n",
      "0   4         0.737509\n",
      "0   5         0.748368\n",
      "0   6         0.749640\n",
      "0   7         0.753099\n",
      "0   8         0.755875\n",
      "0   9         0.749837\n",
      "0  10         0.753809\n",
      "0  11         0.752362\n",
      "0  12         0.748321\n",
      "0  13         0.748432\n",
      "0  14         0.748218\n",
      "0  15         0.747057\n",
      "0  16         0.744004\n",
      "0  17         0.743928\n",
      "0  18         0.740913\n",
      "0  19         0.742857\n",
      "0  20         0.740428\n"
     ]
    }
   ],
   "source": [
    "Y_predicted = pd.DataFrame()\n",
    "Y_train.rename(columns={\"Pou1f1\\r\": \"Pou1f1\"},inplace=True)\n",
    "Y_validation.rename(columns={\"Vsx1\\r\": \"Vsx1\"},inplace=True)\n",
    "spearmancoeff_vs_k = pd.DataFrame(columns=['k','spearmans_coeff'])\n",
    "for k in range(1,21): # for k = 1 to 20\n",
    "    for index,unseen_instance in X_unseen.iterrows():\n",
    "        X_train['Distance'] = X_train.apply (lambda row: CalculateDistance(row[1],unseen_instance[1]), axis=1 )\n",
    "        #CalculateDistance(X_train[1],X_unseen.iloc[0,1])\n",
    "        X_train = X_train.sort_values(by='Distance')\n",
    "        neighbours = X_train.head(k)[0]\n",
    "        # print(neighbours.tolist())\n",
    "        neighbour_vectors = Y_train[neighbours.tolist()]\n",
    "        neighbour_vectors['Mean']= neighbour_vectors.mean(axis=1)\n",
    "        #Y_predicted.index = neighbour_vectors.index\n",
    "        #Y_predicted[row[0]] = neighbour_vectors['Mean']\n",
    "        Y_predicted[unseen_instance[0]] = neighbour_vectors['Mean']\n",
    "        #print(neighbour_vectors)\n",
    "    #print(Y_predicted)\n",
    "    Y_predicted.to_csv(\"Y_predicted.txt\", sep=\"\\t\", index=False,float_format='%.4f')\n",
    "    #print(Y_validation.columns)\n",
    "    spearmans_corel = 0\n",
    "    for tf_name in Y_predicted.columns:\n",
    "        spearmans_corel+= stats.spearmanr(Y_validation[tf_name],Y_predicted[tf_name])[0]\n",
    "        print(tf_name +'-' + str(stats.spearmanr(Y_validation[tf_name],Y_predicted[tf_name])[0]))\n",
    "\n",
    "    mean_spearmans_corel = spearmans_corel/30\n",
    "    k_v_spearmanrow = pd.DataFrame([[k ,mean_spearmans_corel]],columns=['k','spearmans_coeff'])\n",
    "    print(k_v_spearmanrow)\n",
    "    spearmancoeff_vs_k = spearmancoeff_vs_k.append(k_v_spearmanrow,ignore_index=False)\n",
    "    #print(spearmancoeff_vs_k)\n",
    "    print('Mean Spearman\\'s correlation coeff (rho) for k = '+ str(k) + ' is '+ str(mean_spearmans_corel))\n",
    "    \n",
    "print(spearmancoeff_vs_k)"
   ]
  },
  {
   "cell_type": "code",
   "execution_count": 102,
   "metadata": {},
   "outputs": [
    {
     "data": {
      "application/vnd.plotly.v1+json": {
       "config": {
        "plotlyServerURL": "https://plot.ly"
       },
       "data": [
        {
         "hoverlabel": {
          "namelength": 0
         },
         "hovertemplate": "k=%{x}<br>spearmans_coeff=%{y}",
         "legendgroup": "",
         "marker": {
          "color": "#636efa",
          "symbol": "circle"
         },
         "mode": "markers",
         "name": "",
         "showlegend": false,
         "type": "scatter",
         "x": [
          1,
          2,
          3,
          4,
          5,
          6,
          7,
          8,
          9,
          10,
          11,
          12,
          13,
          14,
          15,
          16,
          17,
          18,
          19,
          20
         ],
         "xaxis": "x",
         "y": [
          0.6259901858101861,
          0.6922848840160855,
          0.7143527806067921,
          0.7375087974562612,
          0.74836809707847,
          0.7496400844675424,
          0.7530988841559452,
          0.7558746587887996,
          0.7498372414078526,
          0.7538093762806681,
          0.752361764817726,
          0.7483212203144965,
          0.7484320826699395,
          0.748218198644132,
          0.7470570407780175,
          0.7440035222787725,
          0.7439284467403785,
          0.7409126494727524,
          0.7428574273588845,
          0.7404279036986716
         ],
         "yaxis": "y"
        },
        {
         "hoverlabel": {
          "namelength": 0
         },
         "hovertemplate": "<b>LOWESS trendline</b><br><br>k=%{x}<br>spearmans_coeff=%{y} <b>(trend)</b>",
         "legendgroup": "",
         "marker": {
          "color": "#636efa",
          "symbol": "circle"
         },
         "mode": "lines",
         "name": "",
         "showlegend": false,
         "type": "scatter",
         "x": [
          1,
          2,
          3,
          4,
          5,
          6,
          7,
          8,
          9,
          10,
          11,
          12,
          13,
          14,
          15,
          16,
          17,
          18,
          19,
          20
         ],
         "xaxis": "x",
         "y": [
          0.7006825882064718,
          0.7079702471478264,
          0.7150796840911029,
          0.7220040540862375,
          0.7287999915432177,
          0.7357189520280542,
          0.7441002350542855,
          0.7514899100623736,
          0.7529541308806427,
          0.7519308812894613,
          0.7508992051284795,
          0.7498265353923383,
          0.7486653662550983,
          0.7474223998946941,
          0.7462023680247873,
          0.745023951249023,
          0.7438418206238562,
          0.7426556268052031,
          0.7414698362849935,
          0.7402927632966263
         ],
         "yaxis": "y"
        }
       ],
       "layout": {
        "height": 600,
        "legend": {
         "tracegroupgap": 0
        },
        "margin": {
         "t": 60
        },
        "template": {
         "data": {
          "bar": [
           {
            "error_x": {
             "color": "#2a3f5f"
            },
            "error_y": {
             "color": "#2a3f5f"
            },
            "marker": {
             "line": {
              "color": "#E5ECF6",
              "width": 0.5
             }
            },
            "type": "bar"
           }
          ],
          "barpolar": [
           {
            "marker": {
             "line": {
              "color": "#E5ECF6",
              "width": 0.5
             }
            },
            "type": "barpolar"
           }
          ],
          "carpet": [
           {
            "aaxis": {
             "endlinecolor": "#2a3f5f",
             "gridcolor": "white",
             "linecolor": "white",
             "minorgridcolor": "white",
             "startlinecolor": "#2a3f5f"
            },
            "baxis": {
             "endlinecolor": "#2a3f5f",
             "gridcolor": "white",
             "linecolor": "white",
             "minorgridcolor": "white",
             "startlinecolor": "#2a3f5f"
            },
            "type": "carpet"
           }
          ],
          "choropleth": [
           {
            "colorbar": {
             "outlinewidth": 0,
             "ticks": ""
            },
            "type": "choropleth"
           }
          ],
          "contour": [
           {
            "colorbar": {
             "outlinewidth": 0,
             "ticks": ""
            },
            "colorscale": [
             [
              0,
              "#0d0887"
             ],
             [
              0.1111111111111111,
              "#46039f"
             ],
             [
              0.2222222222222222,
              "#7201a8"
             ],
             [
              0.3333333333333333,
              "#9c179e"
             ],
             [
              0.4444444444444444,
              "#bd3786"
             ],
             [
              0.5555555555555556,
              "#d8576b"
             ],
             [
              0.6666666666666666,
              "#ed7953"
             ],
             [
              0.7777777777777778,
              "#fb9f3a"
             ],
             [
              0.8888888888888888,
              "#fdca26"
             ],
             [
              1,
              "#f0f921"
             ]
            ],
            "type": "contour"
           }
          ],
          "contourcarpet": [
           {
            "colorbar": {
             "outlinewidth": 0,
             "ticks": ""
            },
            "type": "contourcarpet"
           }
          ],
          "heatmap": [
           {
            "colorbar": {
             "outlinewidth": 0,
             "ticks": ""
            },
            "colorscale": [
             [
              0,
              "#0d0887"
             ],
             [
              0.1111111111111111,
              "#46039f"
             ],
             [
              0.2222222222222222,
              "#7201a8"
             ],
             [
              0.3333333333333333,
              "#9c179e"
             ],
             [
              0.4444444444444444,
              "#bd3786"
             ],
             [
              0.5555555555555556,
              "#d8576b"
             ],
             [
              0.6666666666666666,
              "#ed7953"
             ],
             [
              0.7777777777777778,
              "#fb9f3a"
             ],
             [
              0.8888888888888888,
              "#fdca26"
             ],
             [
              1,
              "#f0f921"
             ]
            ],
            "type": "heatmap"
           }
          ],
          "heatmapgl": [
           {
            "colorbar": {
             "outlinewidth": 0,
             "ticks": ""
            },
            "colorscale": [
             [
              0,
              "#0d0887"
             ],
             [
              0.1111111111111111,
              "#46039f"
             ],
             [
              0.2222222222222222,
              "#7201a8"
             ],
             [
              0.3333333333333333,
              "#9c179e"
             ],
             [
              0.4444444444444444,
              "#bd3786"
             ],
             [
              0.5555555555555556,
              "#d8576b"
             ],
             [
              0.6666666666666666,
              "#ed7953"
             ],
             [
              0.7777777777777778,
              "#fb9f3a"
             ],
             [
              0.8888888888888888,
              "#fdca26"
             ],
             [
              1,
              "#f0f921"
             ]
            ],
            "type": "heatmapgl"
           }
          ],
          "histogram": [
           {
            "marker": {
             "colorbar": {
              "outlinewidth": 0,
              "ticks": ""
             }
            },
            "type": "histogram"
           }
          ],
          "histogram2d": [
           {
            "colorbar": {
             "outlinewidth": 0,
             "ticks": ""
            },
            "colorscale": [
             [
              0,
              "#0d0887"
             ],
             [
              0.1111111111111111,
              "#46039f"
             ],
             [
              0.2222222222222222,
              "#7201a8"
             ],
             [
              0.3333333333333333,
              "#9c179e"
             ],
             [
              0.4444444444444444,
              "#bd3786"
             ],
             [
              0.5555555555555556,
              "#d8576b"
             ],
             [
              0.6666666666666666,
              "#ed7953"
             ],
             [
              0.7777777777777778,
              "#fb9f3a"
             ],
             [
              0.8888888888888888,
              "#fdca26"
             ],
             [
              1,
              "#f0f921"
             ]
            ],
            "type": "histogram2d"
           }
          ],
          "histogram2dcontour": [
           {
            "colorbar": {
             "outlinewidth": 0,
             "ticks": ""
            },
            "colorscale": [
             [
              0,
              "#0d0887"
             ],
             [
              0.1111111111111111,
              "#46039f"
             ],
             [
              0.2222222222222222,
              "#7201a8"
             ],
             [
              0.3333333333333333,
              "#9c179e"
             ],
             [
              0.4444444444444444,
              "#bd3786"
             ],
             [
              0.5555555555555556,
              "#d8576b"
             ],
             [
              0.6666666666666666,
              "#ed7953"
             ],
             [
              0.7777777777777778,
              "#fb9f3a"
             ],
             [
              0.8888888888888888,
              "#fdca26"
             ],
             [
              1,
              "#f0f921"
             ]
            ],
            "type": "histogram2dcontour"
           }
          ],
          "mesh3d": [
           {
            "colorbar": {
             "outlinewidth": 0,
             "ticks": ""
            },
            "type": "mesh3d"
           }
          ],
          "parcoords": [
           {
            "line": {
             "colorbar": {
              "outlinewidth": 0,
              "ticks": ""
             }
            },
            "type": "parcoords"
           }
          ],
          "scatter": [
           {
            "marker": {
             "colorbar": {
              "outlinewidth": 0,
              "ticks": ""
             }
            },
            "type": "scatter"
           }
          ],
          "scatter3d": [
           {
            "line": {
             "colorbar": {
              "outlinewidth": 0,
              "ticks": ""
             }
            },
            "marker": {
             "colorbar": {
              "outlinewidth": 0,
              "ticks": ""
             }
            },
            "type": "scatter3d"
           }
          ],
          "scattercarpet": [
           {
            "marker": {
             "colorbar": {
              "outlinewidth": 0,
              "ticks": ""
             }
            },
            "type": "scattercarpet"
           }
          ],
          "scattergeo": [
           {
            "marker": {
             "colorbar": {
              "outlinewidth": 0,
              "ticks": ""
             }
            },
            "type": "scattergeo"
           }
          ],
          "scattergl": [
           {
            "marker": {
             "colorbar": {
              "outlinewidth": 0,
              "ticks": ""
             }
            },
            "type": "scattergl"
           }
          ],
          "scattermapbox": [
           {
            "marker": {
             "colorbar": {
              "outlinewidth": 0,
              "ticks": ""
             }
            },
            "type": "scattermapbox"
           }
          ],
          "scatterpolar": [
           {
            "marker": {
             "colorbar": {
              "outlinewidth": 0,
              "ticks": ""
             }
            },
            "type": "scatterpolar"
           }
          ],
          "scatterpolargl": [
           {
            "marker": {
             "colorbar": {
              "outlinewidth": 0,
              "ticks": ""
             }
            },
            "type": "scatterpolargl"
           }
          ],
          "scatterternary": [
           {
            "marker": {
             "colorbar": {
              "outlinewidth": 0,
              "ticks": ""
             }
            },
            "type": "scatterternary"
           }
          ],
          "surface": [
           {
            "colorbar": {
             "outlinewidth": 0,
             "ticks": ""
            },
            "colorscale": [
             [
              0,
              "#0d0887"
             ],
             [
              0.1111111111111111,
              "#46039f"
             ],
             [
              0.2222222222222222,
              "#7201a8"
             ],
             [
              0.3333333333333333,
              "#9c179e"
             ],
             [
              0.4444444444444444,
              "#bd3786"
             ],
             [
              0.5555555555555556,
              "#d8576b"
             ],
             [
              0.6666666666666666,
              "#ed7953"
             ],
             [
              0.7777777777777778,
              "#fb9f3a"
             ],
             [
              0.8888888888888888,
              "#fdca26"
             ],
             [
              1,
              "#f0f921"
             ]
            ],
            "type": "surface"
           }
          ],
          "table": [
           {
            "cells": {
             "fill": {
              "color": "#EBF0F8"
             },
             "line": {
              "color": "white"
             }
            },
            "header": {
             "fill": {
              "color": "#C8D4E3"
             },
             "line": {
              "color": "white"
             }
            },
            "type": "table"
           }
          ]
         },
         "layout": {
          "annotationdefaults": {
           "arrowcolor": "#2a3f5f",
           "arrowhead": 0,
           "arrowwidth": 1
          },
          "colorscale": {
           "diverging": [
            [
             0,
             "#8e0152"
            ],
            [
             0.1,
             "#c51b7d"
            ],
            [
             0.2,
             "#de77ae"
            ],
            [
             0.3,
             "#f1b6da"
            ],
            [
             0.4,
             "#fde0ef"
            ],
            [
             0.5,
             "#f7f7f7"
            ],
            [
             0.6,
             "#e6f5d0"
            ],
            [
             0.7,
             "#b8e186"
            ],
            [
             0.8,
             "#7fbc41"
            ],
            [
             0.9,
             "#4d9221"
            ],
            [
             1,
             "#276419"
            ]
           ],
           "sequential": [
            [
             0,
             "#0d0887"
            ],
            [
             0.1111111111111111,
             "#46039f"
            ],
            [
             0.2222222222222222,
             "#7201a8"
            ],
            [
             0.3333333333333333,
             "#9c179e"
            ],
            [
             0.4444444444444444,
             "#bd3786"
            ],
            [
             0.5555555555555556,
             "#d8576b"
            ],
            [
             0.6666666666666666,
             "#ed7953"
            ],
            [
             0.7777777777777778,
             "#fb9f3a"
            ],
            [
             0.8888888888888888,
             "#fdca26"
            ],
            [
             1,
             "#f0f921"
            ]
           ],
           "sequentialminus": [
            [
             0,
             "#0d0887"
            ],
            [
             0.1111111111111111,
             "#46039f"
            ],
            [
             0.2222222222222222,
             "#7201a8"
            ],
            [
             0.3333333333333333,
             "#9c179e"
            ],
            [
             0.4444444444444444,
             "#bd3786"
            ],
            [
             0.5555555555555556,
             "#d8576b"
            ],
            [
             0.6666666666666666,
             "#ed7953"
            ],
            [
             0.7777777777777778,
             "#fb9f3a"
            ],
            [
             0.8888888888888888,
             "#fdca26"
            ],
            [
             1,
             "#f0f921"
            ]
           ]
          },
          "colorway": [
           "#636efa",
           "#EF553B",
           "#00cc96",
           "#ab63fa",
           "#FFA15A",
           "#19d3f3",
           "#FF6692",
           "#B6E880",
           "#FF97FF",
           "#FECB52"
          ],
          "font": {
           "color": "#2a3f5f"
          },
          "geo": {
           "bgcolor": "white",
           "lakecolor": "white",
           "landcolor": "#E5ECF6",
           "showlakes": true,
           "showland": true,
           "subunitcolor": "white"
          },
          "hoverlabel": {
           "align": "left"
          },
          "hovermode": "closest",
          "mapbox": {
           "style": "light"
          },
          "paper_bgcolor": "white",
          "plot_bgcolor": "#E5ECF6",
          "polar": {
           "angularaxis": {
            "gridcolor": "white",
            "linecolor": "white",
            "ticks": ""
           },
           "bgcolor": "#E5ECF6",
           "radialaxis": {
            "gridcolor": "white",
            "linecolor": "white",
            "ticks": ""
           }
          },
          "scene": {
           "xaxis": {
            "backgroundcolor": "#E5ECF6",
            "gridcolor": "white",
            "gridwidth": 2,
            "linecolor": "white",
            "showbackground": true,
            "ticks": "",
            "zerolinecolor": "white"
           },
           "yaxis": {
            "backgroundcolor": "#E5ECF6",
            "gridcolor": "white",
            "gridwidth": 2,
            "linecolor": "white",
            "showbackground": true,
            "ticks": "",
            "zerolinecolor": "white"
           },
           "zaxis": {
            "backgroundcolor": "#E5ECF6",
            "gridcolor": "white",
            "gridwidth": 2,
            "linecolor": "white",
            "showbackground": true,
            "ticks": "",
            "zerolinecolor": "white"
           }
          },
          "shapedefaults": {
           "line": {
            "color": "#2a3f5f"
           }
          },
          "ternary": {
           "aaxis": {
            "gridcolor": "white",
            "linecolor": "white",
            "ticks": ""
           },
           "baxis": {
            "gridcolor": "white",
            "linecolor": "white",
            "ticks": ""
           },
           "bgcolor": "#E5ECF6",
           "caxis": {
            "gridcolor": "white",
            "linecolor": "white",
            "ticks": ""
           }
          },
          "title": {
           "x": 0.05
          },
          "xaxis": {
           "automargin": true,
           "gridcolor": "white",
           "linecolor": "white",
           "ticks": "",
           "zerolinecolor": "white",
           "zerolinewidth": 2
          },
          "yaxis": {
           "automargin": true,
           "gridcolor": "white",
           "linecolor": "white",
           "ticks": "",
           "zerolinecolor": "white",
           "zerolinewidth": 2
          }
         }
        },
        "xaxis": {
         "anchor": "y",
         "domain": [
          0,
          0.98
         ],
         "title": {
          "text": "k"
         }
        },
        "yaxis": {
         "anchor": "x",
         "domain": [
          0,
          1
         ],
         "title": {
          "text": "spearmans_coeff"
         }
        }
       }
      },
      "text/html": [
       "<div>\n",
       "        \n",
       "        \n",
       "            <div id=\"e7193ba2-470a-4be3-a8d5-0964964ce47b\" class=\"plotly-graph-div\" style=\"height:600px; width:100%;\"></div>\n",
       "            <script type=\"text/javascript\">\n",
       "                require([\"plotly\"], function(Plotly) {\n",
       "                    window.PLOTLYENV=window.PLOTLYENV || {};\n",
       "                    \n",
       "                if (document.getElementById(\"e7193ba2-470a-4be3-a8d5-0964964ce47b\")) {\n",
       "                    Plotly.newPlot(\n",
       "                        'e7193ba2-470a-4be3-a8d5-0964964ce47b',\n",
       "                        [{\"hoverlabel\": {\"namelength\": 0}, \"hovertemplate\": \"k=%{x}<br>spearmans_coeff=%{y}\", \"legendgroup\": \"\", \"marker\": {\"color\": \"#636efa\", \"symbol\": \"circle\"}, \"mode\": \"markers\", \"name\": \"\", \"showlegend\": false, \"type\": \"scatter\", \"x\": [1, 2, 3, 4, 5, 6, 7, 8, 9, 10, 11, 12, 13, 14, 15, 16, 17, 18, 19, 20], \"xaxis\": \"x\", \"y\": [0.6259901858101861, 0.6922848840160855, 0.7143527806067921, 0.7375087974562612, 0.74836809707847, 0.7496400844675424, 0.7530988841559452, 0.7558746587887996, 0.7498372414078526, 0.7538093762806681, 0.752361764817726, 0.7483212203144965, 0.7484320826699395, 0.748218198644132, 0.7470570407780175, 0.7440035222787725, 0.7439284467403785, 0.7409126494727524, 0.7428574273588845, 0.7404279036986716], \"yaxis\": \"y\"}, {\"hoverlabel\": {\"namelength\": 0}, \"hovertemplate\": \"<b>LOWESS trendline</b><br><br>k=%{x}<br>spearmans_coeff=%{y} <b>(trend)</b>\", \"legendgroup\": \"\", \"marker\": {\"color\": \"#636efa\", \"symbol\": \"circle\"}, \"mode\": \"lines\", \"name\": \"\", \"showlegend\": false, \"type\": \"scatter\", \"x\": [1, 2, 3, 4, 5, 6, 7, 8, 9, 10, 11, 12, 13, 14, 15, 16, 17, 18, 19, 20], \"xaxis\": \"x\", \"y\": [0.7006825882064718, 0.7079702471478264, 0.7150796840911029, 0.7220040540862375, 0.7287999915432177, 0.7357189520280542, 0.7441002350542855, 0.7514899100623736, 0.7529541308806427, 0.7519308812894613, 0.7508992051284795, 0.7498265353923383, 0.7486653662550983, 0.7474223998946941, 0.7462023680247873, 0.745023951249023, 0.7438418206238562, 0.7426556268052031, 0.7414698362849935, 0.7402927632966263], \"yaxis\": \"y\"}],\n",
       "                        {\"height\": 600, \"legend\": {\"tracegroupgap\": 0}, \"margin\": {\"t\": 60}, \"template\": {\"data\": {\"bar\": [{\"error_x\": {\"color\": \"#2a3f5f\"}, \"error_y\": {\"color\": \"#2a3f5f\"}, \"marker\": {\"line\": {\"color\": \"#E5ECF6\", \"width\": 0.5}}, \"type\": \"bar\"}], \"barpolar\": [{\"marker\": {\"line\": {\"color\": \"#E5ECF6\", \"width\": 0.5}}, \"type\": \"barpolar\"}], \"carpet\": [{\"aaxis\": {\"endlinecolor\": \"#2a3f5f\", \"gridcolor\": \"white\", \"linecolor\": \"white\", \"minorgridcolor\": \"white\", \"startlinecolor\": \"#2a3f5f\"}, \"baxis\": {\"endlinecolor\": \"#2a3f5f\", \"gridcolor\": \"white\", \"linecolor\": \"white\", \"minorgridcolor\": \"white\", \"startlinecolor\": \"#2a3f5f\"}, \"type\": \"carpet\"}], \"choropleth\": [{\"colorbar\": {\"outlinewidth\": 0, \"ticks\": \"\"}, \"type\": \"choropleth\"}], \"contour\": [{\"colorbar\": {\"outlinewidth\": 0, \"ticks\": \"\"}, \"colorscale\": [[0.0, \"#0d0887\"], [0.1111111111111111, \"#46039f\"], [0.2222222222222222, \"#7201a8\"], [0.3333333333333333, \"#9c179e\"], [0.4444444444444444, \"#bd3786\"], [0.5555555555555556, \"#d8576b\"], [0.6666666666666666, \"#ed7953\"], [0.7777777777777778, \"#fb9f3a\"], [0.8888888888888888, \"#fdca26\"], [1.0, \"#f0f921\"]], \"type\": \"contour\"}], \"contourcarpet\": [{\"colorbar\": {\"outlinewidth\": 0, \"ticks\": \"\"}, \"type\": \"contourcarpet\"}], \"heatmap\": [{\"colorbar\": {\"outlinewidth\": 0, \"ticks\": \"\"}, \"colorscale\": [[0.0, \"#0d0887\"], [0.1111111111111111, \"#46039f\"], [0.2222222222222222, \"#7201a8\"], [0.3333333333333333, \"#9c179e\"], [0.4444444444444444, \"#bd3786\"], [0.5555555555555556, \"#d8576b\"], [0.6666666666666666, \"#ed7953\"], [0.7777777777777778, \"#fb9f3a\"], [0.8888888888888888, \"#fdca26\"], [1.0, \"#f0f921\"]], \"type\": \"heatmap\"}], \"heatmapgl\": [{\"colorbar\": {\"outlinewidth\": 0, \"ticks\": \"\"}, \"colorscale\": [[0.0, \"#0d0887\"], [0.1111111111111111, \"#46039f\"], [0.2222222222222222, \"#7201a8\"], [0.3333333333333333, \"#9c179e\"], [0.4444444444444444, \"#bd3786\"], [0.5555555555555556, \"#d8576b\"], [0.6666666666666666, \"#ed7953\"], [0.7777777777777778, \"#fb9f3a\"], [0.8888888888888888, \"#fdca26\"], [1.0, \"#f0f921\"]], \"type\": \"heatmapgl\"}], \"histogram\": [{\"marker\": {\"colorbar\": {\"outlinewidth\": 0, \"ticks\": \"\"}}, \"type\": \"histogram\"}], \"histogram2d\": [{\"colorbar\": {\"outlinewidth\": 0, \"ticks\": \"\"}, \"colorscale\": [[0.0, \"#0d0887\"], [0.1111111111111111, \"#46039f\"], [0.2222222222222222, \"#7201a8\"], [0.3333333333333333, \"#9c179e\"], [0.4444444444444444, \"#bd3786\"], [0.5555555555555556, \"#d8576b\"], [0.6666666666666666, \"#ed7953\"], [0.7777777777777778, \"#fb9f3a\"], [0.8888888888888888, \"#fdca26\"], [1.0, \"#f0f921\"]], \"type\": \"histogram2d\"}], \"histogram2dcontour\": [{\"colorbar\": {\"outlinewidth\": 0, \"ticks\": \"\"}, \"colorscale\": [[0.0, \"#0d0887\"], [0.1111111111111111, \"#46039f\"], [0.2222222222222222, \"#7201a8\"], [0.3333333333333333, \"#9c179e\"], [0.4444444444444444, \"#bd3786\"], [0.5555555555555556, \"#d8576b\"], [0.6666666666666666, \"#ed7953\"], [0.7777777777777778, \"#fb9f3a\"], [0.8888888888888888, \"#fdca26\"], [1.0, \"#f0f921\"]], \"type\": \"histogram2dcontour\"}], \"mesh3d\": [{\"colorbar\": {\"outlinewidth\": 0, \"ticks\": \"\"}, \"type\": \"mesh3d\"}], \"parcoords\": [{\"line\": {\"colorbar\": {\"outlinewidth\": 0, \"ticks\": \"\"}}, \"type\": \"parcoords\"}], \"scatter\": [{\"marker\": {\"colorbar\": {\"outlinewidth\": 0, \"ticks\": \"\"}}, \"type\": \"scatter\"}], \"scatter3d\": [{\"line\": {\"colorbar\": {\"outlinewidth\": 0, \"ticks\": \"\"}}, \"marker\": {\"colorbar\": {\"outlinewidth\": 0, \"ticks\": \"\"}}, \"type\": \"scatter3d\"}], \"scattercarpet\": [{\"marker\": {\"colorbar\": {\"outlinewidth\": 0, \"ticks\": \"\"}}, \"type\": \"scattercarpet\"}], \"scattergeo\": [{\"marker\": {\"colorbar\": {\"outlinewidth\": 0, \"ticks\": \"\"}}, \"type\": \"scattergeo\"}], \"scattergl\": [{\"marker\": {\"colorbar\": {\"outlinewidth\": 0, \"ticks\": \"\"}}, \"type\": \"scattergl\"}], \"scattermapbox\": [{\"marker\": {\"colorbar\": {\"outlinewidth\": 0, \"ticks\": \"\"}}, \"type\": \"scattermapbox\"}], \"scatterpolar\": [{\"marker\": {\"colorbar\": {\"outlinewidth\": 0, \"ticks\": \"\"}}, \"type\": \"scatterpolar\"}], \"scatterpolargl\": [{\"marker\": {\"colorbar\": {\"outlinewidth\": 0, \"ticks\": \"\"}}, \"type\": \"scatterpolargl\"}], \"scatterternary\": [{\"marker\": {\"colorbar\": {\"outlinewidth\": 0, \"ticks\": \"\"}}, \"type\": \"scatterternary\"}], \"surface\": [{\"colorbar\": {\"outlinewidth\": 0, \"ticks\": \"\"}, \"colorscale\": [[0.0, \"#0d0887\"], [0.1111111111111111, \"#46039f\"], [0.2222222222222222, \"#7201a8\"], [0.3333333333333333, \"#9c179e\"], [0.4444444444444444, \"#bd3786\"], [0.5555555555555556, \"#d8576b\"], [0.6666666666666666, \"#ed7953\"], [0.7777777777777778, \"#fb9f3a\"], [0.8888888888888888, \"#fdca26\"], [1.0, \"#f0f921\"]], \"type\": \"surface\"}], \"table\": [{\"cells\": {\"fill\": {\"color\": \"#EBF0F8\"}, \"line\": {\"color\": \"white\"}}, \"header\": {\"fill\": {\"color\": \"#C8D4E3\"}, \"line\": {\"color\": \"white\"}}, \"type\": \"table\"}]}, \"layout\": {\"annotationdefaults\": {\"arrowcolor\": \"#2a3f5f\", \"arrowhead\": 0, \"arrowwidth\": 1}, \"colorscale\": {\"diverging\": [[0, \"#8e0152\"], [0.1, \"#c51b7d\"], [0.2, \"#de77ae\"], [0.3, \"#f1b6da\"], [0.4, \"#fde0ef\"], [0.5, \"#f7f7f7\"], [0.6, \"#e6f5d0\"], [0.7, \"#b8e186\"], [0.8, \"#7fbc41\"], [0.9, \"#4d9221\"], [1, \"#276419\"]], \"sequential\": [[0.0, \"#0d0887\"], [0.1111111111111111, \"#46039f\"], [0.2222222222222222, \"#7201a8\"], [0.3333333333333333, \"#9c179e\"], [0.4444444444444444, \"#bd3786\"], [0.5555555555555556, \"#d8576b\"], [0.6666666666666666, \"#ed7953\"], [0.7777777777777778, \"#fb9f3a\"], [0.8888888888888888, \"#fdca26\"], [1.0, \"#f0f921\"]], \"sequentialminus\": [[0.0, \"#0d0887\"], [0.1111111111111111, \"#46039f\"], [0.2222222222222222, \"#7201a8\"], [0.3333333333333333, \"#9c179e\"], [0.4444444444444444, \"#bd3786\"], [0.5555555555555556, \"#d8576b\"], [0.6666666666666666, \"#ed7953\"], [0.7777777777777778, \"#fb9f3a\"], [0.8888888888888888, \"#fdca26\"], [1.0, \"#f0f921\"]]}, \"colorway\": [\"#636efa\", \"#EF553B\", \"#00cc96\", \"#ab63fa\", \"#FFA15A\", \"#19d3f3\", \"#FF6692\", \"#B6E880\", \"#FF97FF\", \"#FECB52\"], \"font\": {\"color\": \"#2a3f5f\"}, \"geo\": {\"bgcolor\": \"white\", \"lakecolor\": \"white\", \"landcolor\": \"#E5ECF6\", \"showlakes\": true, \"showland\": true, \"subunitcolor\": \"white\"}, \"hoverlabel\": {\"align\": \"left\"}, \"hovermode\": \"closest\", \"mapbox\": {\"style\": \"light\"}, \"paper_bgcolor\": \"white\", \"plot_bgcolor\": \"#E5ECF6\", \"polar\": {\"angularaxis\": {\"gridcolor\": \"white\", \"linecolor\": \"white\", \"ticks\": \"\"}, \"bgcolor\": \"#E5ECF6\", \"radialaxis\": {\"gridcolor\": \"white\", \"linecolor\": \"white\", \"ticks\": \"\"}}, \"scene\": {\"xaxis\": {\"backgroundcolor\": \"#E5ECF6\", \"gridcolor\": \"white\", \"gridwidth\": 2, \"linecolor\": \"white\", \"showbackground\": true, \"ticks\": \"\", \"zerolinecolor\": \"white\"}, \"yaxis\": {\"backgroundcolor\": \"#E5ECF6\", \"gridcolor\": \"white\", \"gridwidth\": 2, \"linecolor\": \"white\", \"showbackground\": true, \"ticks\": \"\", \"zerolinecolor\": \"white\"}, \"zaxis\": {\"backgroundcolor\": \"#E5ECF6\", \"gridcolor\": \"white\", \"gridwidth\": 2, \"linecolor\": \"white\", \"showbackground\": true, \"ticks\": \"\", \"zerolinecolor\": \"white\"}}, \"shapedefaults\": {\"line\": {\"color\": \"#2a3f5f\"}}, \"ternary\": {\"aaxis\": {\"gridcolor\": \"white\", \"linecolor\": \"white\", \"ticks\": \"\"}, \"baxis\": {\"gridcolor\": \"white\", \"linecolor\": \"white\", \"ticks\": \"\"}, \"bgcolor\": \"#E5ECF6\", \"caxis\": {\"gridcolor\": \"white\", \"linecolor\": \"white\", \"ticks\": \"\"}}, \"title\": {\"x\": 0.05}, \"xaxis\": {\"automargin\": true, \"gridcolor\": \"white\", \"linecolor\": \"white\", \"ticks\": \"\", \"zerolinecolor\": \"white\", \"zerolinewidth\": 2}, \"yaxis\": {\"automargin\": true, \"gridcolor\": \"white\", \"linecolor\": \"white\", \"ticks\": \"\", \"zerolinecolor\": \"white\", \"zerolinewidth\": 2}}}, \"xaxis\": {\"anchor\": \"y\", \"domain\": [0.0, 0.98], \"title\": {\"text\": \"k\"}}, \"yaxis\": {\"anchor\": \"x\", \"domain\": [0.0, 1.0], \"title\": {\"text\": \"spearmans_coeff\"}}},\n",
       "                        {\"responsive\": true}\n",
       "                    ).then(function(){\n",
       "                            \n",
       "var gd = document.getElementById('e7193ba2-470a-4be3-a8d5-0964964ce47b');\n",
       "var x = new MutationObserver(function (mutations, observer) {{\n",
       "        var display = window.getComputedStyle(gd).display;\n",
       "        if (!display || display === 'none') {{\n",
       "            console.log([gd, 'removed!']);\n",
       "            Plotly.purge(gd);\n",
       "            observer.disconnect();\n",
       "        }}\n",
       "}});\n",
       "\n",
       "// Listen for the removal of the full notebook cells\n",
       "var notebookContainer = gd.closest('#notebook-container');\n",
       "if (notebookContainer) {{\n",
       "    x.observe(notebookContainer, {childList: true});\n",
       "}}\n",
       "\n",
       "// Listen for the clearing of the current output cell\n",
       "var outputEl = gd.closest('.output');\n",
       "if (outputEl) {{\n",
       "    x.observe(outputEl, {childList: true});\n",
       "}}\n",
       "\n",
       "                        })\n",
       "                };\n",
       "                });\n",
       "            </script>\n",
       "        </div>"
      ]
     },
     "metadata": {},
     "output_type": "display_data"
    }
   ],
   "source": [
    "fig = px.scatter(spearmancoeff_vs_k,x=\"k\", y=\"spearmans_coeff\", trendline = 'lowess')\n",
    "fig.show()"
   ]
  },
  {
   "cell_type": "code",
   "execution_count": null,
   "metadata": {},
   "outputs": [],
   "source": []
  }
 ],
 "metadata": {
  "kernelspec": {
   "display_name": "Python 3",
   "language": "python",
   "name": "python3"
  },
  "language_info": {
   "codemirror_mode": {
    "name": "ipython",
    "version": 3
   },
   "file_extension": ".py",
   "mimetype": "text/x-python",
   "name": "python",
   "nbconvert_exporter": "python",
   "pygments_lexer": "ipython3",
   "version": "3.7.1"
  }
 },
 "nbformat": 4,
 "nbformat_minor": 2
}
