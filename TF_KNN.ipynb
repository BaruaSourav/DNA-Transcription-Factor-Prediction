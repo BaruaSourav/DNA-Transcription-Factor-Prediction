{
 "cells": [
  {
   "cell_type": "code",
   "execution_count": 78,
   "metadata": {
    "scrolled": true
   },
   "outputs": [
    {
     "name": "stdout",
     "output_type": "stream",
     "text": [
      "C:\\Users\\User\\Anaconda3\\lib\\site-packages\\ipykernel_launcher.py\n",
      "-f\n",
      "C:\\Users\\User\\AppData\\Roaming\\jupyter\\runtime\\kernel-e20dcfea-4c45-47f1-82a4-eaf31aa32f6d.json\n"
     ]
    },
    {
     "name": "stderr",
     "output_type": "stream",
     "text": [
      "C:\\Users\\User\\Anaconda3\\lib\\site-packages\\ipykernel_launcher.py:87: SettingWithCopyWarning:\n",
      "\n",
      "\n",
      "A value is trying to be set on a copy of a slice from a DataFrame.\n",
      "Try using .loc[row_indexer,col_indexer] = value instead\n",
      "\n",
      "See the caveats in the documentation: http://pandas.pydata.org/pandas-docs/stable/user_guide/indexing.html#returning-a-view-versus-a-copy\n",
      "\n"
     ]
    }
   ],
   "source": [
    "import pandas as pd \n",
    "import csv\n",
    "import sys\n",
    "import plotly.express as px\n",
    "import scipy.stats as stats\n",
    "\n",
    "###########################\n",
    "## Preparing the primary data set\n",
    "###########################\n",
    "# df = pd.read_csv(\"TF_sequences.txt\",sep='\\t', lineterminator='\\n',header=None)\n",
    "# ## Preparing the X_unseen.txt and X_train.txt data\n",
    "# X_unseen = df.iloc[-30:] #splitting last 30 rows for the X_unseen.txt data \n",
    "# X_unseen.to_csv(\"X_unseen.txt\", sep=\"\\t\", header=False,index=False)\n",
    "# X_train = df.iloc[:-30] #splitting first 120 rows from the sequences\n",
    "# X_train.to_csv(\"X_train.txt\", sep=\"\\t\", header=False,index=False)\n",
    "\n",
    "# ## Preparing the Y_train.txt and Y_validation data\n",
    "# df = pd.read_csv(\"TF_output.txt\",sep='\\t', lineterminator='\\n')\n",
    "# df.rename(columns={\"Vsx1\\r\": \"Vsx1\"},inplace=True) #ughhh faulty column name\n",
    "# Y_validation = df.iloc[:, -30:] \n",
    "# Y_train = df.iloc[:,:-30]\n",
    "# print(Y_train.head(17))\n",
    "# Y_train.to_csv(\"Y_train.txt\", sep=\"\\t\", index=False,float_format='%.4f')\n",
    "# Y_validation.to_csv(\"Y_validation.txt\", sep=\"\\t\", index=False, float_format='%.4f')\n",
    "#####################################################################################\n",
    "\n",
    "\n",
    "# Calculate distance of two given amino acid sequences\n",
    "def CalculateDistance(aminoAcidSeq1, aminoAcidSeq2):\n",
    "    distance = 0\n",
    "    if aminoAcidSeq1[2] != aminoAcidSeq2[2]:\n",
    "        distance+=1\n",
    "    if aminoAcidSeq1[4] != aminoAcidSeq2[4]:\n",
    "        distance+=1\n",
    "    if aminoAcidSeq1[5] != aminoAcidSeq2[5]:\n",
    "        distance+=1\n",
    "    if aminoAcidSeq1[24] != aminoAcidSeq2[24]:\n",
    "        distance+=1\n",
    "    if aminoAcidSeq1[30] != aminoAcidSeq2[30]:\n",
    "        distance+=1\n",
    "    if aminoAcidSeq1[43] != aminoAcidSeq2[43]:\n",
    "        distance+=1\n",
    "    if aminoAcidSeq1[45] != aminoAcidSeq2[45]:\n",
    "        distance+=1\n",
    "    if aminoAcidSeq1[46] != aminoAcidSeq2[46]:\n",
    "        distance+=1\n",
    "    if aminoAcidSeq1[47] != aminoAcidSeq2[47]:\n",
    "        distance+=1\n",
    "    if aminoAcidSeq1[49] != aminoAcidSeq2[49]:\n",
    "        distance+=1\n",
    "    if aminoAcidSeq1[50] != aminoAcidSeq2[50]:\n",
    "        distance+=1\n",
    "    if aminoAcidSeq1[52] != aminoAcidSeq2[52]:\n",
    "        distance+=1\n",
    "    if aminoAcidSeq1[53] != aminoAcidSeq2[53]:\n",
    "        distance+=1\n",
    "    if aminoAcidSeq1[54] != aminoAcidSeq2[54]:\n",
    "        distance+=1\n",
    "    if aminoAcidSeq1[56] != aminoAcidSeq2[56]:\n",
    "        distance+=1\n",
    "    return distance\n",
    "# print(CalculateDistance(\"MLRRAVFSDVQRKALEKTFQKQKYISKPDRKKLASKLGLKDSQVKIWFQNRRMKWRN\",\"RKPRTIYSSYQLAALQRRFQKAQYLALPERAELAAQLGLTQTQVKIWFQNRRSKFKK\"))\n",
    "# print(\"Reading arguments\")\n",
    "for args in sys.argv:\n",
    "    #print(\"test\")\n",
    "    print(str(args))\n",
    "X_train = pd.read_csv(\"X_train.txt\",sep='\\t', lineterminator='\\n',header=None)\n",
    "Y_train = pd.read_csv(\"Y_train.txt\",sep='\\t', lineterminator='\\n')\n",
    "X_unseen = pd.read_csv(\"X_unseen.txt\",sep='\\t',lineterminator='\\n',header=None)\n",
    "Y_validation = pd.read_csv('Y_validation.txt',sep='\\t', lineterminator='\\n')\n",
    "\n",
    "\n",
    "#print(X_unseen.iloc[0,1])\n",
    "#print(X_train[1])\n",
    "for index,unseen_instance in X_unseen.iterrows():\n",
    "    #print(unseen_instance[0], unseen_instance[1])\n",
    "    if 'Distance' in X_train.columns:\n",
    "        X_train.drop(['Distance'],axis=1)\n",
    "    X_train['Distance'] = X_train.apply (lambda row: CalculateDistance(row[1],unseen_instance[1]), axis=1 )\n",
    "#CalculateDistance(X_train[1],X_unseen.iloc[0,1])\n",
    "    X_train = X_train.sort_values(by='Distance')\n",
    "    neighbours = X_train.head(5)[0]\n",
    "    #print(neighbours.tolist())\n",
    "    Y_train.rename(columns={\"Pou1f1\\r\": \"Pou1f1\"},inplace=True)\n",
    "    Y_train[neighbours.tolist()]\n",
    "    neighbour_vectors = Y_train[neighbours.tolist()]\n",
    "    neighbour_vectors['Mean']= neighbour_vectors.mean(axis=1)\n",
    "    neighbour_vectors['Mean']\n",
    "#print(Y_train[neighbours.tolist()])\n",
    "\n"
   ]
  },
  {
   "cell_type": "code",
   "execution_count": 79,
   "metadata": {},
   "outputs": [
    {
     "name": "stderr",
     "output_type": "stream",
     "text": [
      "C:\\Users\\User\\Anaconda3\\lib\\site-packages\\ipykernel_launcher.py:11: SettingWithCopyWarning:\n",
      "\n",
      "\n",
      "A value is trying to be set on a copy of a slice from a DataFrame.\n",
      "Try using .loc[row_indexer,col_indexer] = value instead\n",
      "\n",
      "See the caveats in the documentation: http://pandas.pydata.org/pandas-docs/stable/user_guide/indexing.html#returning-a-view-versus-a-copy\n",
      "\n"
     ]
    },
    {
     "name": "stdout",
     "output_type": "stream",
     "text": [
      "         Pou2f1    Pou2f2    Pou2f3    Pou3f1    Pou3f3    Pou3f4    Pou4f3  \\\n",
      "0      1.587307  1.646460  1.645253  1.688787  1.610753  1.723973  1.842973   \n",
      "1      0.899327  0.897420  0.786420  0.928073  0.815553  0.986333  0.960707   \n",
      "2      0.594753  0.673527  0.732307  0.780367  0.672040  0.688933  0.771100   \n",
      "3      1.858653  1.840133  2.026547  1.821713  1.958020  1.911247  2.017753   \n",
      "4      0.941280  1.015980  1.187100  0.858900  1.109100  1.038033  1.135793   \n",
      "...         ...       ...       ...       ...       ...       ...       ...   \n",
      "32891  0.505680  0.542293  0.515007  0.596073  0.525007  0.583800  0.583253   \n",
      "32892  0.446947  0.485567  0.395533  0.577100  0.355433  0.559100  0.412353   \n",
      "32893  1.633627  1.677120  1.658633  1.578280  1.559887  1.618020  1.705393   \n",
      "32894  0.964973  1.003707  1.072827  0.921980  0.997047  1.019873  0.753733   \n",
      "32895  2.490013  2.282100  2.067880  2.286473  2.083660  2.344953  2.024493   \n",
      "\n",
      "         Pou6f1     Prop1     Prrx1  ...      Tcf1      Tcf2     Tgif1  \\\n",
      "0      1.679173  1.490493  1.699407  ...  1.405647  1.151547  1.207060   \n",
      "1      1.002247  0.747147  0.987653  ...  0.863087  0.746053  0.429507   \n",
      "2      0.969433  0.943353  1.090253  ...  0.794047  0.685573  0.424480   \n",
      "3      1.964780  1.839800  2.023613  ...  1.664607  1.419880  1.336387   \n",
      "4      0.868287  1.000860  1.079413  ...  1.448207  1.446140  1.026180   \n",
      "...         ...       ...       ...  ...       ...       ...       ...   \n",
      "32891  0.541187  0.414627  0.553473  ...  0.692613  0.552380  0.595920   \n",
      "32892  0.355460  0.251207  0.452567  ...  0.415560  0.477867  1.450540   \n",
      "32893  1.354640  1.481553  1.688400  ...  1.534293  1.534053  1.490900   \n",
      "32894  0.775467  0.619000  0.702300  ...  0.547067  0.608807  0.506253   \n",
      "32895  1.805947  1.733153  1.973820  ...  1.936147  2.103220  1.640233   \n",
      "\n",
      "          Tgif2     Titf1      Tlx2   Uncx4.1      Vax1      Vax2      Vsx1  \n",
      "0      1.187140  1.653367  1.701633  1.599107  1.644247  1.644247  1.427753  \n",
      "1      0.416040  0.642053  0.677940  0.939273  0.889207  0.889207  0.676627  \n",
      "2      0.424433  0.473767  0.391160  1.088013  1.101467  1.101467  0.925487  \n",
      "3      1.339320  1.621260  1.667387  1.951460  1.871447  1.871447  1.712680  \n",
      "4      1.071827  1.094467  1.033873  1.001887  1.025907  1.025907  0.873507  \n",
      "...         ...       ...       ...       ...       ...       ...       ...  \n",
      "32891  0.579653  0.403447  0.517927  0.504960  0.497993  0.497993  0.359220  \n",
      "32892  1.422253  0.405480  0.284227  0.361047  0.083100  0.083100  0.322900  \n",
      "32893  1.490353  1.525840  1.680187  1.372933  1.353567  1.353567  1.288220  \n",
      "32894  0.479260  0.656687  1.128333  0.520140  0.588373  0.588373  0.492853  \n",
      "32895  1.618600  2.303907  2.614420  1.673840  1.526827  1.526827  1.641240  \n",
      "\n",
      "[32896 rows x 30 columns]\n"
     ]
    }
   ],
   "source": [
    "Y_predicted = pd.DataFrame()\n",
    "Y_train.rename(columns={\"Pou1f1\\r\": \"Pou1f1\"},inplace=True)\n",
    "Y_validation.rename(columns={\"Vsx1\\r\": \"Vsx1\"},inplace=True)\n",
    "for index,unseen_instance in X_unseen.iterrows():\n",
    "    X_train['Distance'] = X_train.apply (lambda row: CalculateDistance(row[1],unseen_instance[1]), axis=1 )\n",
    "    #CalculateDistance(X_train[1],X_unseen.iloc[0,1])\n",
    "    X_train = X_train.sort_values(by='Distance')\n",
    "    neighbours = X_train.head(15)[0]\n",
    "    # print(neighbours.tolist())\n",
    "    neighbour_vectors = Y_train[neighbours.tolist()]\n",
    "    neighbour_vectors['Mean']= neighbour_vectors.mean(axis=1)\n",
    "    #Y_predicted.index = neighbour_vectors.index\n",
    "    #Y_predicted[row[0]] = neighbour_vectors['Mean']\n",
    "    Y_predicted[unseen_instance[0]] = neighbour_vectors['Mean']\n",
    "    #print(neighbour_vectors)\n",
    "print(Y_predicted)\n",
    "#Y_predicted.to_csv(\"Y_predicted.txt\", sep=\"\\t\", index=False,float_format='%.4f')"
   ]
  },
  {
   "cell_type": "code",
   "execution_count": 98,
   "metadata": {},
   "outputs": [
    {
     "name": "stderr",
     "output_type": "stream",
     "text": [
      "C:\\Users\\User\\Anaconda3\\lib\\site-packages\\ipykernel_launcher.py:13: SettingWithCopyWarning:\n",
      "\n",
      "\n",
      "A value is trying to be set on a copy of a slice from a DataFrame.\n",
      "Try using .loc[row_indexer,col_indexer] = value instead\n",
      "\n",
      "See the caveats in the documentation: http://pandas.pydata.org/pandas-docs/stable/user_guide/indexing.html#returning-a-view-versus-a-copy\n",
      "\n"
     ]
    },
    {
     "name": "stdout",
     "output_type": "stream",
     "text": [
      "Pou2f1-0.6647449495251356\n",
      "Pou2f2-0.6391254278317784\n",
      "Pou2f3-0.7808932735288051\n",
      "Pou3f1-0.7711030244322202\n",
      "Pou3f3-0.7195772750471339\n",
      "Pou3f4-0.6607182071627881\n",
      "Pou4f3-0.7736350898182688\n",
      "Pou6f1-0.683405254529885\n",
      "Prop1-0.7509288769995534\n",
      "Prrx1-0.7488512539011977\n",
      "Prrx2-0.7634673212213363\n",
      "Rax-0.5837415867494615\n",
      "Rhox11-0.6506514999699357\n",
      "Rhox6-0.7283003941298324\n",
      "Shox2-0.6513489171670499\n",
      "Six1-0.5710709754842559\n",
      "Six2-0.5693214746880253\n",
      "Six3-0.43852040932936065\n",
      "Six4-0.5083316628102372\n",
      "Six6-0.5839649300933659\n",
      "Tcf1-0.5736551941584769\n",
      "Tcf2-0.5975561567582319\n",
      "Tgif1-0.4006526716353005\n",
      "Tgif2-0.33475571339931576\n",
      "Titf1-0.4326449927952806\n",
      "Tlx2-0.7202554440086957\n",
      "Uncx4.1-0.6122810785856955\n",
      "Vax1-0.7645737061095694\n",
      "Vax2-0.7563290214169694\n",
      "Vsx1-0.6643123937358133\n",
      "   k  spearmans_coeff\n",
      "0  1         0.636624\n",
      "Mean Spearman's correlation coeff (rho) for k = 1 is 0.6366239392340991\n",
      "Pou2f1-0.8224109288311757\n",
      "Pou2f2-0.7788106388557318\n",
      "Pou2f3-0.8099749185932874\n",
      "Pou3f1-0.8062220175031181\n",
      "Pou3f3-0.7551138658835163\n",
      "Pou3f4-0.6603013700068416\n",
      "Pou4f3-0.8210308549454759\n",
      "Pou6f1-0.813436280562953\n",
      "Prop1-0.7773848986120084\n",
      "Prrx1-0.7876746717334624\n",
      "Prrx2-0.8550422970894236\n",
      "Rax-0.6125240575046417\n",
      "Rhox11-0.5943736060972205\n",
      "Rhox6-0.7750608566732405\n",
      "Shox2-0.6570827173330018\n",
      "Six1-0.5735476332966917\n",
      "Six2-0.5800049660888666\n",
      "Six3-0.44782528205893424\n",
      "Six4-0.6032322141412684\n",
      "Six6-0.5999964818174273\n",
      "Tcf1-0.7648535140327332\n",
      "Tcf2-0.6268096802970367\n",
      "Tgif1-0.41038919674052793\n",
      "Tgif2-0.3480430647548781\n",
      "Titf1-0.6925024579299681\n",
      "Tlx2-0.7459732112883484\n",
      "Uncx4.1-0.7957078892061427\n",
      "Vax1-0.8182177158147749\n",
      "Vax2-0.8027048818185273\n",
      "Vsx1-0.7153481747542918\n",
      "   k  spearmans_coeff\n",
      "0  2         0.695053\n",
      "Mean Spearman's correlation coeff (rho) for k = 2 is 0.6950533448088507\n",
      "Pou2f1-0.8221737256265399\n",
      "Pou2f2-0.7810859835082267\n",
      "Pou2f3-0.824916403408704\n",
      "Pou3f1-0.8188853008897693\n",
      "Pou3f3-0.770229856703896\n",
      "Pou3f4-0.734415121791171\n",
      "Pou4f3-0.8527778576297356\n",
      "Pou6f1-0.8205542744170851\n",
      "Prop1-0.8073005038970203\n",
      "Prrx1-0.7799097332744263\n",
      "Prrx2-0.8607866796076532\n",
      "Rax-0.6427353385419766\n",
      "Rhox11-0.6634535481746731\n",
      "Rhox6-0.8318211336301855\n",
      "Shox2-0.7474514512049766\n",
      "Six1-0.5727486598465397\n",
      "Six2-0.5946557456086069\n",
      "Six3-0.5168983582295964\n",
      "Six4-0.6122882913009702\n",
      "Six6-0.686601304924799\n",
      "Tcf1-0.6317565375125221\n",
      "Tcf2-0.6769691417347621\n",
      "Tgif1-0.6161192560040942\n",
      "Tgif2-0.41798233443038374\n",
      "Titf1-0.4467961315318972\n",
      "Tlx2-0.8080808798086906\n",
      "Uncx4.1-0.8618499575250397\n",
      "Vax1-0.8613101986053854\n",
      "Vax2-0.7705946857390368\n",
      "Vsx1-0.6887370514575112\n",
      "   k  spearmans_coeff\n",
      "0  3         0.717396\n",
      "Mean Spearman's correlation coeff (rho) for k = 3 is 0.7173961815521959\n",
      "Pou2f1-0.8265832985096628\n",
      "Pou2f2-0.7829693560429808\n",
      "Pou2f3-0.8488626818887761\n",
      "Pou3f1-0.8459023197062637\n",
      "Pou3f3-0.8001161336973508\n",
      "Pou3f4-0.7330885297476436\n",
      "Pou4f3-0.8465736927305099\n",
      "Pou6f1-0.8377311468401072\n",
      "Prop1-0.8071705794389502\n",
      "Prrx1-0.8067450003460115\n",
      "Prrx2-0.8491468418589931\n",
      "Rax-0.6435605118260807\n",
      "Rhox11-0.6582756540729612\n",
      "Rhox6-0.8256235404958275\n",
      "Shox2-0.8013570755751295\n",
      "Six1-0.5790432292649877\n",
      "Six2-0.5796941564630277\n",
      "Six3-0.580223339131665\n",
      "Six4-0.6159668297744167\n",
      "Six6-0.6662038316360934\n",
      "Tcf1-0.7224785296106842\n",
      "Tcf2-0.6460810613334179\n",
      "Tgif1-0.637876423890834\n",
      "Tgif2-0.5371319166442214\n",
      "Titf1-0.5965406778602093\n",
      "Tlx2-0.7953183198927017\n",
      "Uncx4.1-0.8053068099166532\n",
      "Vax1-0.8254918378075004\n",
      "Vax2-0.7402090982701119\n",
      "Vsx1-0.6642336809650766\n",
      "   k  spearmans_coeff\n",
      "0  4         0.730184\n",
      "Mean Spearman's correlation coeff (rho) for k = 4 is 0.7301835368412949\n",
      "Pou2f1-0.8290398613790382\n",
      "Pou2f2-0.7874011122966734\n",
      "Pou2f3-0.8604733620520124\n",
      "Pou3f1-0.8577779842201668\n",
      "Pou3f3-0.8186862793333793\n",
      "Pou3f4-0.7370784893705462\n",
      "Pou4f3-0.8520822654406933\n",
      "Pou6f1-0.813249719767718\n",
      "Prop1-0.806484031565749\n",
      "Prrx1-0.8178882699034032\n",
      "Prrx2-0.8762520146711709\n",
      "Rax-0.6474239002026494\n",
      "Rhox11-0.656288076527396\n",
      "Rhox6-0.8029513293935407\n",
      "Shox2-0.7202881949533931\n",
      "Six1-0.5790318909853939\n",
      "Six2-0.5808638768301331\n",
      "Six3-0.613362530795119\n",
      "Six4-0.5908608065133599\n",
      "Six6-0.7036805767309342\n",
      "Tcf1-0.6460027098271289\n",
      "Tcf2-0.680721149291103\n",
      "Tgif1-0.7429038608367703\n",
      "Tgif2-0.5821577675242412\n",
      "Titf1-0.5699175070090645\n",
      "Tlx2-0.816674395853522\n",
      "Uncx4.1-0.8198812279884299\n",
      "Vax1-0.8386909264137666\n",
      "Vax2-0.8022751460106876\n",
      "Vsx1-0.7467127957324827\n",
      "   k  spearmans_coeff\n",
      "0  5         0.739903\n",
      "Mean Spearman's correlation coeff (rho) for k = 5 is 0.7399034019806553\n",
      "Pou2f1-0.8412476794695805\n",
      "Pou2f2-0.8093036095461784\n",
      "Pou2f3-0.8634560587012737\n",
      "Pou3f1-0.8643638279402748\n",
      "Pou3f3-0.826951945957482\n",
      "Pou3f4-0.7294226123479157\n",
      "Pou4f3-0.8557922025993204\n",
      "Pou6f1-0.8451368130764211\n",
      "Prop1-0.8198703682097203\n",
      "Prrx1-0.8228451988807903\n",
      "Prrx2-0.877469334359244\n",
      "Rax-0.6511316806852507\n",
      "Rhox11-0.6837001892619123\n",
      "Rhox6-0.8091589783580435\n",
      "Shox2-0.7516952635602517\n",
      "Six1-0.5371097091517063\n",
      "Six2-0.6049474110783846\n",
      "Six3-0.5836276678795806\n",
      "Six4-0.5810745187776569\n",
      "Six6-0.7141863119762348\n",
      "Tcf1-0.6535818086783003\n",
      "Tcf2-0.6833349267872145\n",
      "Tgif1-0.7456148441822154\n",
      "Tgif2-0.6092243111609249\n",
      "Titf1-0.5666313780473241\n",
      "Tlx2-0.8297453373181198\n",
      "Uncx4.1-0.8529178908725257\n",
      "Vax1-0.8663750284213788\n",
      "Vax2-0.7333760842902253\n",
      "Vsx1-0.7347396818243696\n",
      "   k  spearmans_coeff\n",
      "0  6         0.744934\n",
      "Mean Spearman's correlation coeff (rho) for k = 6 is 0.7449344224466607\n",
      "Pou2f1-0.8488816740109172\n",
      "Pou2f2-0.8112767469334672\n",
      "Pou2f3-0.8709580286884121\n",
      "Pou3f1-0.8696905060947272\n",
      "Pou3f3-0.8291609765332292\n",
      "Pou3f4-0.728749730814728\n",
      "Pou4f3-0.8630995910905072\n",
      "Pou6f1-0.8335059831171846\n",
      "Prop1-0.8230728700797794\n",
      "Prrx1-0.8214822394247422\n",
      "Prrx2-0.875061285918082\n",
      "Rax-0.6564524998761674\n",
      "Rhox11-0.6776634020104744\n",
      "Rhox6-0.8280703062786434\n",
      "Shox2-0.8138556377449941\n",
      "Six1-0.5215076149228614\n",
      "Six2-0.6278622156850233\n",
      "Six3-0.6119275702680755\n",
      "Six4-0.5738256522668567\n",
      "Six6-0.7147579847634541\n",
      "Tcf1-0.6446486745990164\n",
      "Tcf2-0.6778201320092794\n",
      "Tgif1-0.7591770660934315\n",
      "Tgif2-0.6233900323292911\n",
      "Titf1-0.5555483447795148\n",
      "Tlx2-0.8291674173738197\n",
      "Uncx4.1-0.8362779611495819\n",
      "Vax1-0.849786298876375\n",
      "Vax2-0.7593760996330464\n",
      "Vsx1-0.689318023654777\n",
      "   k  spearmans_coeff\n",
      "0  7         0.747512\n",
      "Mean Spearman's correlation coeff (rho) for k = 7 is 0.747512418900682\n",
      "Pou2f1-0.8515832210878093\n",
      "Pou2f2-0.8147231590611588\n",
      "Pou2f3-0.8737601697947456\n",
      "Pou3f1-0.872469570599349\n",
      "Pou3f3-0.8357825488183975\n",
      "Pou3f4-0.7303629960212942\n",
      "Pou4f3-0.8677711845664146\n",
      "Pou6f1-0.846423623106255\n",
      "Prop1-0.8245903282094096\n",
      "Prrx1-0.8247610715807838\n",
      "Prrx2-0.8768692964134658\n",
      "Rax-0.6563671837160231\n",
      "Rhox11-0.6691400210817002\n",
      "Rhox6-0.8431666059738708\n",
      "Shox2-0.7727954697281788\n",
      "Six1-0.5755988189762605\n",
      "Six2-0.6135233354724047\n",
      "Six3-0.6074080654443632\n",
      "Six4-0.5926221801992745\n",
      "Six6-0.710365281802224\n",
      "Tcf1-0.7050075912377665\n",
      "Tcf2-0.7393097363585139\n",
      "Tgif1-0.7809429748439751\n",
      "Tgif2-0.6331950479955499\n",
      "Titf1-0.533521982383257\n",
      "Tlx2-0.8169992044191287\n",
      "Uncx4.1-0.8608144119101874\n",
      "Vax1-0.8658032740898677\n",
      "Vax2-0.776030600313032\n",
      "Vsx1-0.6958085718702629\n",
      "   k  spearmans_coeff\n",
      "0  8         0.755584\n",
      "Mean Spearman's correlation coeff (rho) for k = 8 is 0.755583917569164\n",
      "Pou2f1-0.8562104091248669\n",
      "Pou2f2-0.8150530762828968\n",
      "Pou2f3-0.8702088495385887\n",
      "Pou3f1-0.8761297462276815\n",
      "Pou3f3-0.8366769709713479\n",
      "Pou3f4-0.7389582052669009\n",
      "Pou4f3-0.8698888557393766\n",
      "Pou6f1-0.8293792989969191\n",
      "Prop1-0.8188122406161196\n",
      "Prrx1-0.8174944065744804\n",
      "Prrx2-0.8698712480515415\n",
      "Rax-0.6635164399100459\n",
      "Rhox11-0.6730093615510702\n",
      "Rhox6-0.8434252774883436\n",
      "Shox2-0.8354316935344525\n",
      "Six1-0.5570192324110618\n",
      "Six2-0.6077544901041959\n",
      "Six3-0.6198568102025638\n",
      "Six4-0.54781105502319\n",
      "Six6-0.7044770576492243\n",
      "Tcf1-0.6992704455745428\n",
      "Tcf2-0.7319334256587556\n",
      "Tgif1-0.7637196507681141\n",
      "Tgif2-0.6240379851099088\n",
      "Titf1-0.5352443969212076\n",
      "Tlx2-0.831761584379673\n",
      "Uncx4.1-0.8777167026680887\n",
      "Vax1-0.8638217268959388\n",
      "Vax2-0.7823988252759478\n",
      "Vsx1-0.704029362272793\n",
      "   k  spearmans_coeff\n",
      "0  9         0.755497\n",
      "Mean Spearman's correlation coeff (rho) for k = 9 is 0.7554972943596611\n",
      "Pou2f1-0.8567278629364911\n",
      "Pou2f2-0.8166928196057751\n",
      "Pou2f3-0.8653028634331689\n",
      "Pou3f1-0.8783133491114672\n",
      "Pou3f3-0.8286436957610915\n",
      "Pou3f4-0.7261453483941526\n",
      "Pou4f3-0.8752311540258657\n",
      "Pou6f1-0.7972433157123491\n",
      "Prop1-0.8103557938667112\n",
      "Prrx1-0.8270600666893934\n",
      "Prrx2-0.8557636243152543\n",
      "Rax-0.6561620505743018\n",
      "Rhox11-0.6746395324336764\n",
      "Rhox6-0.8466675833655128\n",
      "Shox2-0.8245627839268339\n",
      "Six1-0.5483047003771377\n",
      "Six2-0.6026819966964115\n",
      "Six3-0.6027203769204265\n",
      "Six4-0.5611628657423361\n"
     ]
    },
    {
     "name": "stdout",
     "output_type": "stream",
     "text": [
      "Six6-0.7074970847095594\n",
      "Tcf1-0.6991279394720974\n",
      "Tcf2-0.7334701153589893\n",
      "Tgif1-0.7516673455141326\n",
      "Tgif2-0.619010752523563\n",
      "Titf1-0.5193901315196818\n",
      "Tlx2-0.8340312666455169\n",
      "Uncx4.1-0.8884048696589592\n",
      "Vax1-0.8669653192670779\n",
      "Vax2-0.7759997965637115\n",
      "Vsx1-0.7003254727182335\n",
      "    k  spearmans_coeff\n",
      "0  10         0.751676\n",
      "Mean Spearman's correlation coeff (rho) for k = 10 is 0.7516757292613294\n",
      "Pou2f1-0.8607464977934186\n",
      "Pou2f2-0.8163055056927172\n",
      "Pou2f3-0.883305224552672\n",
      "Pou3f1-0.872793498859766\n",
      "Pou3f3-0.8330785790064685\n",
      "Pou3f4-0.7100665195918445\n",
      "Pou4f3-0.8748549012486235\n",
      "Pou6f1-0.8173963646107381\n",
      "Prop1-0.8203319143364242\n",
      "Prrx1-0.8191670078604322\n",
      "Prrx2-0.8623756643131448\n",
      "Rax-0.6559184005224816\n",
      "Rhox11-0.6788478138036494\n",
      "Rhox6-0.8435891702625568\n",
      "Shox2-0.8124278862450369\n",
      "Six1-0.5472523463794637\n",
      "Six2-0.5933308729428212\n",
      "Six3-0.609174322172984\n",
      "Six4-0.597865434815296\n",
      "Six6-0.714468921029286\n",
      "Tcf1-0.6949571485168531\n",
      "Tcf2-0.739654830711621\n",
      "Tgif1-0.7277662998945627\n",
      "Tgif2-0.5999388842300639\n",
      "Titf1-0.5226417699816961\n",
      "Tlx2-0.8311544513921896\n",
      "Uncx4.1-0.8860842705563864\n",
      "Vax1-0.8461657230828677\n",
      "Vax2-0.7829594291951849\n",
      "Vsx1-0.7154872840849686\n",
      "    k  spearmans_coeff\n",
      "0  11         0.752337\n",
      "Mean Spearman's correlation coeff (rho) for k = 11 is 0.752336897922874\n",
      "Pou2f1-0.860878958395058\n",
      "Pou2f2-0.8165414701133711\n",
      "Pou2f3-0.8742034444014556\n",
      "Pou3f1-0.8658509129606169\n",
      "Pou3f3-0.834810901078305\n",
      "Pou3f4-0.7159700095555331\n",
      "Pou4f3-0.8782862026290379\n",
      "Pou6f1-0.8011278848458111\n",
      "Prop1-0.8207795674509372\n",
      "Prrx1-0.8038663072092384\n",
      "Prrx2-0.8713171922866826\n",
      "Rax-0.6458960720957536\n",
      "Rhox11-0.6746612069332193\n",
      "Rhox6-0.8289629754287025\n",
      "Shox2-0.803388555692178\n",
      "Six1-0.5523163151181189\n",
      "Six2-0.6218319964499669\n",
      "Six3-0.6135820057806007\n",
      "Six4-0.5467885475710206\n",
      "Six6-0.7148866690962461\n",
      "Tcf1-0.6781625951011927\n",
      "Tcf2-0.741107223318205\n",
      "Tgif1-0.703748465425144\n",
      "Tgif2-0.5857821020551048\n",
      "Titf1-0.5186660642876598\n",
      "Tlx2-0.8344206113569053\n",
      "Uncx4.1-0.8863841885258364\n",
      "Vax1-0.8334241617090842\n",
      "Vax2-0.8018074392674484\n",
      "Vsx1-0.7202060807123765\n",
      "    k  spearmans_coeff\n",
      "0  12         0.748322\n",
      "Mean Spearman's correlation coeff (rho) for k = 12 is 0.7483218708950271\n",
      "Pou2f1-0.8603516473501882\n",
      "Pou2f2-0.8179182013852891\n",
      "Pou2f3-0.875729602915044\n",
      "Pou3f1-0.8535000323019721\n",
      "Pou3f3-0.8318527674543881\n",
      "Pou3f4-0.715662980970502\n",
      "Pou4f3-0.8732941064528615\n",
      "Pou6f1-0.8078466976954022\n",
      "Prop1-0.8210473903641473\n",
      "Prrx1-0.8143858823584924\n",
      "Prrx2-0.8705971243713608\n",
      "Rax-0.6637849182903599\n",
      "Rhox11-0.6899826950285034\n",
      "Rhox6-0.8497353898299207\n",
      "Shox2-0.8136218898971074\n",
      "Six1-0.5489794375511329\n",
      "Six2-0.5994568037458858\n",
      "Six3-0.606908631746221\n",
      "Six4-0.5916746887771033\n",
      "Six6-0.7198604111107659\n",
      "Tcf1-0.680716776357014\n",
      "Tcf2-0.739874343199464\n",
      "Tgif1-0.6900323787924325\n",
      "Tgif2-0.5738602469380192\n",
      "Titf1-0.5163908517440988\n",
      "Tlx2-0.8326925845928149\n",
      "Uncx4.1-0.8977923492635436\n",
      "Vax1-0.8400107027930377\n",
      "Vax2-0.8072314264038464\n",
      "Vsx1-0.7197322464108138\n",
      "    k  spearmans_coeff\n",
      "0  13         0.750818\n",
      "Mean Spearman's correlation coeff (rho) for k = 13 is 0.7508175068697244\n",
      "Pou2f1-0.8592634702616103\n",
      "Pou2f2-0.8155934606396487\n",
      "Pou2f3-0.8761800955212338\n",
      "Pou3f1-0.8618347462553757\n",
      "Pou3f3-0.8241026382882085\n",
      "Pou3f4-0.715721006433962\n",
      "Pou4f3-0.8753556238828367\n",
      "Pou6f1-0.8255788658895951\n",
      "Prop1-0.8157986499965847\n",
      "Prrx1-0.805521754930649\n",
      "Prrx2-0.8682328775442655\n",
      "Rax-0.6438925178316817\n",
      "Rhox11-0.6824472410661014\n",
      "Rhox6-0.844669086198138\n",
      "Shox2-0.8218979600949875\n",
      "Six1-0.5489574018376795\n",
      "Six2-0.6182063545346614\n",
      "Six3-0.6033803300923034\n",
      "Six4-0.5854783491049514\n",
      "Six6-0.7231054376609501\n",
      "Tcf1-0.7084250551991418\n",
      "Tcf2-0.7335525377940155\n",
      "Tgif1-0.6738778484038747\n",
      "Tgif2-0.5591654929822647\n",
      "Titf1-0.5136948842975044\n",
      "Tlx2-0.8329910123348202\n",
      "Uncx4.1-0.8932188755532097\n",
      "Vax1-0.8561143657695138\n",
      "Vax2-0.7973027792993682\n",
      "Vsx1-0.7242239031708629\n",
      "    k  spearmans_coeff\n",
      "0  14         0.750259\n",
      "Mean Spearman's correlation coeff (rho) for k = 14 is 0.750259487429\n",
      "Pou2f1-0.8593509670435336\n",
      "Pou2f2-0.8102413696800399\n",
      "Pou2f3-0.8760777760921736\n",
      "Pou3f1-0.8543094590557716\n",
      "Pou3f3-0.8282368405138837\n",
      "Pou3f4-0.7075893971126039\n",
      "Pou4f3-0.8649912321312708\n",
      "Pou6f1-0.8256800800976508\n",
      "Prop1-0.8125908385962585\n",
      "Prrx1-0.7963877345009563\n",
      "Prrx2-0.8720310233746784\n",
      "Rax-0.6334464307690831\n",
      "Rhox11-0.6656161786557532\n",
      "Rhox6-0.8474609316181442\n",
      "Shox2-0.8316720701195295\n",
      "Six1-0.5568749295588505\n",
      "Six2-0.6004965226692699\n",
      "Six3-0.6039624868785181\n",
      "Six4-0.5584386235936553\n",
      "Six6-0.7018362886366216\n",
      "Tcf1-0.7075429162241851\n",
      "Tcf2-0.7346533275319096\n",
      "Tgif1-0.6551793329882695\n",
      "Tgif2-0.5484943524944472\n",
      "Titf1-0.5050649581967235\n",
      "Tlx2-0.8312502468440913\n",
      "Uncx4.1-0.89998504442732\n",
      "Vax1-0.8482053642157608\n",
      "Vax2-0.802643358961289\n",
      "Vsx1-0.721221542079743\n",
      "    k  spearmans_coeff\n",
      "0  15         0.745384\n",
      "Mean Spearman's correlation coeff (rho) for k = 15 is 0.7453843874887329\n",
      "Pou2f1-0.8601771276697868\n",
      "Pou2f2-0.8159234812847107\n",
      "Pou2f3-0.8821611897153127\n",
      "Pou3f1-0.843423530340935\n",
      "Pou3f3-0.8301963886759229\n",
      "Pou3f4-0.7080381249386067\n",
      "Pou4f3-0.8759800048517411\n",
      "Pou6f1-0.8282566120473722\n",
      "Prop1-0.8148082944630177\n",
      "Prrx1-0.8104295442053412\n",
      "Prrx2-0.8658785753299967\n",
      "Rax-0.6376853542077477\n",
      "Rhox11-0.6659423432172068\n",
      "Rhox6-0.8279322718591587\n",
      "Shox2-0.8287583361311861\n",
      "Six1-0.5297350336126381\n",
      "Six2-0.6128025630147551\n",
      "Six3-0.6060181256191324\n",
      "Six4-0.545740146620469\n",
      "Six6-0.720485863562099\n",
      "Tcf1-0.7109151075954602\n",
      "Tcf2-0.7333722552854102\n",
      "Tgif1-0.6401255058651324\n",
      "Tgif2-0.5406805077358309\n",
      "Titf1-0.5103707954725922\n",
      "Tlx2-0.8314249675441038\n",
      "Uncx4.1-0.8896616024743623\n",
      "Vax1-0.8533325741339323\n",
      "Vax2-0.7973883590765958\n",
      "Vsx1-0.7230898326541609\n",
      "    k  spearmans_coeff\n",
      "0  16         0.744691\n",
      "Mean Spearman's correlation coeff (rho) for k = 16 is 0.7446911473068241\n",
      "Pou2f1-0.853973887833085\n",
      "Pou2f2-0.814040975763951\n",
      "Pou2f3-0.8826492847429763\n",
      "Pou3f1-0.8588963476486187\n",
      "Pou3f3-0.8270335295005112\n",
      "Pou3f4-0.7163446854904181\n",
      "Pou4f3-0.8690884929306488\n",
      "Pou6f1-0.8228103473236876\n",
      "Prop1-0.8072024029982591\n",
      "Prrx1-0.7926316505885461\n",
      "Prrx2-0.8695524187429309\n",
      "Rax-0.6421826151562299\n",
      "Rhox11-0.6528656954381465\n",
      "Rhox6-0.8411372096572467\n",
      "Shox2-0.8349171951777781\n",
      "Six1-0.5462801807123145\n",
      "Six2-0.5986485720915374\n",
      "Six3-0.6024591094247123\n",
      "Six4-0.5432754957409619\n",
      "Six6-0.7173917165033934\n",
      "Tcf1-0.702854016245821\n",
      "Tcf2-0.7248727796627109\n",
      "Tgif1-0.6253788842019471\n",
      "Tgif2-0.5193060610984976\n",
      "Titf1-0.5055950931728891\n",
      "Tlx2-0.828079995727836\n",
      "Uncx4.1-0.8883143328606234\n",
      "Vax1-0.8556525233023635\n",
      "Vax2-0.8005964622948689\n",
      "Vsx1-0.7264933581701296\n",
      "    k  spearmans_coeff\n",
      "0  17         0.742351\n",
      "Mean Spearman's correlation coeff (rho) for k = 17 is 0.7423508440067882\n",
      "Pou2f1-0.8522812826365981\n",
      "Pou2f2-0.8129682572394133\n",
      "Pou2f3-0.8828102431533625\n",
      "Pou3f1-0.8552610786530619\n",
      "Pou3f3-0.8187504732561437\n",
      "Pou3f4-0.724127497776583\n",
      "Pou4f3-0.8636835638128267\n",
      "Pou6f1-0.8370253198924849\n",
      "Prop1-0.7985073233060448\n",
      "Prrx1-0.7959906490174444\n",
      "Prrx2-0.8616844923031428\n",
      "Rax-0.6374514788793411\n",
      "Rhox11-0.6650259120787864\n",
      "Rhox6-0.842701549444832\n",
      "Shox2-0.8389378739088271\n",
      "Six1-0.5528359542821558\n",
      "Six2-0.6176270213872058\n",
      "Six3-0.6124159885421251\n",
      "Six4-0.5419636254873267\n",
      "Six6-0.714812015735961\n",
      "Tcf1-0.705088450880128\n",
      "Tcf2-0.7138475388202308\n",
      "Tgif1-0.6069931970977128\n",
      "Tgif2-0.5084895519058586\n",
      "Titf1-0.515934977555855\n",
      "Tlx2-0.8321366774950664\n",
      "Uncx4.1-0.9112228319625179\n",
      "Vax1-0.8605233722977097\n",
      "Vax2-0.8021195753494165\n",
      "Vsx1-0.7299135939523095\n",
      "    k  spearmans_coeff\n",
      "0  18         0.743771\n",
      "Mean Spearman's correlation coeff (rho) for k = 18 is 0.7437710456036822\n",
      "Pou2f1-0.8551921082756728\n",
      "Pou2f2-0.8032469900017457\n",
      "Pou2f3-0.8812716276882211\n",
      "Pou3f1-0.8464275085411365\n",
      "Pou3f3-0.8320307554781926\n",
      "Pou3f4-0.6984094290636097\n",
      "Pou4f3-0.8712800890334546\n",
      "Pou6f1-0.8310354188907324\n",
      "Prop1-0.80149365786739\n",
      "Prrx1-0.7870232734655975\n",
      "Prrx2-0.8683203462235978\n",
      "Rax-0.6403845731443676\n",
      "Rhox11-0.6769620176742527\n",
      "Rhox6-0.8429241868239399\n",
      "Shox2-0.844109061316679\n",
      "Six1-0.5462143472434802\n",
      "Six2-0.6170689471074186\n",
      "Six3-0.6164046770099015\n",
      "Six4-0.5547184051862486\n",
      "Six6-0.7083488677866245\n",
      "Tcf1-0.6911535105800983\n",
      "Tcf2-0.7255002879612856\n",
      "Tgif1-0.6082295089128902\n",
      "Tgif2-0.4975515353250812\n",
      "Titf1-0.5081608179954983\n",
      "Tlx2-0.8267662331496114\n",
      "Uncx4.1-0.912371166266231\n",
      "Vax1-0.86568915898255\n",
      "Vax2-0.8119566552618013\n",
      "Vsx1-0.7183184729586042\n",
      "    k  spearmans_coeff\n",
      "0  19         0.742952\n",
      "Mean Spearman's correlation coeff (rho) for k = 19 is 0.7429521211738639\n",
      "Pou2f1-0.8483527085863319\n",
      "Pou2f2-0.8178802430799061\n",
      "Pou2f3-0.866867746005377\n",
      "Pou3f1-0.8678988067216739\n",
      "Pou3f3-0.7962107873305209\n",
      "Pou3f4-0.7100000538912712\n",
      "Pou4f3-0.8594993310609107\n",
      "Pou6f1-0.8350668033550984\n",
      "Prop1-0.8005207950302813\n",
      "Prrx1-0.7905191253650792\n"
     ]
    },
    {
     "name": "stdout",
     "output_type": "stream",
     "text": [
      "Prrx2-0.8713013608441528\n",
      "Rax-0.6420075276119583\n",
      "Rhox11-0.6639347501609013\n",
      "Rhox6-0.8331993222164709\n",
      "Shox2-0.8502010491759585\n",
      "Six1-0.5464963064190358\n",
      "Six2-0.6053937549956901\n",
      "Six3-0.615703579958274\n",
      "Six4-0.532342531237857\n",
      "Six6-0.7194949632349598\n",
      "Tcf1-0.7041932822986041\n",
      "Tcf2-0.727898940136167\n",
      "Tgif1-0.5850050773549006\n",
      "Tgif2-0.4970453987111856\n",
      "Titf1-0.5024898381259739\n",
      "Tlx2-0.8361301087122135\n",
      "Uncx4.1-0.9063670995998834\n",
      "Vax1-0.860321592955284\n",
      "Vax2-0.8149623173106745\n",
      "Vsx1-0.723855956203645\n",
      "    k  spearmans_coeff\n",
      "0  20         0.741039\n",
      "Mean Spearman's correlation coeff (rho) for k = 20 is 0.7410387052563414\n",
      "    k  spearmans_coeff\n",
      "0   1         0.636624\n",
      "0   2         0.695053\n",
      "0   3         0.717396\n",
      "0   4         0.730184\n",
      "0   5         0.739903\n",
      "0   6         0.744934\n",
      "0   7         0.747512\n",
      "0   8         0.755584\n",
      "0   9         0.755497\n",
      "0  10         0.751676\n",
      "0  11         0.752337\n",
      "0  12         0.748322\n",
      "0  13         0.750818\n",
      "0  14         0.750259\n",
      "0  15         0.745384\n",
      "0  16         0.744691\n",
      "0  17         0.742351\n",
      "0  18         0.743771\n",
      "0  19         0.742952\n",
      "0  20         0.741039\n"
     ]
    }
   ],
   "source": [
    "Y_predicted = pd.DataFrame()\n",
    "Y_train.rename(columns={\"Pou1f1\\r\": \"Pou1f1\"},inplace=True)\n",
    "Y_validation.rename(columns={\"Vsx1\\r\": \"Vsx1\"},inplace=True)\n",
    "spearmancoeff_vs_k = pd.DataFrame(columns=['k','spearmans_coeff'])\n",
    "for k in range(1,21): # for k = 1 to 20\n",
    "    for index,unseen_instance in X_unseen.iterrows():\n",
    "        X_train['Distance'] = X_train.apply (lambda row: CalculateDistance(row[1],unseen_instance[1]), axis=1 )\n",
    "        #CalculateDistance(X_train[1],X_unseen.iloc[0,1])\n",
    "        X_train = X_train.sort_values(by='Distance')\n",
    "        neighbours = X_train.head(k)[0]\n",
    "        # print(neighbours.tolist())\n",
    "        neighbour_vectors = Y_train[neighbours.tolist()]\n",
    "        neighbour_vectors['Mean']= neighbour_vectors.mean(axis=1)\n",
    "        #Y_predicted.index = neighbour_vectors.index\n",
    "        #Y_predicted[row[0]] = neighbour_vectors['Mean']\n",
    "        Y_predicted[unseen_instance[0]] = neighbour_vectors['Mean']\n",
    "        #print(neighbour_vectors)\n",
    "    #print(Y_predicted)\n",
    "    Y_predicted.to_csv(\"Y_predicted.txt\", sep=\"\\t\", index=False,float_format='%.4f')\n",
    "    #print(Y_validation.columns)\n",
    "    spearmans_corel = 0\n",
    "    for tf_name in Y_predicted.columns:\n",
    "        spearmans_corel+= stats.spearmanr(Y_validation[tf_name],Y_predicted[tf_name])[0]\n",
    "        print(tf_name +'-' + str(stats.spearmanr(Y_validation[tf_name],Y_predicted[tf_name])[0]))\n",
    "\n",
    "    mean_spearmans_corel = spearmans_corel/30\n",
    "    k_v_spearmanrow = pd.DataFrame([[k ,mean_spearmans_corel]],columns=['k','spearmans_coeff'])\n",
    "    print(k_v_spearmanrow)\n",
    "    spearmancoeff_vs_k = spearmancoeff_vs_k.append(k_v_spearmanrow,ignore_index=False)\n",
    "    #print(spearmancoeff_vs_k)\n",
    "    print('Mean Spearman\\'s correlation coeff (rho) for k = '+ str(k) + ' is '+ str(mean_spearmans_corel))\n",
    "    \n",
    "print(spearmancoeff_vs_k)"
   ]
  },
  {
   "cell_type": "code",
   "execution_count": 100,
   "metadata": {},
   "outputs": [
    {
     "data": {
      "application/vnd.plotly.v1+json": {
       "config": {
        "plotlyServerURL": "https://plot.ly"
       },
       "data": [
        {
         "hoverlabel": {
          "namelength": 0
         },
         "hovertemplate": "k=%{x}<br>spearmans_coeff=%{y}",
         "legendgroup": "",
         "marker": {
          "color": "#636efa",
          "symbol": "circle"
         },
         "mode": "markers",
         "name": "",
         "showlegend": false,
         "type": "scatter",
         "x": [
          1,
          2,
          3,
          4,
          5,
          6,
          7,
          8,
          9,
          10,
          11,
          12,
          13,
          14,
          15,
          16,
          17,
          18,
          19,
          20
         ],
         "xaxis": "x",
         "y": [
          0.6366239392340991,
          0.6950533448088507,
          0.7173961815521959,
          0.7301835368412949,
          0.7399034019806553,
          0.7449344224466607,
          0.747512418900682,
          0.755583917569164,
          0.7554972943596611,
          0.7516757292613294,
          0.752336897922874,
          0.7483218708950271,
          0.7508175068697244,
          0.750259487429,
          0.7453843874887329,
          0.7446911473068241,
          0.7423508440067882,
          0.7437710456036822,
          0.7429521211738639,
          0.7410387052563414
         ],
         "yaxis": "y"
        },
        {
         "hoverlabel": {
          "namelength": 0
         },
         "hovertemplate": "<b>LOWESS trendline</b><br><br>k=%{x}<br>spearmans_coeff=%{y} <b>(trend)</b>",
         "legendgroup": "",
         "marker": {
          "color": "#636efa",
          "symbol": "circle"
         },
         "mode": "lines",
         "name": "",
         "showlegend": false,
         "type": "scatter",
         "x": [
          1,
          2,
          3,
          4,
          5,
          6,
          7,
          8,
          9,
          10,
          11,
          12,
          13,
          14,
          15,
          16,
          17,
          18,
          19,
          20
         ],
         "xaxis": "x",
         "y": [
          0.7058825650495781,
          0.7126992159228824,
          0.7193091561329212,
          0.7257020061891343,
          0.7319257028376768,
          0.7381238636405295,
          0.7448282339270056,
          0.7495890930044063,
          0.7513867674107906,
          0.7515522967878068,
          0.751221991346174,
          0.7504027419497198,
          0.749136352044725,
          0.7478307525212066,
          0.7466811390232475,
          0.745532822044129,
          0.7443602862526527,
          0.7431795602076791,
          0.7420077698505725,
          0.7408532483648196
         ],
         "yaxis": "y"
        }
       ],
       "layout": {
        "height": 600,
        "legend": {
         "tracegroupgap": 0
        },
        "margin": {
         "t": 60
        },
        "template": {
         "data": {
          "bar": [
           {
            "error_x": {
             "color": "#2a3f5f"
            },
            "error_y": {
             "color": "#2a3f5f"
            },
            "marker": {
             "line": {
              "color": "#E5ECF6",
              "width": 0.5
             }
            },
            "type": "bar"
           }
          ],
          "barpolar": [
           {
            "marker": {
             "line": {
              "color": "#E5ECF6",
              "width": 0.5
             }
            },
            "type": "barpolar"
           }
          ],
          "carpet": [
           {
            "aaxis": {
             "endlinecolor": "#2a3f5f",
             "gridcolor": "white",
             "linecolor": "white",
             "minorgridcolor": "white",
             "startlinecolor": "#2a3f5f"
            },
            "baxis": {
             "endlinecolor": "#2a3f5f",
             "gridcolor": "white",
             "linecolor": "white",
             "minorgridcolor": "white",
             "startlinecolor": "#2a3f5f"
            },
            "type": "carpet"
           }
          ],
          "choropleth": [
           {
            "colorbar": {
             "outlinewidth": 0,
             "ticks": ""
            },
            "type": "choropleth"
           }
          ],
          "contour": [
           {
            "colorbar": {
             "outlinewidth": 0,
             "ticks": ""
            },
            "colorscale": [
             [
              0,
              "#0d0887"
             ],
             [
              0.1111111111111111,
              "#46039f"
             ],
             [
              0.2222222222222222,
              "#7201a8"
             ],
             [
              0.3333333333333333,
              "#9c179e"
             ],
             [
              0.4444444444444444,
              "#bd3786"
             ],
             [
              0.5555555555555556,
              "#d8576b"
             ],
             [
              0.6666666666666666,
              "#ed7953"
             ],
             [
              0.7777777777777778,
              "#fb9f3a"
             ],
             [
              0.8888888888888888,
              "#fdca26"
             ],
             [
              1,
              "#f0f921"
             ]
            ],
            "type": "contour"
           }
          ],
          "contourcarpet": [
           {
            "colorbar": {
             "outlinewidth": 0,
             "ticks": ""
            },
            "type": "contourcarpet"
           }
          ],
          "heatmap": [
           {
            "colorbar": {
             "outlinewidth": 0,
             "ticks": ""
            },
            "colorscale": [
             [
              0,
              "#0d0887"
             ],
             [
              0.1111111111111111,
              "#46039f"
             ],
             [
              0.2222222222222222,
              "#7201a8"
             ],
             [
              0.3333333333333333,
              "#9c179e"
             ],
             [
              0.4444444444444444,
              "#bd3786"
             ],
             [
              0.5555555555555556,
              "#d8576b"
             ],
             [
              0.6666666666666666,
              "#ed7953"
             ],
             [
              0.7777777777777778,
              "#fb9f3a"
             ],
             [
              0.8888888888888888,
              "#fdca26"
             ],
             [
              1,
              "#f0f921"
             ]
            ],
            "type": "heatmap"
           }
          ],
          "heatmapgl": [
           {
            "colorbar": {
             "outlinewidth": 0,
             "ticks": ""
            },
            "colorscale": [
             [
              0,
              "#0d0887"
             ],
             [
              0.1111111111111111,
              "#46039f"
             ],
             [
              0.2222222222222222,
              "#7201a8"
             ],
             [
              0.3333333333333333,
              "#9c179e"
             ],
             [
              0.4444444444444444,
              "#bd3786"
             ],
             [
              0.5555555555555556,
              "#d8576b"
             ],
             [
              0.6666666666666666,
              "#ed7953"
             ],
             [
              0.7777777777777778,
              "#fb9f3a"
             ],
             [
              0.8888888888888888,
              "#fdca26"
             ],
             [
              1,
              "#f0f921"
             ]
            ],
            "type": "heatmapgl"
           }
          ],
          "histogram": [
           {
            "marker": {
             "colorbar": {
              "outlinewidth": 0,
              "ticks": ""
             }
            },
            "type": "histogram"
           }
          ],
          "histogram2d": [
           {
            "colorbar": {
             "outlinewidth": 0,
             "ticks": ""
            },
            "colorscale": [
             [
              0,
              "#0d0887"
             ],
             [
              0.1111111111111111,
              "#46039f"
             ],
             [
              0.2222222222222222,
              "#7201a8"
             ],
             [
              0.3333333333333333,
              "#9c179e"
             ],
             [
              0.4444444444444444,
              "#bd3786"
             ],
             [
              0.5555555555555556,
              "#d8576b"
             ],
             [
              0.6666666666666666,
              "#ed7953"
             ],
             [
              0.7777777777777778,
              "#fb9f3a"
             ],
             [
              0.8888888888888888,
              "#fdca26"
             ],
             [
              1,
              "#f0f921"
             ]
            ],
            "type": "histogram2d"
           }
          ],
          "histogram2dcontour": [
           {
            "colorbar": {
             "outlinewidth": 0,
             "ticks": ""
            },
            "colorscale": [
             [
              0,
              "#0d0887"
             ],
             [
              0.1111111111111111,
              "#46039f"
             ],
             [
              0.2222222222222222,
              "#7201a8"
             ],
             [
              0.3333333333333333,
              "#9c179e"
             ],
             [
              0.4444444444444444,
              "#bd3786"
             ],
             [
              0.5555555555555556,
              "#d8576b"
             ],
             [
              0.6666666666666666,
              "#ed7953"
             ],
             [
              0.7777777777777778,
              "#fb9f3a"
             ],
             [
              0.8888888888888888,
              "#fdca26"
             ],
             [
              1,
              "#f0f921"
             ]
            ],
            "type": "histogram2dcontour"
           }
          ],
          "mesh3d": [
           {
            "colorbar": {
             "outlinewidth": 0,
             "ticks": ""
            },
            "type": "mesh3d"
           }
          ],
          "parcoords": [
           {
            "line": {
             "colorbar": {
              "outlinewidth": 0,
              "ticks": ""
             }
            },
            "type": "parcoords"
           }
          ],
          "scatter": [
           {
            "marker": {
             "colorbar": {
              "outlinewidth": 0,
              "ticks": ""
             }
            },
            "type": "scatter"
           }
          ],
          "scatter3d": [
           {
            "line": {
             "colorbar": {
              "outlinewidth": 0,
              "ticks": ""
             }
            },
            "marker": {
             "colorbar": {
              "outlinewidth": 0,
              "ticks": ""
             }
            },
            "type": "scatter3d"
           }
          ],
          "scattercarpet": [
           {
            "marker": {
             "colorbar": {
              "outlinewidth": 0,
              "ticks": ""
             }
            },
            "type": "scattercarpet"
           }
          ],
          "scattergeo": [
           {
            "marker": {
             "colorbar": {
              "outlinewidth": 0,
              "ticks": ""
             }
            },
            "type": "scattergeo"
           }
          ],
          "scattergl": [
           {
            "marker": {
             "colorbar": {
              "outlinewidth": 0,
              "ticks": ""
             }
            },
            "type": "scattergl"
           }
          ],
          "scattermapbox": [
           {
            "marker": {
             "colorbar": {
              "outlinewidth": 0,
              "ticks": ""
             }
            },
            "type": "scattermapbox"
           }
          ],
          "scatterpolar": [
           {
            "marker": {
             "colorbar": {
              "outlinewidth": 0,
              "ticks": ""
             }
            },
            "type": "scatterpolar"
           }
          ],
          "scatterpolargl": [
           {
            "marker": {
             "colorbar": {
              "outlinewidth": 0,
              "ticks": ""
             }
            },
            "type": "scatterpolargl"
           }
          ],
          "scatterternary": [
           {
            "marker": {
             "colorbar": {
              "outlinewidth": 0,
              "ticks": ""
             }
            },
            "type": "scatterternary"
           }
          ],
          "surface": [
           {
            "colorbar": {
             "outlinewidth": 0,
             "ticks": ""
            },
            "colorscale": [
             [
              0,
              "#0d0887"
             ],
             [
              0.1111111111111111,
              "#46039f"
             ],
             [
              0.2222222222222222,
              "#7201a8"
             ],
             [
              0.3333333333333333,
              "#9c179e"
             ],
             [
              0.4444444444444444,
              "#bd3786"
             ],
             [
              0.5555555555555556,
              "#d8576b"
             ],
             [
              0.6666666666666666,
              "#ed7953"
             ],
             [
              0.7777777777777778,
              "#fb9f3a"
             ],
             [
              0.8888888888888888,
              "#fdca26"
             ],
             [
              1,
              "#f0f921"
             ]
            ],
            "type": "surface"
           }
          ],
          "table": [
           {
            "cells": {
             "fill": {
              "color": "#EBF0F8"
             },
             "line": {
              "color": "white"
             }
            },
            "header": {
             "fill": {
              "color": "#C8D4E3"
             },
             "line": {
              "color": "white"
             }
            },
            "type": "table"
           }
          ]
         },
         "layout": {
          "annotationdefaults": {
           "arrowcolor": "#2a3f5f",
           "arrowhead": 0,
           "arrowwidth": 1
          },
          "colorscale": {
           "diverging": [
            [
             0,
             "#8e0152"
            ],
            [
             0.1,
             "#c51b7d"
            ],
            [
             0.2,
             "#de77ae"
            ],
            [
             0.3,
             "#f1b6da"
            ],
            [
             0.4,
             "#fde0ef"
            ],
            [
             0.5,
             "#f7f7f7"
            ],
            [
             0.6,
             "#e6f5d0"
            ],
            [
             0.7,
             "#b8e186"
            ],
            [
             0.8,
             "#7fbc41"
            ],
            [
             0.9,
             "#4d9221"
            ],
            [
             1,
             "#276419"
            ]
           ],
           "sequential": [
            [
             0,
             "#0d0887"
            ],
            [
             0.1111111111111111,
             "#46039f"
            ],
            [
             0.2222222222222222,
             "#7201a8"
            ],
            [
             0.3333333333333333,
             "#9c179e"
            ],
            [
             0.4444444444444444,
             "#bd3786"
            ],
            [
             0.5555555555555556,
             "#d8576b"
            ],
            [
             0.6666666666666666,
             "#ed7953"
            ],
            [
             0.7777777777777778,
             "#fb9f3a"
            ],
            [
             0.8888888888888888,
             "#fdca26"
            ],
            [
             1,
             "#f0f921"
            ]
           ],
           "sequentialminus": [
            [
             0,
             "#0d0887"
            ],
            [
             0.1111111111111111,
             "#46039f"
            ],
            [
             0.2222222222222222,
             "#7201a8"
            ],
            [
             0.3333333333333333,
             "#9c179e"
            ],
            [
             0.4444444444444444,
             "#bd3786"
            ],
            [
             0.5555555555555556,
             "#d8576b"
            ],
            [
             0.6666666666666666,
             "#ed7953"
            ],
            [
             0.7777777777777778,
             "#fb9f3a"
            ],
            [
             0.8888888888888888,
             "#fdca26"
            ],
            [
             1,
             "#f0f921"
            ]
           ]
          },
          "colorway": [
           "#636efa",
           "#EF553B",
           "#00cc96",
           "#ab63fa",
           "#FFA15A",
           "#19d3f3",
           "#FF6692",
           "#B6E880",
           "#FF97FF",
           "#FECB52"
          ],
          "font": {
           "color": "#2a3f5f"
          },
          "geo": {
           "bgcolor": "white",
           "lakecolor": "white",
           "landcolor": "#E5ECF6",
           "showlakes": true,
           "showland": true,
           "subunitcolor": "white"
          },
          "hoverlabel": {
           "align": "left"
          },
          "hovermode": "closest",
          "mapbox": {
           "style": "light"
          },
          "paper_bgcolor": "white",
          "plot_bgcolor": "#E5ECF6",
          "polar": {
           "angularaxis": {
            "gridcolor": "white",
            "linecolor": "white",
            "ticks": ""
           },
           "bgcolor": "#E5ECF6",
           "radialaxis": {
            "gridcolor": "white",
            "linecolor": "white",
            "ticks": ""
           }
          },
          "scene": {
           "xaxis": {
            "backgroundcolor": "#E5ECF6",
            "gridcolor": "white",
            "gridwidth": 2,
            "linecolor": "white",
            "showbackground": true,
            "ticks": "",
            "zerolinecolor": "white"
           },
           "yaxis": {
            "backgroundcolor": "#E5ECF6",
            "gridcolor": "white",
            "gridwidth": 2,
            "linecolor": "white",
            "showbackground": true,
            "ticks": "",
            "zerolinecolor": "white"
           },
           "zaxis": {
            "backgroundcolor": "#E5ECF6",
            "gridcolor": "white",
            "gridwidth": 2,
            "linecolor": "white",
            "showbackground": true,
            "ticks": "",
            "zerolinecolor": "white"
           }
          },
          "shapedefaults": {
           "line": {
            "color": "#2a3f5f"
           }
          },
          "ternary": {
           "aaxis": {
            "gridcolor": "white",
            "linecolor": "white",
            "ticks": ""
           },
           "baxis": {
            "gridcolor": "white",
            "linecolor": "white",
            "ticks": ""
           },
           "bgcolor": "#E5ECF6",
           "caxis": {
            "gridcolor": "white",
            "linecolor": "white",
            "ticks": ""
           }
          },
          "title": {
           "x": 0.05
          },
          "xaxis": {
           "automargin": true,
           "gridcolor": "white",
           "linecolor": "white",
           "ticks": "",
           "zerolinecolor": "white",
           "zerolinewidth": 2
          },
          "yaxis": {
           "automargin": true,
           "gridcolor": "white",
           "linecolor": "white",
           "ticks": "",
           "zerolinecolor": "white",
           "zerolinewidth": 2
          }
         }
        },
        "xaxis": {
         "anchor": "y",
         "domain": [
          0,
          0.98
         ],
         "title": {
          "text": "k"
         }
        },
        "yaxis": {
         "anchor": "x",
         "domain": [
          0,
          1
         ],
         "title": {
          "text": "spearmans_coeff"
         }
        }
       }
      },
      "text/html": [
       "<div>\n",
       "        \n",
       "        \n",
       "            <div id=\"d41a8dd0-b3ef-4ee5-b815-edb118306265\" class=\"plotly-graph-div\" style=\"height:600px; width:100%;\"></div>\n",
       "            <script type=\"text/javascript\">\n",
       "                require([\"plotly\"], function(Plotly) {\n",
       "                    window.PLOTLYENV=window.PLOTLYENV || {};\n",
       "                    \n",
       "                if (document.getElementById(\"d41a8dd0-b3ef-4ee5-b815-edb118306265\")) {\n",
       "                    Plotly.newPlot(\n",
       "                        'd41a8dd0-b3ef-4ee5-b815-edb118306265',\n",
       "                        [{\"hoverlabel\": {\"namelength\": 0}, \"hovertemplate\": \"k=%{x}<br>spearmans_coeff=%{y}\", \"legendgroup\": \"\", \"marker\": {\"color\": \"#636efa\", \"symbol\": \"circle\"}, \"mode\": \"markers\", \"name\": \"\", \"showlegend\": false, \"type\": \"scatter\", \"x\": [1, 2, 3, 4, 5, 6, 7, 8, 9, 10, 11, 12, 13, 14, 15, 16, 17, 18, 19, 20], \"xaxis\": \"x\", \"y\": [0.6366239392340991, 0.6950533448088507, 0.7173961815521959, 0.7301835368412949, 0.7399034019806553, 0.7449344224466607, 0.747512418900682, 0.755583917569164, 0.7554972943596611, 0.7516757292613294, 0.752336897922874, 0.7483218708950271, 0.7508175068697244, 0.750259487429, 0.7453843874887329, 0.7446911473068241, 0.7423508440067882, 0.7437710456036822, 0.7429521211738639, 0.7410387052563414], \"yaxis\": \"y\"}, {\"hoverlabel\": {\"namelength\": 0}, \"hovertemplate\": \"<b>LOWESS trendline</b><br><br>k=%{x}<br>spearmans_coeff=%{y} <b>(trend)</b>\", \"legendgroup\": \"\", \"marker\": {\"color\": \"#636efa\", \"symbol\": \"circle\"}, \"mode\": \"lines\", \"name\": \"\", \"showlegend\": false, \"type\": \"scatter\", \"x\": [1, 2, 3, 4, 5, 6, 7, 8, 9, 10, 11, 12, 13, 14, 15, 16, 17, 18, 19, 20], \"xaxis\": \"x\", \"y\": [0.7058825650495781, 0.7126992159228824, 0.7193091561329212, 0.7257020061891343, 0.7319257028376768, 0.7381238636405295, 0.7448282339270056, 0.7495890930044063, 0.7513867674107906, 0.7515522967878068, 0.751221991346174, 0.7504027419497198, 0.749136352044725, 0.7478307525212066, 0.7466811390232475, 0.745532822044129, 0.7443602862526527, 0.7431795602076791, 0.7420077698505725, 0.7408532483648196], \"yaxis\": \"y\"}],\n",
       "                        {\"height\": 600, \"legend\": {\"tracegroupgap\": 0}, \"margin\": {\"t\": 60}, \"template\": {\"data\": {\"bar\": [{\"error_x\": {\"color\": \"#2a3f5f\"}, \"error_y\": {\"color\": \"#2a3f5f\"}, \"marker\": {\"line\": {\"color\": \"#E5ECF6\", \"width\": 0.5}}, \"type\": \"bar\"}], \"barpolar\": [{\"marker\": {\"line\": {\"color\": \"#E5ECF6\", \"width\": 0.5}}, \"type\": \"barpolar\"}], \"carpet\": [{\"aaxis\": {\"endlinecolor\": \"#2a3f5f\", \"gridcolor\": \"white\", \"linecolor\": \"white\", \"minorgridcolor\": \"white\", \"startlinecolor\": \"#2a3f5f\"}, \"baxis\": {\"endlinecolor\": \"#2a3f5f\", \"gridcolor\": \"white\", \"linecolor\": \"white\", \"minorgridcolor\": \"white\", \"startlinecolor\": \"#2a3f5f\"}, \"type\": \"carpet\"}], \"choropleth\": [{\"colorbar\": {\"outlinewidth\": 0, \"ticks\": \"\"}, \"type\": \"choropleth\"}], \"contour\": [{\"colorbar\": {\"outlinewidth\": 0, \"ticks\": \"\"}, \"colorscale\": [[0.0, \"#0d0887\"], [0.1111111111111111, \"#46039f\"], [0.2222222222222222, \"#7201a8\"], [0.3333333333333333, \"#9c179e\"], [0.4444444444444444, \"#bd3786\"], [0.5555555555555556, \"#d8576b\"], [0.6666666666666666, \"#ed7953\"], [0.7777777777777778, \"#fb9f3a\"], [0.8888888888888888, \"#fdca26\"], [1.0, \"#f0f921\"]], \"type\": \"contour\"}], \"contourcarpet\": [{\"colorbar\": {\"outlinewidth\": 0, \"ticks\": \"\"}, \"type\": \"contourcarpet\"}], \"heatmap\": [{\"colorbar\": {\"outlinewidth\": 0, \"ticks\": \"\"}, \"colorscale\": [[0.0, \"#0d0887\"], [0.1111111111111111, \"#46039f\"], [0.2222222222222222, \"#7201a8\"], [0.3333333333333333, \"#9c179e\"], [0.4444444444444444, \"#bd3786\"], [0.5555555555555556, \"#d8576b\"], [0.6666666666666666, \"#ed7953\"], [0.7777777777777778, \"#fb9f3a\"], [0.8888888888888888, \"#fdca26\"], [1.0, \"#f0f921\"]], \"type\": \"heatmap\"}], \"heatmapgl\": [{\"colorbar\": {\"outlinewidth\": 0, \"ticks\": \"\"}, \"colorscale\": [[0.0, \"#0d0887\"], [0.1111111111111111, \"#46039f\"], [0.2222222222222222, \"#7201a8\"], [0.3333333333333333, \"#9c179e\"], [0.4444444444444444, \"#bd3786\"], [0.5555555555555556, \"#d8576b\"], [0.6666666666666666, \"#ed7953\"], [0.7777777777777778, \"#fb9f3a\"], [0.8888888888888888, \"#fdca26\"], [1.0, \"#f0f921\"]], \"type\": \"heatmapgl\"}], \"histogram\": [{\"marker\": {\"colorbar\": {\"outlinewidth\": 0, \"ticks\": \"\"}}, \"type\": \"histogram\"}], \"histogram2d\": [{\"colorbar\": {\"outlinewidth\": 0, \"ticks\": \"\"}, \"colorscale\": [[0.0, \"#0d0887\"], [0.1111111111111111, \"#46039f\"], [0.2222222222222222, \"#7201a8\"], [0.3333333333333333, \"#9c179e\"], [0.4444444444444444, \"#bd3786\"], [0.5555555555555556, \"#d8576b\"], [0.6666666666666666, \"#ed7953\"], [0.7777777777777778, \"#fb9f3a\"], [0.8888888888888888, \"#fdca26\"], [1.0, \"#f0f921\"]], \"type\": \"histogram2d\"}], \"histogram2dcontour\": [{\"colorbar\": {\"outlinewidth\": 0, \"ticks\": \"\"}, \"colorscale\": [[0.0, \"#0d0887\"], [0.1111111111111111, \"#46039f\"], [0.2222222222222222, \"#7201a8\"], [0.3333333333333333, \"#9c179e\"], [0.4444444444444444, \"#bd3786\"], [0.5555555555555556, \"#d8576b\"], [0.6666666666666666, \"#ed7953\"], [0.7777777777777778, \"#fb9f3a\"], [0.8888888888888888, \"#fdca26\"], [1.0, \"#f0f921\"]], \"type\": \"histogram2dcontour\"}], \"mesh3d\": [{\"colorbar\": {\"outlinewidth\": 0, \"ticks\": \"\"}, \"type\": \"mesh3d\"}], \"parcoords\": [{\"line\": {\"colorbar\": {\"outlinewidth\": 0, \"ticks\": \"\"}}, \"type\": \"parcoords\"}], \"scatter\": [{\"marker\": {\"colorbar\": {\"outlinewidth\": 0, \"ticks\": \"\"}}, \"type\": \"scatter\"}], \"scatter3d\": [{\"line\": {\"colorbar\": {\"outlinewidth\": 0, \"ticks\": \"\"}}, \"marker\": {\"colorbar\": {\"outlinewidth\": 0, \"ticks\": \"\"}}, \"type\": \"scatter3d\"}], \"scattercarpet\": [{\"marker\": {\"colorbar\": {\"outlinewidth\": 0, \"ticks\": \"\"}}, \"type\": \"scattercarpet\"}], \"scattergeo\": [{\"marker\": {\"colorbar\": {\"outlinewidth\": 0, \"ticks\": \"\"}}, \"type\": \"scattergeo\"}], \"scattergl\": [{\"marker\": {\"colorbar\": {\"outlinewidth\": 0, \"ticks\": \"\"}}, \"type\": \"scattergl\"}], \"scattermapbox\": [{\"marker\": {\"colorbar\": {\"outlinewidth\": 0, \"ticks\": \"\"}}, \"type\": \"scattermapbox\"}], \"scatterpolar\": [{\"marker\": {\"colorbar\": {\"outlinewidth\": 0, \"ticks\": \"\"}}, \"type\": \"scatterpolar\"}], \"scatterpolargl\": [{\"marker\": {\"colorbar\": {\"outlinewidth\": 0, \"ticks\": \"\"}}, \"type\": \"scatterpolargl\"}], \"scatterternary\": [{\"marker\": {\"colorbar\": {\"outlinewidth\": 0, \"ticks\": \"\"}}, \"type\": \"scatterternary\"}], \"surface\": [{\"colorbar\": {\"outlinewidth\": 0, \"ticks\": \"\"}, \"colorscale\": [[0.0, \"#0d0887\"], [0.1111111111111111, \"#46039f\"], [0.2222222222222222, \"#7201a8\"], [0.3333333333333333, \"#9c179e\"], [0.4444444444444444, \"#bd3786\"], [0.5555555555555556, \"#d8576b\"], [0.6666666666666666, \"#ed7953\"], [0.7777777777777778, \"#fb9f3a\"], [0.8888888888888888, \"#fdca26\"], [1.0, \"#f0f921\"]], \"type\": \"surface\"}], \"table\": [{\"cells\": {\"fill\": {\"color\": \"#EBF0F8\"}, \"line\": {\"color\": \"white\"}}, \"header\": {\"fill\": {\"color\": \"#C8D4E3\"}, \"line\": {\"color\": \"white\"}}, \"type\": \"table\"}]}, \"layout\": {\"annotationdefaults\": {\"arrowcolor\": \"#2a3f5f\", \"arrowhead\": 0, \"arrowwidth\": 1}, \"colorscale\": {\"diverging\": [[0, \"#8e0152\"], [0.1, \"#c51b7d\"], [0.2, \"#de77ae\"], [0.3, \"#f1b6da\"], [0.4, \"#fde0ef\"], [0.5, \"#f7f7f7\"], [0.6, \"#e6f5d0\"], [0.7, \"#b8e186\"], [0.8, \"#7fbc41\"], [0.9, \"#4d9221\"], [1, \"#276419\"]], \"sequential\": [[0.0, \"#0d0887\"], [0.1111111111111111, \"#46039f\"], [0.2222222222222222, \"#7201a8\"], [0.3333333333333333, \"#9c179e\"], [0.4444444444444444, \"#bd3786\"], [0.5555555555555556, \"#d8576b\"], [0.6666666666666666, \"#ed7953\"], [0.7777777777777778, \"#fb9f3a\"], [0.8888888888888888, \"#fdca26\"], [1.0, \"#f0f921\"]], \"sequentialminus\": [[0.0, \"#0d0887\"], [0.1111111111111111, \"#46039f\"], [0.2222222222222222, \"#7201a8\"], [0.3333333333333333, \"#9c179e\"], [0.4444444444444444, \"#bd3786\"], [0.5555555555555556, \"#d8576b\"], [0.6666666666666666, \"#ed7953\"], [0.7777777777777778, \"#fb9f3a\"], [0.8888888888888888, \"#fdca26\"], [1.0, \"#f0f921\"]]}, \"colorway\": [\"#636efa\", \"#EF553B\", \"#00cc96\", \"#ab63fa\", \"#FFA15A\", \"#19d3f3\", \"#FF6692\", \"#B6E880\", \"#FF97FF\", \"#FECB52\"], \"font\": {\"color\": \"#2a3f5f\"}, \"geo\": {\"bgcolor\": \"white\", \"lakecolor\": \"white\", \"landcolor\": \"#E5ECF6\", \"showlakes\": true, \"showland\": true, \"subunitcolor\": \"white\"}, \"hoverlabel\": {\"align\": \"left\"}, \"hovermode\": \"closest\", \"mapbox\": {\"style\": \"light\"}, \"paper_bgcolor\": \"white\", \"plot_bgcolor\": \"#E5ECF6\", \"polar\": {\"angularaxis\": {\"gridcolor\": \"white\", \"linecolor\": \"white\", \"ticks\": \"\"}, \"bgcolor\": \"#E5ECF6\", \"radialaxis\": {\"gridcolor\": \"white\", \"linecolor\": \"white\", \"ticks\": \"\"}}, \"scene\": {\"xaxis\": {\"backgroundcolor\": \"#E5ECF6\", \"gridcolor\": \"white\", \"gridwidth\": 2, \"linecolor\": \"white\", \"showbackground\": true, \"ticks\": \"\", \"zerolinecolor\": \"white\"}, \"yaxis\": {\"backgroundcolor\": \"#E5ECF6\", \"gridcolor\": \"white\", \"gridwidth\": 2, \"linecolor\": \"white\", \"showbackground\": true, \"ticks\": \"\", \"zerolinecolor\": \"white\"}, \"zaxis\": {\"backgroundcolor\": \"#E5ECF6\", \"gridcolor\": \"white\", \"gridwidth\": 2, \"linecolor\": \"white\", \"showbackground\": true, \"ticks\": \"\", \"zerolinecolor\": \"white\"}}, \"shapedefaults\": {\"line\": {\"color\": \"#2a3f5f\"}}, \"ternary\": {\"aaxis\": {\"gridcolor\": \"white\", \"linecolor\": \"white\", \"ticks\": \"\"}, \"baxis\": {\"gridcolor\": \"white\", \"linecolor\": \"white\", \"ticks\": \"\"}, \"bgcolor\": \"#E5ECF6\", \"caxis\": {\"gridcolor\": \"white\", \"linecolor\": \"white\", \"ticks\": \"\"}}, \"title\": {\"x\": 0.05}, \"xaxis\": {\"automargin\": true, \"gridcolor\": \"white\", \"linecolor\": \"white\", \"ticks\": \"\", \"zerolinecolor\": \"white\", \"zerolinewidth\": 2}, \"yaxis\": {\"automargin\": true, \"gridcolor\": \"white\", \"linecolor\": \"white\", \"ticks\": \"\", \"zerolinecolor\": \"white\", \"zerolinewidth\": 2}}}, \"xaxis\": {\"anchor\": \"y\", \"domain\": [0.0, 0.98], \"title\": {\"text\": \"k\"}}, \"yaxis\": {\"anchor\": \"x\", \"domain\": [0.0, 1.0], \"title\": {\"text\": \"spearmans_coeff\"}}},\n",
       "                        {\"responsive\": true}\n",
       "                    ).then(function(){\n",
       "                            \n",
       "var gd = document.getElementById('d41a8dd0-b3ef-4ee5-b815-edb118306265');\n",
       "var x = new MutationObserver(function (mutations, observer) {{\n",
       "        var display = window.getComputedStyle(gd).display;\n",
       "        if (!display || display === 'none') {{\n",
       "            console.log([gd, 'removed!']);\n",
       "            Plotly.purge(gd);\n",
       "            observer.disconnect();\n",
       "        }}\n",
       "}});\n",
       "\n",
       "// Listen for the removal of the full notebook cells\n",
       "var notebookContainer = gd.closest('#notebook-container');\n",
       "if (notebookContainer) {{\n",
       "    x.observe(notebookContainer, {childList: true});\n",
       "}}\n",
       "\n",
       "// Listen for the clearing of the current output cell\n",
       "var outputEl = gd.closest('.output');\n",
       "if (outputEl) {{\n",
       "    x.observe(outputEl, {childList: true});\n",
       "}}\n",
       "\n",
       "                        })\n",
       "                };\n",
       "                });\n",
       "            </script>\n",
       "        </div>"
      ]
     },
     "metadata": {},
     "output_type": "display_data"
    }
   ],
   "source": [
    "fig = px.scatter(spearmancoeff_vs_k,x=\"k\", y=\"spearmans_coeff\", trendline = 'lowess')\n",
    "fig.show()"
   ]
  },
  {
   "cell_type": "code",
   "execution_count": null,
   "metadata": {},
   "outputs": [],
   "source": []
  }
 ],
 "metadata": {
  "kernelspec": {
   "display_name": "Python 3",
   "language": "python",
   "name": "python3"
  },
  "language_info": {
   "codemirror_mode": {
    "name": "ipython",
    "version": 3
   },
   "file_extension": ".py",
   "mimetype": "text/x-python",
   "name": "python",
   "nbconvert_exporter": "python",
   "pygments_lexer": "ipython3",
   "version": "3.7.1"
  }
 },
 "nbformat": 4,
 "nbformat_minor": 2
}
