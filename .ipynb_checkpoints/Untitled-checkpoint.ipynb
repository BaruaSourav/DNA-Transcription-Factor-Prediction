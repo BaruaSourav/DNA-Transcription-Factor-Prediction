{
 "cells": [
  {
   "cell_type": "code",
   "execution_count": 19,
   "metadata": {},
   "outputs": [
    {
     "name": "stdout",
     "output_type": "stream",
     "text": [
      "C:\\Users\\User\\Anaconda3\\lib\\site-packages\\ipykernel_launcher.py\n",
      "-f\n",
      "C:\\Users\\User\\AppData\\Roaming\\jupyter\\runtime\\kernel-e20dcfea-4c45-47f1-82a4-eaf31aa32f6d.json\n",
      "82       Lhx1\n",
      "109      Pax6\n",
      "86       Lhx5\n",
      "119    Pou1f1\n",
      "84       Lhx3\n",
      "85       Lhx4\n",
      "28       Evx2\n",
      "27       Evx1\n",
      "83       Lhx2\n",
      "89       Lhx9\n",
      "104     Nobox\n",
      "31        Gsc\n",
      "108      Pax4\n",
      "52     Hoxb13\n",
      "116     Pitx3\n",
      "Name: 0, dtype: object\n",
      "82       Lhx1\n",
      "109      Pax6\n",
      "86       Lhx5\n",
      "119    Pou1f1\n",
      "84       Lhx3\n",
      "85       Lhx4\n",
      "28       Evx2\n",
      "Name: 0, dtype: object\n"
     ]
    },
    {
     "ename": "KeyError",
     "evalue": "1",
     "output_type": "error",
     "traceback": [
      "\u001b[1;31m---------------------------------------------------------------------------\u001b[0m",
      "\u001b[1;31mKeyError\u001b[0m                                  Traceback (most recent call last)",
      "\u001b[1;32m<ipython-input-19-d8c57d5ddb17>\u001b[0m in \u001b[0;36m<module>\u001b[1;34m\u001b[0m\n\u001b[0;32m     76\u001b[0m \u001b[0mneighbours\u001b[0m \u001b[1;33m=\u001b[0m \u001b[0mX_train\u001b[0m\u001b[1;33m.\u001b[0m\u001b[0mhead\u001b[0m\u001b[1;33m(\u001b[0m\u001b[1;36m7\u001b[0m\u001b[1;33m)\u001b[0m\u001b[1;33m[\u001b[0m\u001b[1;36m0\u001b[0m\u001b[1;33m]\u001b[0m\u001b[1;33m\u001b[0m\u001b[1;33m\u001b[0m\u001b[0m\n\u001b[0;32m     77\u001b[0m \u001b[0mprint\u001b[0m\u001b[1;33m(\u001b[0m\u001b[0mneighbours\u001b[0m\u001b[1;33m)\u001b[0m\u001b[1;33m\u001b[0m\u001b[1;33m\u001b[0m\u001b[0m\n\u001b[1;32m---> 78\u001b[1;33m \u001b[0mprint\u001b[0m\u001b[1;33m(\u001b[0m\u001b[0mY_train\u001b[0m\u001b[1;33m[\u001b[0m\u001b[0mneighbours\u001b[0m\u001b[1;33m[\u001b[0m\u001b[1;36m1\u001b[0m\u001b[1;33m]\u001b[0m\u001b[1;33m]\u001b[0m\u001b[1;33m)\u001b[0m\u001b[1;33m\u001b[0m\u001b[1;33m\u001b[0m\u001b[0m\n\u001b[0m",
      "\u001b[1;32m~\\Anaconda3\\lib\\site-packages\\pandas\\core\\series.py\u001b[0m in \u001b[0;36m__getitem__\u001b[1;34m(self, key)\u001b[0m\n\u001b[0;32m   1066\u001b[0m         \u001b[0mkey\u001b[0m \u001b[1;33m=\u001b[0m \u001b[0mcom\u001b[0m\u001b[1;33m.\u001b[0m\u001b[0mapply_if_callable\u001b[0m\u001b[1;33m(\u001b[0m\u001b[0mkey\u001b[0m\u001b[1;33m,\u001b[0m \u001b[0mself\u001b[0m\u001b[1;33m)\u001b[0m\u001b[1;33m\u001b[0m\u001b[1;33m\u001b[0m\u001b[0m\n\u001b[0;32m   1067\u001b[0m         \u001b[1;32mtry\u001b[0m\u001b[1;33m:\u001b[0m\u001b[1;33m\u001b[0m\u001b[1;33m\u001b[0m\u001b[0m\n\u001b[1;32m-> 1068\u001b[1;33m             \u001b[0mresult\u001b[0m \u001b[1;33m=\u001b[0m \u001b[0mself\u001b[0m\u001b[1;33m.\u001b[0m\u001b[0mindex\u001b[0m\u001b[1;33m.\u001b[0m\u001b[0mget_value\u001b[0m\u001b[1;33m(\u001b[0m\u001b[0mself\u001b[0m\u001b[1;33m,\u001b[0m \u001b[0mkey\u001b[0m\u001b[1;33m)\u001b[0m\u001b[1;33m\u001b[0m\u001b[1;33m\u001b[0m\u001b[0m\n\u001b[0m\u001b[0;32m   1069\u001b[0m \u001b[1;33m\u001b[0m\u001b[0m\n\u001b[0;32m   1070\u001b[0m             \u001b[1;32mif\u001b[0m \u001b[1;32mnot\u001b[0m \u001b[0mis_scalar\u001b[0m\u001b[1;33m(\u001b[0m\u001b[0mresult\u001b[0m\u001b[1;33m)\u001b[0m\u001b[1;33m:\u001b[0m\u001b[1;33m\u001b[0m\u001b[1;33m\u001b[0m\u001b[0m\n",
      "\u001b[1;32m~\\Anaconda3\\lib\\site-packages\\pandas\\core\\indexes\\base.py\u001b[0m in \u001b[0;36mget_value\u001b[1;34m(self, series, key)\u001b[0m\n\u001b[0;32m   4728\u001b[0m         \u001b[0mk\u001b[0m \u001b[1;33m=\u001b[0m \u001b[0mself\u001b[0m\u001b[1;33m.\u001b[0m\u001b[0m_convert_scalar_indexer\u001b[0m\u001b[1;33m(\u001b[0m\u001b[0mk\u001b[0m\u001b[1;33m,\u001b[0m \u001b[0mkind\u001b[0m\u001b[1;33m=\u001b[0m\u001b[1;34m\"getitem\"\u001b[0m\u001b[1;33m)\u001b[0m\u001b[1;33m\u001b[0m\u001b[1;33m\u001b[0m\u001b[0m\n\u001b[0;32m   4729\u001b[0m         \u001b[1;32mtry\u001b[0m\u001b[1;33m:\u001b[0m\u001b[1;33m\u001b[0m\u001b[1;33m\u001b[0m\u001b[0m\n\u001b[1;32m-> 4730\u001b[1;33m             \u001b[1;32mreturn\u001b[0m \u001b[0mself\u001b[0m\u001b[1;33m.\u001b[0m\u001b[0m_engine\u001b[0m\u001b[1;33m.\u001b[0m\u001b[0mget_value\u001b[0m\u001b[1;33m(\u001b[0m\u001b[0ms\u001b[0m\u001b[1;33m,\u001b[0m \u001b[0mk\u001b[0m\u001b[1;33m,\u001b[0m \u001b[0mtz\u001b[0m\u001b[1;33m=\u001b[0m\u001b[0mgetattr\u001b[0m\u001b[1;33m(\u001b[0m\u001b[0mseries\u001b[0m\u001b[1;33m.\u001b[0m\u001b[0mdtype\u001b[0m\u001b[1;33m,\u001b[0m \u001b[1;34m\"tz\"\u001b[0m\u001b[1;33m,\u001b[0m \u001b[1;32mNone\u001b[0m\u001b[1;33m)\u001b[0m\u001b[1;33m)\u001b[0m\u001b[1;33m\u001b[0m\u001b[1;33m\u001b[0m\u001b[0m\n\u001b[0m\u001b[0;32m   4731\u001b[0m         \u001b[1;32mexcept\u001b[0m \u001b[0mKeyError\u001b[0m \u001b[1;32mas\u001b[0m \u001b[0me1\u001b[0m\u001b[1;33m:\u001b[0m\u001b[1;33m\u001b[0m\u001b[1;33m\u001b[0m\u001b[0m\n\u001b[0;32m   4732\u001b[0m             \u001b[1;32mif\u001b[0m \u001b[0mlen\u001b[0m\u001b[1;33m(\u001b[0m\u001b[0mself\u001b[0m\u001b[1;33m)\u001b[0m \u001b[1;33m>\u001b[0m \u001b[1;36m0\u001b[0m \u001b[1;32mand\u001b[0m \u001b[1;33m(\u001b[0m\u001b[0mself\u001b[0m\u001b[1;33m.\u001b[0m\u001b[0mholds_integer\u001b[0m\u001b[1;33m(\u001b[0m\u001b[1;33m)\u001b[0m \u001b[1;32mor\u001b[0m \u001b[0mself\u001b[0m\u001b[1;33m.\u001b[0m\u001b[0mis_boolean\u001b[0m\u001b[1;33m(\u001b[0m\u001b[1;33m)\u001b[0m\u001b[1;33m)\u001b[0m\u001b[1;33m:\u001b[0m\u001b[1;33m\u001b[0m\u001b[1;33m\u001b[0m\u001b[0m\n",
      "\u001b[1;32mpandas\\_libs\\index.pyx\u001b[0m in \u001b[0;36mpandas._libs.index.IndexEngine.get_value\u001b[1;34m()\u001b[0m\n",
      "\u001b[1;32mpandas\\_libs\\index.pyx\u001b[0m in \u001b[0;36mpandas._libs.index.IndexEngine.get_value\u001b[1;34m()\u001b[0m\n",
      "\u001b[1;32mpandas\\_libs\\index.pyx\u001b[0m in \u001b[0;36mpandas._libs.index.IndexEngine.get_loc\u001b[1;34m()\u001b[0m\n",
      "\u001b[1;32mpandas\\_libs\\hashtable_class_helper.pxi\u001b[0m in \u001b[0;36mpandas._libs.hashtable.Int64HashTable.get_item\u001b[1;34m()\u001b[0m\n",
      "\u001b[1;32mpandas\\_libs\\hashtable_class_helper.pxi\u001b[0m in \u001b[0;36mpandas._libs.hashtable.Int64HashTable.get_item\u001b[1;34m()\u001b[0m\n",
      "\u001b[1;31mKeyError\u001b[0m: 1"
     ]
    }
   ],
   "source": [
    "import pandas as pd \n",
    "import csv\n",
    "import sys\n",
    "import plotly.express as px\n",
    "\n",
    "###########################\n",
    "## Preparing the primary data set\n",
    "###########################\n",
    "# df = pd.read_csv(\"TF_sequences.txt\",sep='\\t', lineterminator='\\n',header=None)\n",
    "# ## Preparing the X_unseen.txt and X_train.txt data\n",
    "# X_unseen = df.iloc[-30:] #splitting last 30 rows for the X_unseen.txt data \n",
    "# X_unseen.to_csv(\"X_unseen.txt\", sep=\"\\t\", header=False,index=False)\n",
    "# X_train = df.iloc[:-30] #splitting first 120 rows from the sequences\n",
    "# X_train.to_csv(\"X_train.txt\", sep=\"\\t\", header=False,index=False)\n",
    "\n",
    "# ## Preparing the Y_train.txt and Y_validation data\n",
    "# df = pd.read_csv(\"TF_output.txt\",sep='\\t', lineterminator='\\n')\n",
    "# df.rename(columns={\"Vsx1\\r\": \"Vsx1\"},inplace=True) #ughhh faulty column name\n",
    "# Y_validation = df.iloc[:, -30:] \n",
    "# Y_train = df.iloc[:,:-30]\n",
    "# print(Y_train.head(17))\n",
    "# Y_train.to_csv(\"Y_train.txt\", sep=\"\\t\", index=False,float_format='%.4f')\n",
    "# Y_validation.to_csv(\"Y_validation.txt\", sep=\"\\t\", index=False, float_format='%.4f')\n",
    "#####################################################################################\n",
    "\n",
    "\n",
    "# Calculate distance of two given amino acid sequences\n",
    "def CalculateDistance(aminoAcidSeq1, aminoAcidSeq2):\n",
    "    distance = 0\n",
    "    if aminoAcidSeq1[2] != aminoAcidSeq2[2]:\n",
    "        distance+=1\n",
    "    if aminoAcidSeq1[4] != aminoAcidSeq2[4]:\n",
    "        distance+=1\n",
    "    if aminoAcidSeq1[5] != aminoAcidSeq2[5]:\n",
    "        distance+=1\n",
    "    if aminoAcidSeq1[24] != aminoAcidSeq2[24]:\n",
    "        distance+=1\n",
    "    if aminoAcidSeq1[30] != aminoAcidSeq2[30]:\n",
    "        distance+=1\n",
    "    if aminoAcidSeq1[43] != aminoAcidSeq2[43]:\n",
    "        distance+=1\n",
    "    if aminoAcidSeq1[45] != aminoAcidSeq2[45]:\n",
    "        distance+=1\n",
    "    if aminoAcidSeq1[46] != aminoAcidSeq2[46]:\n",
    "        distance+=1\n",
    "    if aminoAcidSeq1[47] != aminoAcidSeq2[47]:\n",
    "        distance+=1\n",
    "    if aminoAcidSeq1[49] != aminoAcidSeq2[49]:\n",
    "        distance+=1\n",
    "    if aminoAcidSeq1[50] != aminoAcidSeq2[50]:\n",
    "        distance+=1\n",
    "    if aminoAcidSeq1[52] != aminoAcidSeq2[52]:\n",
    "        distance+=1\n",
    "    if aminoAcidSeq1[53] != aminoAcidSeq2[53]:\n",
    "        distance+=1\n",
    "    if aminoAcidSeq1[54] != aminoAcidSeq2[54]:\n",
    "        distance+=1\n",
    "    if aminoAcidSeq1[56] != aminoAcidSeq2[56]:\n",
    "        distance+=1\n",
    "    return distance\n",
    "# print(CalculateDistance(\"MLRRAVFSDVQRKALEKTFQKQKYISKPDRKKLASKLGLKDSQVKIWFQNRRMKWRN\",\"RKPRTIYSSYQLAALQRRFQKAQYLALPERAELAAQLGLTQTQVKIWFQNRRSKFKK\"))\n",
    "# print(\"Reading arguments\")\n",
    "for args in sys.argv:\n",
    "    #print(\"test\")\n",
    "    print(str(args))\n",
    "X_train = pd.read_csv(\"X_train.txt\",sep='\\t', lineterminator='\\n',header=None)\n",
    "Y_train = pd.read_csv(\"Y_train.txt\",sep='\\t', lineterminator='\\n')\n",
    "X_unseen = pd.read_csv(\"X_unseen.txt\",sep='\\t',lineterminator='\\n',header=None)\n",
    "\n",
    "#print(X_unseen.iloc[0,1])\n",
    "#print(X_train[1])\n",
    "X_train['Distance'] = X_train.apply (lambda row: CalculateDistance(row[1],X_unseen.iloc[0,1]), axis=1 )\n",
    "#CalculateDistance(X_train[1],X_unseen.iloc[0,1])\n",
    "X_train = X_train.sort_values(by='Distance')\n",
    "print(X_train.head(15)[0])\n",
    "neighbours = X_train.head(7)[0]\n",
    "print(neighbours)\n",
    "print(Y_train[neighbours])\n"
   ]
  },
  {
   "cell_type": "code",
   "execution_count": 11,
   "metadata": {},
   "outputs": [
    {
     "name": "stdout",
     "output_type": "stream",
     "text": [
      "0        1.9671\n",
      "1        0.7052\n",
      "2        0.8587\n",
      "3        2.0252\n",
      "4        1.0965\n",
      "          ...  \n",
      "32891    0.3637\n",
      "32892    1.2662\n",
      "32893    1.9688\n",
      "32894    1.4682\n",
      "32895    3.3496\n",
      "Name: Lhx1, Length: 32896, dtype: float64\n"
     ]
    }
   ],
   "source": [
    "print(Y_train['Lhx1'])"
   ]
  },
  {
   "cell_type": "code",
   "execution_count": null,
   "metadata": {},
   "outputs": [],
   "source": []
  }
 ],
 "metadata": {
  "kernelspec": {
   "display_name": "Python 3",
   "language": "python",
   "name": "python3"
  },
  "language_info": {
   "codemirror_mode": {
    "name": "ipython",
    "version": 3
   },
   "file_extension": ".py",
   "mimetype": "text/x-python",
   "name": "python",
   "nbconvert_exporter": "python",
   "pygments_lexer": "ipython3",
   "version": "3.7.1"
  }
 },
 "nbformat": 4,
 "nbformat_minor": 2
}
